{
 "cells": [
  {
   "cell_type": "markdown",
   "metadata": {},
   "source": [
    "## NEXT2.0 Notebook"
   ]
  },
  {
   "cell_type": "code",
   "execution_count": 1,
   "metadata": {},
   "outputs": [
    {
     "name": "stdout",
     "output_type": "stream",
     "text": [
      "2017-12-06 14:52:42\n"
     ]
    }
   ],
   "source": [
    "import os\n",
    "import datetime\n",
    "print(datetime.datetime.now().strftime('%Y-%m-%d %H:%M:%S'))\n",
    "\n",
    "import time\n",
    "import glob\n",
    "import tables as tb\n",
    "import numpy as np\n",
    "import pandas as pd\n",
    "import matplotlib.pyplot as plt\n",
    "from functools import reduce\n",
    "import numpy.testing as npt\n",
    "from operator import itemgetter, attrgetter\n",
    "%matplotlib inline\n",
    "%load_ext autoreload\n",
    "%autoreload 2\n",
    "\n",
    "plt.rcParams[\"figure.figsize\"] = 10, 8\n",
    "plt.rcParams[\"font.size\"     ] = 14"
   ]
  },
  {
   "cell_type": "code",
   "execution_count": 2,
   "metadata": {
    "collapsed": true
   },
   "outputs": [],
   "source": [
    "from math import sqrt, pi"
   ]
  },
  {
   "cell_type": "code",
   "execution_count": 3,
   "metadata": {
    "collapsed": true
   },
   "outputs": [],
   "source": [
    "from IPython.display import Image"
   ]
  },
  {
   "cell_type": "code",
   "execution_count": 49,
   "metadata": {},
   "outputs": [],
   "source": [
    "import pynext.Next100 as NN\n",
    "import pynext.Material as mat\n",
    "import pynext.Shapes as shp\n",
    "from   pynext.system_of_units import *\n",
    "import pynext.TpcEL as tpcel"
   ]
  },
  {
   "cell_type": "code",
   "execution_count": null,
   "metadata": {
    "collapsed": true
   },
   "outputs": [],
   "source": []
  },
  {
   "cell_type": "code",
   "execution_count": 69,
   "metadata": {},
   "outputs": [],
   "source": [
    "def Next100PV():\n",
    "    L=130*cm\n",
    "    R=52*cm\n",
    "    ts=1*cm\n",
    "    tc=10*cm\n",
    "    Rin=R\n",
    "    Rout=Rin+ts\n",
    "\n",
    "    nxt = shp.CylinderShell(Rin,Rout,L)\n",
    "    print(\"\"\"\n",
    "    Next PV: = {}\n",
    "    \"\"\".format(nxt))\n",
    "\n",
    "    nplt = shp.FlatPlate(R,tc)\n",
    "\n",
    "    print( \"\"\"\n",
    "    Next EndCups = {}\n",
    "    \"\"\".format(nplt))\n",
    "    \n",
    "    s= \"\"\"\n",
    "        Dimensions: (Rin = %7.2f cm, Rout = %7.2f cm, L = %7.2f cm)\n",
    "        Inner Volume  = %7.2f m3  Shell Volume = %7.2e m3\n",
    "        Inner Surface = %7.2f m2; Shell Surface = %7.2f m2\n",
    "        \"\"\"%(nxt.Rin / cm,\n",
    "             nxt.Rout / cm,\n",
    "             nxt.L / cm,\n",
    "             nxt.InnerVolume  / m3,\n",
    "             nxt.ShellVolume  / m3,\n",
    "             nxt.InnerSurface / m2,\n",
    "             nxt.ShellSurface / m2\n",
    "             )\n",
    "    print(s)\n",
    "    \n",
    "    \n",
    "    s= \"\"\"\n",
    "        Disk(R = %7.2f m, t = %7.2f cm, S = %7.2f m2, V = %7.2e m3)\n",
    "        \"\"\"%(nplt.R / m,\n",
    "             nplt.t / cm,\n",
    "             nplt.S / m2,\n",
    "             nplt.V / m3\n",
    "             )\n",
    "    print(s)"
   ]
  },
  {
   "cell_type": "code",
   "execution_count": 70,
   "metadata": {},
   "outputs": [
    {
     "name": "stdout",
     "output_type": "stream",
     "text": [
      "\n",
      "    Next PV: = \n",
      "        CylinderShell(Rin = 5.20e+02, Rout = 5.30e+02, L = 1.30e+03)\n",
      "        Inner Volume  = 1.10e+09; Shell Volume = 4.29e+07\n",
      "        Inner Surface = 4.25e+06; Shell Surface = 4.33e+06\n",
      "        \n",
      "    \n",
      "\n",
      "    Next EndCups = \n",
      "        Disk(R = 5.20e+02, t = 1.00e+02, S = 8.49e+05, V = 8.49e+07)\n",
      "        \n",
      "    \n",
      "\n",
      "        Dimensions: (Rin =   52.00 cm, Rout =   53.00 cm, L =  130.00 cm)\n",
      "        Inner Volume  =    1.10 m3  Shell Volume = 4.29e-02 m3\n",
      "        Inner Surface =    4.25 m2; Shell Surface =    4.33 m2\n",
      "        \n",
      "\n",
      "        Disk(R =    0.52 m, t =   10.00 cm, S =    0.85 m2, V = 8.49e-02 m3)\n",
      "        \n"
     ]
    }
   ],
   "source": [
    "Next100PV()"
   ]
  },
  {
   "cell_type": "code",
   "execution_count": null,
   "metadata": {
    "collapsed": true
   },
   "outputs": [],
   "source": []
  },
  {
   "cell_type": "code",
   "execution_count": null,
   "metadata": {
    "collapsed": true
   },
   "outputs": [],
   "source": []
  },
  {
   "cell_type": "markdown",
   "metadata": {},
   "source": [
    "### Rejection factors etc"
   ]
  },
  {
   "cell_type": "code",
   "execution_count": 5,
   "metadata": {
    "collapsed": true
   },
   "outputs": [],
   "source": [
    "Bi214_RF={0.5:5.6e-7,1.0:1.7e-6,2.0:2.1e-6,3.0:2.5e-6,4.0:2.7e-6}\n",
    "Tl208_RF={0.5:6.1e-7,1.0:1.7e-6,2.0:4.3e-6,3.0:1.4e-5,4.0:4.5e-5}\n",
    "Qbb_Xe136 =2462.0*keV\n",
    "TF= 1./10.\n",
    "R={0.5:0.03,0.9:0.09}"
   ]
  },
  {
   "cell_type": "markdown",
   "metadata": {},
   "source": [
    "### NEW"
   ]
  },
  {
   "cell_type": "markdown",
   "metadata": {},
   "source": [
    "#### NEW dimensions"
   ]
  },
  {
   "cell_type": "code",
   "execution_count": 6,
   "metadata": {},
   "outputs": [
    {
     "name": "stdout",
     "output_type": "stream",
     "text": [
      "NEW: radius = 25.0 cm;  drift = 50.0 cm; sensor surface = 1963.4954084936207 cm2\n",
      "NEW PV: radius = 25.0 cm;  thickness = 2.0 cm; length = 80.0 cm\n"
     ]
    }
   ],
   "source": [
    "D_NEW_FC = 50 * cm\n",
    "R_NEW_FC = D_NEW_FC / 2 \n",
    "L_NEW_FC = 50 * cm\n",
    "S_NEW = pi*(R_NEW_FC)**2\n",
    "\n",
    "D_NEW_PV = 50 * cm\n",
    "R_NEW_PV = D_NEW_PV / 2\n",
    "t_NEW_PV = 2 * cm \n",
    "L_NEW_PV = 80 * cm\n",
    "S_NEW = pi*(R_NEW_FC)**2\n",
    "\n",
    "print('NEW: radius = {} cm;  drift = {} cm; sensor surface = {} cm2'.format(\n",
    "      R_NEW_FC / cm, L_NEW_FC / cm, S_NEW  / cm2))\n",
    "print('NEW PV: radius = {} cm;  thickness = {} cm; length = {} cm'.format(\n",
    "      R_NEW_PV / cm, t_NEW_PV / cm, L_NEW_PV  / cm))"
   ]
  },
  {
   "cell_type": "markdown",
   "metadata": {},
   "source": [
    "#### NEW gas"
   ]
  },
  {
   "cell_type": "code",
   "execution_count": 7,
   "metadata": {},
   "outputs": [
    {
     "name": "stdout",
     "output_type": "stream",
     "text": [
      "\n",
      "        Pressure =  15.00 bar\n",
      "        Fiducial Radius =   25.00 cm  xe Radius =   26.00 cm\n",
      "        Fiducial Length =   50.00 cm  Xe Length =   61.00 cm\n",
      "        \n",
      "        Fiducial Volume =    0.10 m3 Xe Volume =    0.13 m3\n",
      "        Fiducial mass =    8.48 kg Xe mass =   11.19 kg\n",
      "        \n",
      "        Radial buffer radius =    1.00 cm (E/P ~ 2)\n",
      "        Cathode buffer thickness =   10.00 cm   (E/P~1)\n",
      "        Anode buffer thickness =    1.00 cm\n",
      "        \n",
      "        Long buffer Volume =    0.01 m3\n",
      "        Long buffer mass =    0.84 kg\n",
      "        \n",
      "        Cathode buffer Volume =    0.02 m3\n",
      "        Cathode buffer mass =    1.84 kg\n",
      "    \n",
      "        Anode buffer Volume =    0.00 m3\n",
      "        Anode buffer mass =    0.18 kg\n",
      "    \n",
      "        Total buffer Mass =    2.86 kg\n",
      "        Cathode Readout Surface =    0.21 m2\n",
      "    \n"
     ]
    }
   ],
   "source": [
    "xeNEW =NN.AngelXe(R = R_NEW_FC, L = L_NEW_FC , Rb=1*cm, Cb=10*cm, Ab=1*cm, P=15)\n",
    "print(xeNEW)"
   ]
  },
  {
   "cell_type": "markdown",
   "metadata": {},
   "source": [
    "#### NEW can"
   ]
  },
  {
   "cell_type": "code",
   "execution_count": 8,
   "metadata": {},
   "outputs": [
    {
     "name": "stdout",
     "output_type": "stream",
     "text": [
      "\n",
      "        Material = Fe\n",
      "        Inner Radius =   25.00 cm\n",
      "        Outer Radius =   27.00 cm\n",
      "        Length =   80.00 cm\n",
      "        Cathode plate thickness =    2.00 cm\n",
      "        Anode plate thickness =    2.00 cm\n",
      "        Flange thickness =    5.00 cm\n",
      "        \n",
      "        Shell Volume =    0.03 m3\n",
      "        Shell mass =  205.71 kg\n",
      "        Shell activity =   1e+07 c/year\n",
      "        \n",
      "        Cathode plate Volume =    0.00 m3\n",
      "        Cathode plate mass =   36.05 kg\n",
      "        Cathode plate activity =   2e+06 c/year\n",
      "        \n",
      "        Anode plate Volume =    0.00 m3\n",
      "        Anode plate mass =   36.05 kg\n",
      "        Anode plate activity =   2e+06 c/year\n",
      "        \n",
      "        Flange Volume =    0.00 m3\n",
      "        Flange mass =   12.86 kg\n",
      "        Flange activity =   1e+06 c/year\n",
      "        \n",
      "        Can total mass =  277.80 kg\n",
      "        Can total activity = 1.28e+07 counts/year\n",
      "        \n"
     ]
    }
   ],
   "source": [
    "canNEW = NN.AngelCan(Rin=R_NEW_PV, Rout=R_NEW_PV + t_NEW_PV, L=L_NEW_PV, Cp=t_NEW_PV, Ap=t_NEW_PV,\n",
    "                 cplateType='Flat', aplateType='Flat',\n",
    "                 FlangeRin=R_NEW_PV, FlangeRout=R_NEW_PV + t_NEW_PV, FlangeT=5*cm, Mat='Fe')\n",
    "print(canNEW)"
   ]
  },
  {
   "cell_type": "markdown",
   "metadata": {},
   "source": [
    "#### NEW EL"
   ]
  },
  {
   "cell_type": "code",
   "execution_count": 18,
   "metadata": {},
   "outputs": [
    {
     "name": "stdout",
     "output_type": "stream",
     "text": [
      "\n",
      "        E/P =    1.30 kV * cm^-1* bar^-1\n",
      "        E/P min =    1.50 kV * cm^-1* bar^-1\n",
      "        dV = drift voltage =    0.40 kV * cm^-1\n",
      "        P  = pressure =   15.00 bar\n",
      "        d  = EL grid gap =    6.00 mm\n",
      "        L  = drift lenght =   0.50 m\n",
      "        Grid voltage =   11.70 kV\n",
      "        Cathode voltage =   31.70 kV\n",
      "        Yield =  5.94e+02 photons/e\n",
      "        Yield at EPmin =  8.46e+02 photons/e\n",
      "        Buffer length =     1.4 cm\n",
      "        dE/dx =  2.21e+01 electrons/cm\n",
      "        dG/dx =  1.31e+04 photons/cm\n",
      "    \n",
      "        Primary scintillation photons per MeV = 1.3158e+04\n",
      "        Primary ionization electrons per MeV = 4.0323e+04\n",
      "        \n"
     ]
    }
   ],
   "source": [
    "newEL = NN.AngelEL(EP=1.3*kilovolt/(cm*bar),\n",
    "                 dV=0.4*kilovolt/cm,\n",
    "                 P=15*bar,\n",
    "                 d=6*mm,\n",
    "                 L=L_NEW_FC,\n",
    "                 EPmin=1.5*kilovolt/(cm*bar))\n",
    "print(newEL)"
   ]
  },
  {
   "cell_type": "markdown",
   "metadata": {},
   "source": [
    "#### NEW energy plane"
   ]
  },
  {
   "cell_type": "code",
   "execution_count": 10,
   "metadata": {},
   "outputs": [
    {
     "name": "stdout",
     "output_type": "stream",
     "text": [
      "\n",
      "        PMT name = R1141\n",
      "        Gain = 1.00e+06\n",
      "        I single electron response iSER =    0.00 milliampere\n",
      "        V single electron response vSER =    0.10 millivolt\n",
      "        filter raise time = 1.00e+01 nanoseconds\n",
      "        V single electron response after RC filter =    0.24 millivolt\n",
      "        V single electron response after RC filter (amplified) =    2.40 millivolt\n",
      "        PMT Diameter =    7.50 cm\n",
      "        PMT Surface =   44.18 cm2\n",
      "        PMT QE =    0.30\n",
      "        U activity =    3.00 mBq\n",
      "        Th activity =    2.00 mBq\n",
      "        \n",
      "\n",
      "        PMT name = R1141\n",
      "        PMT QE =    0.30\n",
      "        PMT Diameter =    7.50 cm\n",
      "        PMT Surface =   44.18 cm2\n",
      "        PMT Window refraction indez =    1.50\n",
      "        Optical Window refraction indez =    1.60\n",
      "        Optical Transmittance =    0.59\n",
      "        nof PMT (coverage=   0.35) =      17\n",
      "        \n",
      "        Activity = 1.58e+05 c/year\n",
      "        \n"
     ]
    }
   ],
   "source": [
    "r1141=NN.PMT(name='R1141',gain=1e+6,D=3*2.5*cm, serFWHM=25*ns,filterRT=50*ohm*200*pF,ampliGain=10,\n",
    "          QE=0.3,AU=3*becquerel*1e-3,ATh=2*becquerel*1e-3)\n",
    "\n",
    "print(r1141)\n",
    "\n",
    "newEP =NN.AngelPMT(r1141,xeNEW,coverage=0.35,n1=1.5,n2=1.6)\n",
    "print(newEP)"
   ]
  },
  {
   "cell_type": "markdown",
   "metadata": {},
   "source": [
    "#### NEW tracking plane"
   ]
  },
  {
   "cell_type": "code",
   "execution_count": 11,
   "metadata": {},
   "outputs": [
    {
     "name": "stdout",
     "output_type": "stream",
     "text": [
      "\n",
      "        SiPM name = Hamamatsu\n",
      "        SiPM size =    1.00 mm\n",
      "        SiPM Surface =    1.00 mm2\n",
      "        SiPM QE =    0.50\n",
      "        SiPM TPB eff =    0.50\n",
      "        SiPM global PDE =    0.25\n",
      "        U activity =    0.30 muBq\n",
      "        Th activity =    0.30 muBq\n",
      "        \n",
      "\n",
      "        SiPM QE =    0.50\n",
      "        SiPM PDE =    0.25\n",
      "        SiPM size =    1.00 mm\n",
      "        SiPM Pitch =   10.00 mm\n",
      "        Linear Packing factor =    0.10\n",
      "        Detection Surface =    0.17 m2\n",
      "        SiPM Surface =  0.0017 m2\n",
      "        Coverage =    0.01\n",
      "        nof SiPM = 1.7e+03\n",
      "        nof ASIC =      26\n",
      "        nof PDM =      66\n",
      "        \n"
     ]
    }
   ],
   "source": [
    "sipm = NN.SiPM(name='Hamamatsu',L=1.0*mm, QE=0.5,TPB=0.5, AU=3*becquerel*1e-7,ATh=3*becquerel*1e-7)\n",
    "print(sipm)\n",
    "\n",
    "newTP= NN.AngelSiPM(sipm,newEL,Surface=pi*(46 * cm/2)**2,pitch=1.0*cm)\n",
    "print(newTP)"
   ]
  },
  {
   "cell_type": "markdown",
   "metadata": {},
   "source": [
    "##### NEW object"
   ]
  },
  {
   "cell_type": "code",
   "execution_count": 12,
   "metadata": {},
   "outputs": [
    {
     "name": "stdout",
     "output_type": "stream",
     "text": [
      "\n",
      "        Optical Gain = 1.05e+03\n",
      "        Solid Angle  = 2.28e-02\n",
      "        ScintillationSolidAngle = 2.28e-01\n",
      "        ELSolidAngle = 2.28e-02\n",
      "        Scintillation Photons/MeV = 1.32e+04\n",
      "        Scintillation Reaching Cathode/MeV = 2.99e+03\n",
      "        Scintillation Photoelectrons/MeV = 1.57e+02\n",
      "                   EL Photons/MeV = 4.25e+07\n",
      "                   EL Reaching Cathode/MeV = 9.66e+05\n",
      "                   EL Photoelectrons/MeV = 2.20e+05\n",
      "                   EL pe/electron = 1.26e+00\n",
      "\n",
      "        Background rate (c/(keV*kg*year) = 1.05e-02\n",
      "        \n"
     ]
    }
   ],
   "source": [
    "new = NN.ANGEL(xeNEW,canNEW,newEP,newEL,newTP)\n",
    "print(new)"
   ]
  },
  {
   "cell_type": "markdown",
   "metadata": {},
   "source": [
    "#### Number of photons and pes for Kr"
   ]
  },
  {
   "cell_type": "code",
   "execution_count": 13,
   "metadata": {},
   "outputs": [
    {
     "data": {
      "text/plain": [
       "119.78953148676365"
      ]
     },
     "execution_count": 13,
     "metadata": {},
     "output_type": "execute_result"
    }
   ],
   "source": [
    "new.ScintillationReachingCathode(40 * keV)"
   ]
  },
  {
   "cell_type": "code",
   "execution_count": 14,
   "metadata": {},
   "outputs": [
    {
     "data": {
      "text/plain": [
       "6.282406229898946"
      ]
     },
     "execution_count": 14,
     "metadata": {},
     "output_type": "execute_result"
    }
   ],
   "source": [
    "new.ScintillationPhotoelectrons(40 * keV)"
   ]
  },
  {
   "cell_type": "code",
   "execution_count": 15,
   "metadata": {},
   "outputs": [
    {
     "data": {
      "text/plain": [
       "38655.308975091604"
      ]
     },
     "execution_count": 15,
     "metadata": {},
     "output_type": "execute_result"
    }
   ],
   "source": [
    "new.ELReachingCathode(40 * keV)"
   ]
  },
  {
   "cell_type": "code",
   "execution_count": 16,
   "metadata": {},
   "outputs": [
    {
     "data": {
      "text/plain": [
       "8797.952568044395"
      ]
     },
     "execution_count": 16,
     "metadata": {},
     "output_type": "execute_result"
    }
   ],
   "source": [
    "new.ELPhotoelectrons(40 * keV)"
   ]
  },
  {
   "cell_type": "code",
   "execution_count": 17,
   "metadata": {},
   "outputs": [
    {
     "data": {
      "text/plain": [
       "0.014099282961609607"
      ]
     },
     "execution_count": 17,
     "metadata": {},
     "output_type": "execute_result"
    }
   ],
   "source": [
    "new.ELPhotoelectrons(5 * keV) / 78000"
   ]
  },
  {
   "cell_type": "code",
   "execution_count": 18,
   "metadata": {},
   "outputs": [
    {
     "data": {
      "text/plain": [
       "7.049641480804803"
      ]
     },
     "execution_count": 18,
     "metadata": {},
     "output_type": "execute_result"
    }
   ],
   "source": [
    "new.ELPhotoelectrons(2500 * keV) /78000"
   ]
  },
  {
   "cell_type": "markdown",
   "metadata": {},
   "source": [
    "### NEXT"
   ]
  },
  {
   "cell_type": "code",
   "execution_count": 19,
   "metadata": {},
   "outputs": [
    {
     "name": "stdout",
     "output_type": "stream",
     "text": [
      "NEW: radius = 52.5 cm;  drift = 130.0 cm; sensor surface = 8659.014751456867 cm2\n",
      "NEW PV: radius = 60.0 cm;  thickness = 2.0 cm; length = 150.0 cm\n"
     ]
    }
   ],
   "source": [
    "D_NEXT_FC = 105 * cm\n",
    "R_NEXT_FC = D_NEXT_FC / 2 \n",
    "L_NEXT_FC = 130 * cm\n",
    "S_NEXT = pi*(R_NEXT_FC)**2\n",
    "\n",
    "D_NEXT_PV = 120 * cm\n",
    "R_NEXT_PV = D_NEXT_PV / 2\n",
    "t_NEXT_PV = 2 * cm \n",
    "L_NEXT_PV = 150 * cm\n",
    "S_NEXT = pi*(R_NEXT_FC)**2\n",
    "\n",
    "print('NEW: radius = {} cm;  drift = {} cm; sensor surface = {} cm2'.format(\n",
    "      R_NEXT_FC / cm, L_NEXT_FC / cm, S_NEXT  / cm2))\n",
    "print('NEW PV: radius = {} cm;  thickness = {} cm; length = {} cm'.format(\n",
    "      R_NEXT_PV / cm, t_NEXT_PV / cm, L_NEXT_PV  / cm))"
   ]
  },
  {
   "cell_type": "markdown",
   "metadata": {},
   "source": [
    "#### NEXT gas"
   ]
  },
  {
   "cell_type": "code",
   "execution_count": 20,
   "metadata": {},
   "outputs": [
    {
     "name": "stdout",
     "output_type": "stream",
     "text": [
      "\n",
      "        Pressure =  30.00 bar\n",
      "        Fiducial Radius =   52.50 cm  xe Radius =   53.50 cm\n",
      "        Fiducial Length =  130.00 cm  Xe Length =  141.00 cm\n",
      "        \n",
      "        Fiducial Volume =    1.13 m3 Xe Volume =    1.27 m3\n",
      "        Fiducial mass =  194.55 kg Xe mass =  219.13 kg\n",
      "        \n",
      "        Radial buffer radius =    1.00 cm (E/P ~ 2)\n",
      "        Cathode buffer thickness =   10.00 cm   (E/P~1)\n",
      "        Anode buffer thickness =    1.00 cm\n",
      "        \n",
      "        Long buffer Volume =    0.05 m3\n",
      "        Long buffer mass =    8.12 kg\n",
      "        \n",
      "        Cathode buffer Volume =    0.09 m3\n",
      "        Cathode buffer mass =   15.54 kg\n",
      "    \n",
      "        Anode buffer Volume =    0.01 m3\n",
      "        Anode buffer mass =    1.55 kg\n",
      "    \n",
      "        Total buffer Mass =   25.21 kg\n",
      "        Cathode Readout Surface =    0.90 m2\n",
      "    \n"
     ]
    }
   ],
   "source": [
    "xeNEXT =NN.AngelXe(R = R_NEXT_FC, L = L_NEXT_FC , Rb=1*cm, Cb=10*cm, Ab=1*cm, P=30)\n",
    "print(xeNEXT)"
   ]
  },
  {
   "cell_type": "markdown",
   "metadata": {},
   "source": [
    "#### NEXT EL"
   ]
  },
  {
   "cell_type": "code",
   "execution_count": 21,
   "metadata": {},
   "outputs": [
    {
     "name": "stdout",
     "output_type": "stream",
     "text": [
      "\n",
      "        E/P =    1.80 kV * cm^-1* bar^-1\n",
      "        E/P min =    1.50 kV * cm^-1* bar^-1\n",
      "        dV = drift voltage =    0.30 kV * cm^-1\n",
      "        P  = pressure =   15.00 bar\n",
      "        d  = EL grid gap =    5.00 mm\n",
      "        L  = drift lenght =   1.30 m\n",
      "        Grid voltage =   13.50 kV\n",
      "        Cathode voltage =   52.50 kV\n",
      "        Yield =  1.02e+03 photons/e\n",
      "        Yield at EPmin =  7.05e+02 photons/e\n",
      "        Buffer length =     2.3 cm\n",
      "        dE/dx =  2.21e+01 electrons/cm\n",
      "        dG/dx =  2.25e+04 photons/cm\n",
      "    \n",
      "        Primary scintillation photons per MeV = 1.3158e+04\n",
      "        Primary ionization electrons per MeV = 4.0323e+04\n",
      "        \n"
     ]
    }
   ],
   "source": [
    "elNEXT = NN.AngelEL(EP=1.8*kilovolt/(cm*bar),\n",
    "                 dV=0.3*kilovolt/cm,\n",
    "                 P=15*bar,\n",
    "                 d=5*mm,\n",
    "                 L=L_NEXT_FC,\n",
    "                 EPmin=1.5*kilovolt/(cm*bar))\n",
    "print(elNEXT)"
   ]
  },
  {
   "cell_type": "markdown",
   "metadata": {},
   "source": [
    "#### NEXT energy plane"
   ]
  },
  {
   "cell_type": "code",
   "execution_count": 22,
   "metadata": {},
   "outputs": [
    {
     "name": "stdout",
     "output_type": "stream",
     "text": [
      "\n",
      "        SiPM name = Hamamatsu\n",
      "        SiPM size =   10.00 mm\n",
      "        SiPM Surface =  100.00 mm2\n",
      "        SiPM QE =    0.50\n",
      "        SiPM TPB eff =    0.50\n",
      "        SiPM global PDE =    0.25\n",
      "        U activity =    3.00 muBq\n",
      "        Th activity =    3.00 muBq\n",
      "        \n"
     ]
    }
   ],
   "source": [
    "sipm_EP = NN.SiPM(name='Hamamatsu',L=10*mm, QE=0.5,TPB=0.5, AU=3*becquerel*1e-6,ATh=3*becquerel*1e-6)\n",
    "print(sipm_EP)"
   ]
  },
  {
   "cell_type": "code",
   "execution_count": 23,
   "metadata": {},
   "outputs": [
    {
     "name": "stdout",
     "output_type": "stream",
     "text": [
      "\n",
      "        SiPM QE =    0.50\n",
      "        SiPM PDE =    0.25\n",
      "        SiPM size =   10.00 mm\n",
      "        SiPM Pitch =   11.00 mm\n",
      "        Linear Packing factor =    0.91\n",
      "        Detection Surface =    0.87 m2\n",
      "        SiPM Surface =    0.72 m2\n",
      "        Coverage =    0.83\n",
      "        nof SiPM = 7.2e+03\n",
      "        nof ASIC = 1.1e+02\n",
      "        nof PDM = 2.9e+02\n",
      "        \n"
     ]
    }
   ],
   "source": [
    "epNEXT= NN.AngelSiPM(sipm_EP, elNEXT, Surface=S_NEXT, pitch=11*mm)\n",
    "print(epNEXT)"
   ]
  },
  {
   "cell_type": "code",
   "execution_count": 24,
   "metadata": {},
   "outputs": [
    {
     "name": "stdout",
     "output_type": "stream",
     "text": [
      "\n",
      "        SiPM name = Hamamatsu\n",
      "        SiPM size =    1.00 mm\n",
      "        SiPM Surface =    1.00 mm2\n",
      "        SiPM QE =    0.50\n",
      "        SiPM TPB eff =    0.50\n",
      "        SiPM global PDE =    0.25\n",
      "        U activity =    0.30 muBq\n",
      "        Th activity =    0.30 muBq\n",
      "        \n"
     ]
    }
   ],
   "source": [
    "sipm_TP = NN.SiPM(name='Hamamatsu',L=1*mm, QE=0.5,TPB=0.5, AU=3*becquerel*1e-7,ATh=3*becquerel*1e-7)\n",
    "print(sipm_TP)"
   ]
  },
  {
   "cell_type": "code",
   "execution_count": 25,
   "metadata": {},
   "outputs": [
    {
     "name": "stdout",
     "output_type": "stream",
     "text": [
      "\n",
      "        SiPM QE =    0.50\n",
      "        SiPM PDE =    0.25\n",
      "        SiPM size =    1.00 mm\n",
      "        SiPM Pitch =   11.00 mm\n",
      "        Linear Packing factor =    0.09\n",
      "        Detection Surface =    0.87 m2\n",
      "        SiPM Surface =  0.0072 m2\n",
      "        Coverage =  0.0083\n",
      "        nof SiPM = 7.2e+03\n",
      "        nof ASIC = 1.1e+02\n",
      "        nof PDM = 2.9e+02\n",
      "        \n"
     ]
    }
   ],
   "source": [
    "tpNEXT= NN.AngelSiPM(sipm_TP, elNEXT, Surface=S_NEXT, pitch=11*mm)\n",
    "print(tpNEXT)"
   ]
  },
  {
   "cell_type": "code",
   "execution_count": 26,
   "metadata": {
    "collapsed": true
   },
   "outputs": [],
   "source": [
    "lar_to_gxe = 1.5/0.125"
   ]
  },
  {
   "cell_type": "code",
   "execution_count": 27,
   "metadata": {},
   "outputs": [
    {
     "name": "stdout",
     "output_type": "stream",
     "text": [
      "liquid argon to xenon factor = 12.0\n"
     ]
    }
   ],
   "source": [
    "print('liquid argon to xenon factor = {}'.format(lar_to_gxe))"
   ]
  },
  {
   "cell_type": "markdown",
   "metadata": {},
   "source": [
    "### NEXT-200"
   ]
  },
  {
   "cell_type": "markdown",
   "metadata": {},
   "source": [
    "#### Dimensions"
   ]
  },
  {
   "cell_type": "code",
   "execution_count": 67,
   "metadata": {},
   "outputs": [
    {
     "name": "stdout",
     "output_type": "stream",
     "text": [
      "NEXT200: radius = 52.5 cm;  drift = 150.0 cm; sensor surface = 0.8659014751456867 m2\n"
     ]
    }
   ],
   "source": [
    "PN2 = 30\n",
    "D_N2_FC = 105 * cm\n",
    "R_N2_FC = D_N2_FC / 2 \n",
    "L_N2_FC = 150 * cm\n",
    "S_N2    = pi*(R_N2_FC)**2\n",
    "\n",
    "D_N2_PV = 110 * cm\n",
    "R_N2_PV = D_N2_PV / 2\n",
    "t_N2_PV = 5 * cm \n",
    "L_N2_PV = 160 * cm\n",
    "S_N2 = pi*(R_N2_FC)**2\n",
    "\n",
    "print('NEXT200: radius = {} cm;  drift = {} cm; sensor surface = {} m2'.format(\n",
    "      R_N2_FC / cm, L_N2_FC / cm, S_N2  / m2))"
   ]
  },
  {
   "cell_type": "markdown",
   "metadata": {},
   "source": [
    "#### Xenon"
   ]
  },
  {
   "cell_type": "code",
   "execution_count": 68,
   "metadata": {},
   "outputs": [
    {
     "name": "stdout",
     "output_type": "stream",
     "text": [
      "\n",
      "        Pressure =  30.00 bar\n",
      "        Fiducial Radius =   52.50 cm  xe Radius =   53.50 cm\n",
      "        Fiducial Length =  150.00 cm  Xe Length =  153.00 cm\n",
      "        \n",
      "        Fiducial Volume =    1.30 m3 Xe Volume =    1.38 m3\n",
      "        Fiducial mass =  224.48 kg Xe mass =  237.78 kg\n",
      "        \n",
      "        Radial buffer radius =    1.00 cm (E/P ~ 2)\n",
      "        Cathode buffer thickness =    2.00 cm   (E/P~1)\n",
      "        Anode buffer thickness =    1.00 cm\n",
      "        \n",
      "        Long buffer Volume =    0.05 m3\n",
      "        Long buffer mass =    8.81 kg\n",
      "        \n",
      "        Cathode buffer Volume =    0.02 m3\n",
      "        Cathode buffer mass =    3.11 kg\n",
      "    \n",
      "        Anode buffer Volume =    0.01 m3\n",
      "        Anode buffer mass =    1.55 kg\n",
      "    \n",
      "        Total buffer Mass =   13.47 kg\n",
      "        Cathode Readout Surface =    0.90 m2\n",
      "    \n"
     ]
    }
   ],
   "source": [
    "xeN2 =NN.AngelXe(R=R_N2_FC, L=L_N2_FC, Rb=1*cm, Cb=2*cm, Ab=1*cm, P=PN2)\n",
    "print(xeN2)"
   ]
  },
  {
   "cell_type": "markdown",
   "metadata": {},
   "source": [
    "#### Can"
   ]
  },
  {
   "cell_type": "code",
   "execution_count": 69,
   "metadata": {},
   "outputs": [
    {
     "name": "stdout",
     "output_type": "stream",
     "text": [
      "\n",
      "        Material = Fe\n",
      "        Inner Radius =   55.00 cm\n",
      "        Outer Radius =  110.00 cm\n",
      "        Length =  160.00 cm\n",
      "        Cathode plate thickness =  160.00 cm\n",
      "        Anode plate thickness =  160.00 cm\n",
      "        Flange thickness =   60.00 cm\n",
      "        \n",
      "        Shell Volume =    4.56 m3\n",
      "        Shell mass = 35899.73 kg\n",
      "        Shell activity =   2e+08 c/year\n",
      "        \n",
      "        Cathode plate Volume =    6.08 m3\n",
      "        Cathode plate mass = 47866.31 kg\n",
      "        Cathode plate activity =   6e+07 c/year\n",
      "        \n",
      "        Anode plate Volume =    6.08 m3\n",
      "        Anode plate mass = 47866.31 kg\n",
      "        Anode plate activity =   6e+07 c/year\n",
      "        \n",
      "        Flange Volume =    0.11 m3\n",
      "        Flange mass =  852.99 kg\n",
      "        Flange activity =   3e+07 c/year\n",
      "        \n",
      "        Can total mass = 131632.36 kg\n",
      "        Can total activity = 2.87e+08 counts/year\n",
      "        \n"
     ]
    }
   ],
   "source": [
    "canN2 = NN.AngelCan(Rin=R_N2_PV, Rout=R_N2_PV + R_N2_PV , L=L_N2_PV, Cp=L_N2_PV, Ap=L_N2_PV,\n",
    "                 cplateType='Flat', aplateType='Flat',\n",
    "                 FlangeRin=R_N2_PV, FlangeRout=R_N2_PV + t_N2_PV, FlangeT=R_N2_PV + t_N2_PV, Mat='Fe')\n",
    "print(canN2)"
   ]
  },
  {
   "cell_type": "markdown",
   "metadata": {},
   "source": [
    "#### EL"
   ]
  },
  {
   "cell_type": "code",
   "execution_count": 70,
   "metadata": {},
   "outputs": [
    {
     "name": "stdout",
     "output_type": "stream",
     "text": [
      "\n",
      "        E/P =    1.50 kV * cm^-1* bar^-1\n",
      "        E/P min =    1.00 kV * cm^-1* bar^-1\n",
      "        dV = drift voltage =    0.30 kV * cm^-1\n",
      "        P  = pressure =   30.00 bar\n",
      "        d  = EL grid gap =    5.00 mm\n",
      "        L  = drift lenght =   0.75 m\n",
      "        Grid voltage =   22.50 kV\n",
      "        Cathode voltage =   45.00 kV\n",
      "        Yield =  1.41e+03 photons/e\n",
      "        Yield at EPmin =  3.60e+02 photons/e\n",
      "        Buffer length =     1.5 cm\n",
      "        dE/dx =  1.10e+01 electrons/cm\n",
      "        dG/dx =  1.56e+04 photons/cm\n",
      "    \n",
      "        Primary scintillation photons per MeV = 1.3158e+04\n",
      "        Primary ionization electrons per MeV = 4.0323e+04\n",
      "        \n"
     ]
    }
   ],
   "source": [
    "elN2 = NN.AngelEL(EP=1.5*kilovolt/(cm*bar),\n",
    "                 dV=0.3*kilovolt/cm,\n",
    "                 P=PN2*bar,\n",
    "                 d=5*mm,\n",
    "                 L=L_N2_FC / 2,\n",
    "                 EPmin=1.0*kilovolt/(cm*bar))\n",
    "print(elN2)"
   ]
  },
  {
   "cell_type": "markdown",
   "metadata": {
    "collapsed": true
   },
   "source": [
    "#### Energy plane"
   ]
  },
  {
   "cell_type": "code",
   "execution_count": 71,
   "metadata": {},
   "outputs": [
    {
     "name": "stdout",
     "output_type": "stream",
     "text": [
      "\n",
      "        SiPM name = Hamamatsu\n",
      "        SiPM size =   10.00 mm\n",
      "        SiPM Surface =  100.00 mm2\n",
      "        SiPM QE =    0.50\n",
      "        SiPM TPB eff =    0.50\n",
      "        SiPM global PDE =    0.25\n",
      "        U activity =    0.00 muBq\n",
      "        Th activity =    0.00 muBq\n",
      "        \n",
      "\n",
      "        SiPM QE =    0.50\n",
      "        SiPM PDE =    0.25\n",
      "        SiPM size =   10.00 mm\n",
      "        SiPM Pitch =   11.00 mm\n",
      "        Linear Packing factor =    0.91\n",
      "        Detection Surface =    0.87 m2\n",
      "        SiPM Surface =    0.72 m2\n",
      "        Coverage =    0.83\n",
      "        nof SiPM = 7.2e+03\n",
      "        nof ASIC = 1.1e+02\n",
      "        nof PDM = 2.9e+02\n",
      "        \n"
     ]
    }
   ],
   "source": [
    "sipm_EP = NN.SiPM(name='Hamamatsu',L=10*mm, QE=0.5,TPB=0.5, AU=3*becquerel*1e-9,ATh=3*becquerel*1e-9)\n",
    "print(sipm_EP)\n",
    "ep_N2= NN.AngelSiPM(sipm_EP, elN2, Surface=S_N2, pitch=11*mm, asic=64, pdm=25)\n",
    "print(ep_N2)"
   ]
  },
  {
   "cell_type": "markdown",
   "metadata": {},
   "source": [
    "#### Tracking plane"
   ]
  },
  {
   "cell_type": "code",
   "execution_count": 72,
   "metadata": {},
   "outputs": [
    {
     "name": "stdout",
     "output_type": "stream",
     "text": [
      "\n",
      "        SiPM name = Hamamatsu\n",
      "        SiPM size =    1.00 mm\n",
      "        SiPM Surface =    1.00 mm2\n",
      "        SiPM QE =    0.50\n",
      "        SiPM TPB eff =    0.50\n",
      "        SiPM global PDE =    0.25\n",
      "        U activity =    0.30 muBq\n",
      "        Th activity =    0.30 muBq\n",
      "        \n"
     ]
    }
   ],
   "source": [
    "sipm_TP = NN.SiPM(name='Hamamatsu',L=1*mm, QE=0.5,TPB=0.5, AU=3*becquerel*1e-7,ATh=3*becquerel*1e-7)\n",
    "print(sipm_TP)"
   ]
  },
  {
   "cell_type": "code",
   "execution_count": 73,
   "metadata": {},
   "outputs": [
    {
     "name": "stdout",
     "output_type": "stream",
     "text": [
      "\n",
      "        SiPM QE =    0.50\n",
      "        SiPM PDE =    0.25\n",
      "        SiPM size =    1.00 mm\n",
      "        SiPM Pitch =   10.00 mm\n",
      "        Linear Packing factor =    0.10\n",
      "        Detection Surface =    0.87 m2\n",
      "        SiPM Surface =  0.0087 m2\n",
      "        Coverage =    0.01\n",
      "        nof SiPM = 8.7e+03\n",
      "        nof ASIC = 1.4e+02\n",
      "        nof PDM = 8.7e+03\n",
      "        \n"
     ]
    }
   ],
   "source": [
    "tp_N2= NN.AngelSiPM(sipm_TP, elN2, Surface=S_N2, pitch=10*mm, asic=64, pdm=1)\n",
    "print(tp_N2)"
   ]
  },
  {
   "cell_type": "code",
   "execution_count": 75,
   "metadata": {},
   "outputs": [
    {
     "name": "stdout",
     "output_type": "stream",
     "text": [
      "\n",
      "        Optical Gain = 1.41e+03\n",
      "        Solid Angle  = 2.49e-02\n",
      "        ScintillationSolidAngle = 2.49e-01\n",
      "        ELSolidAngle = 2.49e-02\n",
      "        Scintillation Photons/MeV = 1.32e+04\n",
      "        Scintillation Reaching Cathode/MeV = 3.28e+03\n",
      "        Scintillation Photoelectrons/MeV = 6.78e+02\n",
      "                   EL Photons/MeV = 5.69e+07\n",
      "                   EL Reaching Cathode/MeV = 1.42e+06\n",
      "                   EL Photoelectrons/MeV = 2.93e+05\n",
      "                   EL pe/electron = 7.26e+00\n",
      "\n",
      "        Background rate (c/(keV*kg*year) = 8.82e-03\n",
      "        \n"
     ]
    }
   ],
   "source": [
    "N200 = NN.NausicaAngel(xeN2,canN2,elN2,ep_N2,tp_N2)\n",
    "print(N200)"
   ]
  },
  {
   "cell_type": "code",
   "execution_count": 76,
   "metadata": {},
   "outputs": [
    {
     "name": "stdout",
     "output_type": "stream",
     "text": [
      "131.1645682421022\n",
      "27.10011740539301\n",
      "0.003763905195193474\n",
      "56675.786825901894\n",
      "11709.873311136753\n",
      "1.626371293213438\n",
      "1693.757337837063\n",
      "0.23524407469959208\n",
      "101.64820582583988\n"
     ]
    }
   ],
   "source": [
    "print(N200.ScintillationReachingCathode(40 * keV))\n",
    "print(N200.ScintillationPhotoelectrons(40 * keV))\n",
    "print(N200.ScintillationPhotoelectrons(40 * keV) / nof_esipm)\n",
    "print(N200.ELReachingCathode(40 * keV))\n",
    "print(N200.ELPhotoelectrons(40 * keV))\n",
    "print(N200.ELPhotoelectrons(40 * keV) / nof_esipm)\n",
    "print(N200.ScintillationPhotoelectrons(2500 * keV))\n",
    "print(N200.ScintillationPhotoelectrons(2500 * keV) / nof_esipm)\n",
    "print(N200.ELPhotoelectrons(2500 * keV) /nof_esipm)"
   ]
  },
  {
   "cell_type": "markdown",
   "metadata": {},
   "source": [
    "### NEXT2.0"
   ]
  },
  {
   "cell_type": "markdown",
   "metadata": {},
   "source": [
    "#### gas dimensions"
   ]
  },
  {
   "cell_type": "code",
   "execution_count": 77,
   "metadata": {},
   "outputs": [
    {
     "name": "stdout",
     "output_type": "stream",
     "text": [
      "NEXT2.0: radius = 150.0 cm;  drift = 300.0 cm; sensor surface = 7.0685834705770345 m2\n"
     ]
    }
   ],
   "source": [
    "P = 10\n",
    "D_N2T_FC = 300 * cm\n",
    "L_N2T_FC = 300 * cm\n",
    "t_gas_buffer = 1 * cm\n",
    "n2tf = shp.Cylinder(D_N2T_FC/2, L_N2T_FC)\n",
    "\n",
    "print('NEXT2.0: radius = {} cm;  drift = {} cm; sensor surface = {} m2'.format(\n",
    "     n2tf.R / cm, n2tf.L / cm, n2tf.SurfaceArea  / m2))"
   ]
  },
  {
   "cell_type": "markdown",
   "metadata": {},
   "source": [
    "#### Xe gas volume in Field Cage: P = 20 bar is equivalent to T = -75 C y P = 0.8 bar (same density)"
   ]
  },
  {
   "cell_type": "code",
   "execution_count": 78,
   "metadata": {
    "collapsed": true
   },
   "outputs": [],
   "source": [
    "xeN20 =NN.AngelXe(R=D_N2T_FC/2, L=L_N2T_FC , Rb=1*cm, Cb=1*cm, Ab=1*cm, P=P)"
   ]
  },
  {
   "cell_type": "code",
   "execution_count": 79,
   "metadata": {},
   "outputs": [
    {
     "name": "stdout",
     "output_type": "stream",
     "text": [
      "\n",
      "        Pressure =  10.00 bar\n",
      "        Fiducial Radius =  150.00 cm  xe Radius =  151.00 cm\n",
      "        Fiducial Length =  300.00 cm  Xe Length =  302.00 cm\n",
      "        \n",
      "        Fiducial Volume =   21.21 m3 Xe Volume =   21.63 m3\n",
      "        Fiducial mass = 1221.66 kg Xe mass = 1246.26 kg\n",
      "        \n",
      "        Radial buffer radius =    1.00 cm (E/P ~ 2)\n",
      "        Cathode buffer thickness =    1.00 cm   (E/P~1)\n",
      "        Anode buffer thickness =    1.00 cm\n",
      "        \n",
      "        Long buffer Volume =    0.29 m3\n",
      "        Long buffer mass =   16.45 kg\n",
      "        \n",
      "        Cathode buffer Volume =    0.07 m3\n",
      "        Cathode buffer mass =    4.13 kg\n",
      "    \n",
      "        Anode buffer Volume =    0.07 m3\n",
      "        Anode buffer mass =    4.13 kg\n",
      "    \n",
      "        Total buffer Mass =   24.71 kg\n",
      "        Cathode Readout Surface =    7.16 m2\n",
      "    \n"
     ]
    }
   ],
   "source": [
    "print(xeN20)"
   ]
  },
  {
   "cell_type": "markdown",
   "metadata": {},
   "source": [
    "####  can"
   ]
  },
  {
   "cell_type": "code",
   "execution_count": 46,
   "metadata": {
    "collapsed": true
   },
   "outputs": [],
   "source": [
    "t_gas_buffer = 1 * cm\n",
    "\n",
    "D_N2T_PV = D_N2T_FC  + t_gas_buffer\n",
    "R_N2T_PV = D_N2T_PV / 2\n",
    "t_N2T_PV = 5 * cm \n",
    "L_N2T_PV = 325 * cm\n",
    "n2can = shp.Cylinder(R_N2T_PV, L_N2T_PV)"
   ]
  },
  {
   "cell_type": "code",
   "execution_count": 48,
   "metadata": {},
   "outputs": [
    {
     "name": "stdout",
     "output_type": "stream",
     "text": [
      "\n",
      "        Material = Fe\n",
      "        Inner Radius =  150.50 cm\n",
      "        Outer Radius =  155.50 cm\n",
      "        Length =  325.00 cm\n",
      "        Cathode plate thickness =    5.00 cm\n",
      "        Anode plate thickness =    5.00 cm\n",
      "        Flange thickness =    5.00 cm\n",
      "        \n",
      "        Shell Volume =    1.56 m3\n",
      "        Shell mass = 12294.18 kg\n",
      "        Shell activity =   4e+08 c/year\n",
      "        \n",
      "        Cathode plate Volume =    0.38 m3\n",
      "        Cathode plate mass = 2989.20 kg\n",
      "        Cathode plate activity =   9e+07 c/year\n",
      "        \n",
      "        Anode plate Volume =    0.38 m3\n",
      "        Anode plate mass = 2989.20 kg\n",
      "        Anode plate activity =   9e+07 c/year\n",
      "        \n",
      "        Flange Volume =    0.02 m3\n",
      "        Flange mass =  189.14 kg\n",
      "        Flange activity =   6e+06 c/year\n",
      "        \n",
      "        Can total mass = 18272.58 kg\n",
      "        Can total activity = 5.66e+08 counts/year\n",
      "        \n"
     ]
    }
   ],
   "source": [
    "canN20 = NN.AngelCan(Rin=R_N2T_PV, Rout=R_N2T_PV + t_N2T_PV, L=L_N2T_PV, Cp=t_N2T_PV, Ap=t_N2T_PV,\n",
    "                 cplateType='Flat', aplateType='Flat',\n",
    "                 FlangeRin=R_N2T_PV, FlangeRout=R_N2T_PV + t_N2T_PV, FlangeT=t_N2T_PV, Mat='Fe')\n",
    "print(canN20)"
   ]
  },
  {
   "cell_type": "markdown",
   "metadata": {},
   "source": [
    "#### NAUSICAA EL"
   ]
  },
  {
   "cell_type": "code",
   "execution_count": 147,
   "metadata": {},
   "outputs": [
    {
     "name": "stdout",
     "output_type": "stream",
     "text": [
      "\n",
      "        E/P =    1.50 kV * cm^-1* bar^-1\n",
      "        E/P min =    1.50 kV * cm^-1* bar^-1\n",
      "        dV = drift voltage =    0.30 kV * cm^-1\n",
      "        P  = pressure =   20.00 bar\n",
      "        d  = EL grid gap =    5.00 mm\n",
      "        L  = drift lenght =   1.50 m\n",
      "        Grid voltage =   15.00 kV\n",
      "        Cathode voltage =   60.00 kV\n",
      "        Yield =  9.40e+02 photons/e\n",
      "        Yield at EPmin =  9.40e+02 photons/e\n",
      "        Buffer length =     2.0 cm\n",
      "        dE/dx =  1.65e+01 electrons/cm\n",
      "        dG/dx =  1.56e+04 photons/cm\n",
      "    \n",
      "        Primary scintillation photons per MeV = 1.3158e+04\n",
      "        Primary ionization electrons per MeV = 4.0323e+04\n",
      "        \n"
     ]
    }
   ],
   "source": [
    "EL = NN.AngelEL(EP=1.5*kilovolt/(cm*bar),\n",
    "                 dV=0.3*kilovolt/cm,\n",
    "                 P=20*bar,\n",
    "                 d=5*mm,\n",
    "                 L=L_NAU_FC / 2,\n",
    "                 EPmin=1.5*kilovolt/(cm*bar))\n",
    "print(EL)"
   ]
  },
  {
   "cell_type": "markdown",
   "metadata": {},
   "source": [
    "#### NAUSICAA Energy plane SiPMs"
   ]
  },
  {
   "cell_type": "code",
   "execution_count": 148,
   "metadata": {},
   "outputs": [
    {
     "name": "stdout",
     "output_type": "stream",
     "text": [
      "\n",
      "        SiPM name = Hamamatsu\n",
      "        SiPM size =   10.00 mm\n",
      "        SiPM Surface =  100.00 mm2\n",
      "        SiPM QE =    0.50\n",
      "        SiPM TPB eff =    0.50\n",
      "        SiPM global PDE =    0.25\n",
      "        U activity =    3.00 muBq\n",
      "        Th activity =    3.00 muBq\n",
      "        \n"
     ]
    }
   ],
   "source": [
    "sipm_EP = NN.SiPM(name='Hamamatsu',L=10*mm, QE=0.5,TPB=0.5, AU=3*becquerel*1e-6,ATh=3*becquerel*1e-6)\n",
    "print(sipm_EP)"
   ]
  },
  {
   "cell_type": "markdown",
   "metadata": {},
   "source": [
    "#### NAUSICAA Tracking plane SiPMs"
   ]
  },
  {
   "cell_type": "code",
   "execution_count": 149,
   "metadata": {},
   "outputs": [
    {
     "name": "stdout",
     "output_type": "stream",
     "text": [
      "\n",
      "        SiPM name = Hamamatsu\n",
      "        SiPM size =    1.00 mm\n",
      "        SiPM Surface =    1.00 mm2\n",
      "        SiPM QE =    0.50\n",
      "        SiPM TPB eff =    0.50\n",
      "        SiPM global PDE =    0.25\n",
      "        U activity =    0.30 muBq\n",
      "        Th activity =    0.30 muBq\n",
      "        \n"
     ]
    }
   ],
   "source": [
    "sipm_TP = NN.SiPM(name='Hamamatsu',L=1*mm, QE=0.5,TPB=0.5, AU=3*becquerel*1e-7,ATh=3*becquerel*1e-7)\n",
    "print(sipm_TP)"
   ]
  },
  {
   "cell_type": "markdown",
   "metadata": {},
   "source": [
    "#### NAUSICAA Tracking plane"
   ]
  },
  {
   "cell_type": "code",
   "execution_count": 150,
   "metadata": {},
   "outputs": [
    {
     "name": "stdout",
     "output_type": "stream",
     "text": [
      "\n",
      "        SiPM QE =    0.50\n",
      "        SiPM PDE =    0.25\n",
      "        SiPM size =    1.00 mm\n",
      "        SiPM Pitch =   11.00 mm\n",
      "        Linear Packing factor =    0.09\n",
      "        Detection Surface =     7.1 m2\n",
      "        SiPM Surface =   0.058 m2\n",
      "        Coverage =  0.0083\n",
      "        nof SiPM = 5.8e+04\n",
      "        nof ASIC = 9.1e+02\n",
      "        nof PDM = 5.8e+04\n",
      "        \n"
     ]
    }
   ],
   "source": [
    "TP= NN.AngelSiPM(sipm_TP, EL, Surface=S_NAU, pitch=11*mm, asic=64, pdm=1)\n",
    "print(TP)"
   ]
  },
  {
   "cell_type": "markdown",
   "metadata": {},
   "source": [
    "#### NAUSICAA Energy plane"
   ]
  },
  {
   "cell_type": "code",
   "execution_count": 151,
   "metadata": {},
   "outputs": [
    {
     "name": "stdout",
     "output_type": "stream",
     "text": [
      "\n",
      "        SiPM QE =    0.50\n",
      "        SiPM PDE =    0.25\n",
      "        SiPM size =   10.00 mm\n",
      "        SiPM Pitch =   11.00 mm\n",
      "        Linear Packing factor =    0.91\n",
      "        Detection Surface =     7.1 m2\n",
      "        SiPM Surface =     5.8 m2\n",
      "        Coverage =    0.83\n",
      "        nof SiPM = 5.8e+04\n",
      "        nof ASIC = 9.1e+02\n",
      "        nof PDM = 2.3e+03\n",
      "        \n"
     ]
    }
   ],
   "source": [
    "EP= NN.AngelSiPM(sipm_EP, EL, Surface=S_NAU, pitch=11*mm, asic=64, pdm=25)\n",
    "print(EP)"
   ]
  },
  {
   "cell_type": "code",
   "execution_count": 152,
   "metadata": {},
   "outputs": [
    {
     "name": "stdout",
     "output_type": "stream",
     "text": [
      "\n",
      "        Optical Gain = 1.05e+03\n",
      "        Solid Angle  = 2.28e-02\n",
      "        ScintillationSolidAngle = 2.28e-01\n",
      "        ELSolidAngle = 2.28e-02\n",
      "        Scintillation Photons/MeV = 1.32e+04\n",
      "        Scintillation Reaching Cathode/MeV = 2.99e+03\n",
      "        Scintillation Photoelectrons/MeV = 1.57e+02\n",
      "                   EL Photons/MeV = 4.25e+07\n",
      "                   EL Reaching Cathode/MeV = 9.66e+05\n",
      "                   EL Photoelectrons/MeV = 2.20e+05\n",
      "                   EL pe/electron = 1.26e+00\n",
      "\n",
      "        Background rate (c/(keV*kg*year) = 1.05e-02\n",
      "        \n"
     ]
    }
   ],
   "source": [
    "new = NN.ANGEL(xeNEW,canNEW,newEP,newEL,newTP)\n",
    "print(new)"
   ]
  },
  {
   "cell_type": "code",
   "execution_count": 153,
   "metadata": {},
   "outputs": [
    {
     "name": "stdout",
     "output_type": "stream",
     "text": [
      "\n",
      "        Optical Gain = 9.40e+02\n",
      "        Solid Angle  = 4.60e-02\n",
      "        ScintillationSolidAngle = 4.60e-01\n",
      "        ELSolidAngle = 4.60e-02\n",
      "        Scintillation Photons/MeV = 1.32e+04\n",
      "        Scintillation Reaching Cathode/MeV = 6.06e+03\n",
      "        Scintillation Photoelectrons/MeV = 1.25e+03\n",
      "                   EL Photons/MeV = 3.79e+07\n",
      "                   EL Reaching Cathode/MeV = 1.74e+06\n",
      "                   EL Photoelectrons/MeV = 3.60e+05\n",
      "                   EL pe/electron = 8.94e+00\n",
      "\n",
      "        Background rate (c/(keV*kg*year) = 1.17e-05\n",
      "        \n"
     ]
    }
   ],
   "source": [
    "nau = NN.NausicaAngel(xe,can,EL,EP,TP)\n",
    "print(nau)"
   ]
  },
  {
   "cell_type": "code",
   "execution_count": 155,
   "metadata": {},
   "outputs": [
    {
     "name": "stdout",
     "output_type": "stream",
     "text": [
      "Scintillation PES for 2500 keV = 3127.7394893006585\n",
      "Scintillation PES / SiPM for 2500 keV = 0.053926542918976875\n",
      "242.21214605144303\n",
      "50.04383182881054\n",
      "0.00086282468670363\n",
      "69772.72465288342\n",
      "14415.85220100897\n",
      "0.24854917587946498\n",
      "3127.7394893006585\n",
      "0.053926542918976875\n",
      "15.53432349246656\n"
     ]
    }
   ],
   "source": [
    "\n",
    "print(nau.ScintillationReachingCathode(40 * keV))\n",
    "print(nau.ScintillationPhotoelectrons(40 * keV))\n",
    "print(nau.ScintillationPhotoelectrons(40 * keV) / nof_esipm)\n",
    "print(nau.ELReachingCathode(40 * keV))\n",
    "print(nau.ELPhotoelectrons(40 * keV))\n",
    "print(nau.ELPhotoelectrons(40 * keV) / nof_esipm)\n",
    "print(nau.ScintillationPhotoelectrons(2500 * keV))\n",
    "print(nau.ScintillationPhotoelectrons(2500 * keV) / nof_esipm)\n",
    "print(nau.ELPhotoelectrons(2500 * keV) /nof_esipm)"
   ]
  },
  {
   "cell_type": "markdown",
   "metadata": {},
   "source": [
    "#### Photons 5 keV"
   ]
  },
  {
   "cell_type": "code",
   "execution_count": null,
   "metadata": {
    "collapsed": true
   },
   "outputs": [],
   "source": [
    "nau.ScintillationReachingCathode(5*keV)"
   ]
  },
  {
   "cell_type": "code",
   "execution_count": null,
   "metadata": {
    "collapsed": true
   },
   "outputs": [],
   "source": [
    "nau.ELPhotoelectrons(25*keV)"
   ]
  },
  {
   "cell_type": "markdown",
   "metadata": {},
   "source": [
    "### Dark Side"
   ]
  },
  {
   "cell_type": "code",
   "execution_count": null,
   "metadata": {
    "collapsed": true
   },
   "outputs": [],
   "source": [
    "PDM = 2605 * 2\n",
    "sipm_pdm = 44\n",
    "sipm = PDM * sipm_pdm\n",
    "print('number of PDM = {} # sipm/PDM = {} # sipm = {}'.format(\n",
    "PDM, sipm_pdm, sipm ))"
   ]
  },
  {
   "cell_type": "markdown",
   "metadata": {},
   "source": [
    "#### BTL"
   ]
  },
  {
   "cell_type": "code",
   "execution_count": null,
   "metadata": {
    "collapsed": true
   },
   "outputs": [],
   "source": [
    "number_of_cells = 2.5e+5\n",
    "sipms_per_cell = 1\n",
    "sipm_btl = number_of_cells * sipms_per_cell\n",
    "sipm_btl_cost = 5\n",
    "print('number of cells = {} # sipm/PDM = {} # sipm = {}'.format(\n",
    "number_of_cells, sipms_per_cell, sipm_btl ))"
   ]
  },
  {
   "cell_type": "markdown",
   "metadata": {},
   "source": [
    "### Cost SiPMs"
   ]
  },
  {
   "cell_type": "code",
   "execution_count": null,
   "metadata": {
    "collapsed": true
   },
   "outputs": [],
   "source": [
    "cost_mm2 = 20 / 36\n",
    "cost_cm2 = 1e+2 * cost_mm2\n",
    "print(' SiPM: cost/cm2 = {}'.format(cost_cm2))"
   ]
  },
  {
   "cell_type": "code",
   "execution_count": null,
   "metadata": {
    "collapsed": true
   },
   "outputs": [],
   "source": [
    "nausicaa_ep = 1.1e+5 * cost_cm2 /1e+6\n",
    "dks = 1.1e+5 * cost_cm2  /1e+6\n",
    "btl = sipm_btl * sipm_btl_cost  /1e+6\n",
    "btl2 = number_of_cells * 1.2 * cost_cm2  /1e+6\n",
    "print('cost of NAUSICAA EP = {}'.format(nausicaa_ep))\n",
    "print('cost of Dark Side SiPMs = {}'.format(dks))\n",
    "print('cost of BTL  SiPMs = {}'.format(btl))\n",
    "print('cost of BTL1  SiPMs = {}'.format(btl2))"
   ]
  },
  {
   "cell_type": "code",
   "execution_count": 108,
   "metadata": {},
   "outputs": [
    {
     "data": {
      "text/plain": [
       "53.25443786982248"
      ]
     },
     "execution_count": 108,
     "metadata": {},
     "output_type": "execute_result"
    }
   ],
   "source": [
    "90 / (1.3 * 1.3)"
   ]
  },
  {
   "cell_type": "code",
   "execution_count": null,
   "metadata": {
    "collapsed": true
   },
   "outputs": [],
   "source": []
  },
  {
   "cell_type": "markdown",
   "metadata": {},
   "source": [
    "### Activity calculations"
   ]
  },
  {
   "cell_type": "code",
   "execution_count": null,
   "metadata": {
    "collapsed": true
   },
   "outputs": [],
   "source": [
    "mat.vessel(1*cm,50*cm,'Cu10')"
   ]
  },
  {
   "cell_type": "markdown",
   "metadata": {},
   "source": [
    "### Dark current"
   ]
  },
  {
   "cell_type": "markdown",
   "metadata": {},
   "source": [
    "http://sensl.com/products/c-series/"
   ]
  },
  {
   "cell_type": "code",
   "execution_count": 49,
   "metadata": {
    "collapsed": true
   },
   "outputs": [],
   "source": [
    "dark_current_sensl =  30 * kHz/mm2\n",
    "t0 = 20 # Celsius"
   ]
  },
  {
   "cell_type": "code",
   "execution_count": 50,
   "metadata": {
    "collapsed": true
   },
   "outputs": [],
   "source": [
    "def dark_current(t, t0 = 25, dark_current_t0_mm2 = dark_current_sensl):\n",
    "    rf = (t0 -t) / 10\n",
    "    return dark_current_t0_mm2 / 2 ** rf"
   ]
  },
  {
   "cell_type": "code",
   "execution_count": 51,
   "metadata": {
    "collapsed": true
   },
   "outputs": [],
   "source": [
    "dark_current_N2 = dark_current(t = -90)"
   ]
  },
  {
   "cell_type": "code",
   "execution_count": 52,
   "metadata": {},
   "outputs": [
    {
     "data": {
      "text/plain": [
       "10.358009490037318"
      ]
     },
     "execution_count": 52,
     "metadata": {},
     "output_type": "execute_result"
    }
   ],
   "source": [
    "dark_current_N2/(hertz/mm2)"
   ]
  },
  {
   "cell_type": "code",
   "execution_count": 53,
   "metadata": {},
   "outputs": [
    {
     "data": {
      "text/plain": [
       "1035.8009490037316"
      ]
     },
     "execution_count": 53,
     "metadata": {},
     "output_type": "execute_result"
    }
   ],
   "source": [
    "dark_current_N2/(hertz/cm2)"
   ]
  },
  {
   "cell_type": "code",
   "execution_count": 54,
   "metadata": {},
   "outputs": [
    {
     "ename": "NameError",
     "evalue": "name 'nau' is not defined",
     "output_type": "error",
     "traceback": [
      "\u001b[0;31m---------------------------------------------------------------------------\u001b[0m",
      "\u001b[0;31mNameError\u001b[0m                                 Traceback (most recent call last)",
      "\u001b[0;32m<ipython-input-54-dbd5f804cdc2>\u001b[0m in \u001b[0;36m<module>\u001b[0;34m()\u001b[0m\n\u001b[1;32m      1\u001b[0m \u001b[0mnof_esipm\u001b[0m \u001b[0;34m=\u001b[0m \u001b[0;36m7.2e+3\u001b[0m\u001b[0;34m\u001b[0m\u001b[0m\n\u001b[0;32m----> 2\u001b[0;31m \u001b[0mprint\u001b[0m\u001b[0;34m(\u001b[0m\u001b[0;34m'Scintillation PES for 2500 keV = {}'\u001b[0m\u001b[0;34m.\u001b[0m\u001b[0mformat\u001b[0m\u001b[0;34m(\u001b[0m\u001b[0mnau\u001b[0m\u001b[0;34m.\u001b[0m\u001b[0mScintillationPhotoelectrons\u001b[0m\u001b[0;34m(\u001b[0m\u001b[0;36m2500\u001b[0m \u001b[0;34m*\u001b[0m \u001b[0mkeV\u001b[0m\u001b[0;34m)\u001b[0m\u001b[0;34m)\u001b[0m\u001b[0;34m)\u001b[0m\u001b[0;34m\u001b[0m\u001b[0m\n\u001b[0m\u001b[1;32m      3\u001b[0m \u001b[0mprint\u001b[0m\u001b[0;34m(\u001b[0m\u001b[0;34m'Scintillation PES / SiPM for 2500 keV = {}'\u001b[0m\u001b[0;34m.\u001b[0m\u001b[0mformat\u001b[0m\u001b[0;34m(\u001b[0m\u001b[0mnau\u001b[0m\u001b[0;34m.\u001b[0m\u001b[0mScintillationPhotoelectrons\u001b[0m\u001b[0;34m(\u001b[0m\u001b[0;36m2500\u001b[0m \u001b[0;34m*\u001b[0m \u001b[0mkeV\u001b[0m\u001b[0;34m)\u001b[0m \u001b[0;34m/\u001b[0m \u001b[0mnof_esipm\u001b[0m\u001b[0;34m)\u001b[0m\u001b[0;34m)\u001b[0m\u001b[0;34m\u001b[0m\u001b[0m\n\u001b[1;32m      4\u001b[0m \u001b[0mprint\u001b[0m\u001b[0;34m(\u001b[0m\u001b[0;34m'Scintillation PES for 40 keV = {}'\u001b[0m\u001b[0;34m.\u001b[0m\u001b[0mformat\u001b[0m\u001b[0;34m(\u001b[0m\u001b[0mnau\u001b[0m\u001b[0;34m.\u001b[0m\u001b[0mScintillationPhotoelectrons\u001b[0m\u001b[0;34m(\u001b[0m\u001b[0;36m40\u001b[0m \u001b[0;34m*\u001b[0m \u001b[0mkeV\u001b[0m\u001b[0;34m)\u001b[0m\u001b[0;34m)\u001b[0m\u001b[0;34m)\u001b[0m\u001b[0;34m\u001b[0m\u001b[0m\n\u001b[1;32m      5\u001b[0m \u001b[0mprint\u001b[0m\u001b[0;34m(\u001b[0m\u001b[0;34m'Scintillation PES / SiPM for 40 keV = {}'\u001b[0m\u001b[0;34m.\u001b[0m\u001b[0mformat\u001b[0m\u001b[0;34m(\u001b[0m\u001b[0mnau\u001b[0m\u001b[0;34m.\u001b[0m\u001b[0mScintillationPhotoelectrons\u001b[0m\u001b[0;34m(\u001b[0m\u001b[0;36m40\u001b[0m \u001b[0;34m*\u001b[0m \u001b[0mkeV\u001b[0m\u001b[0;34m)\u001b[0m \u001b[0;34m/\u001b[0m \u001b[0mnof_esipm\u001b[0m\u001b[0;34m)\u001b[0m\u001b[0;34m)\u001b[0m\u001b[0;34m\u001b[0m\u001b[0m\n",
      "\u001b[0;31mNameError\u001b[0m: name 'nau' is not defined"
     ]
    }
   ],
   "source": [
    "nof_esipm = 7.2e+3\n",
    "print('Scintillation PES for 2500 keV = {}'.format(nau.ScintillationPhotoelectrons(2500 * keV)))\n",
    "print('Scintillation PES / SiPM for 2500 keV = {}'.format(nau.ScintillationPhotoelectrons(2500 * keV) / nof_esipm))\n",
    "print('Scintillation PES for 40 keV = {}'.format(nau.ScintillationPhotoelectrons(40 * keV)))\n",
    "print('Scintillation PES / SiPM for 40 keV = {}'.format(nau.ScintillationPhotoelectrons(40 * keV) / nof_esipm))\n",
    "print('dark current hertz/ cm2 = {}'.format(dark_current_NAUSICAA/(hertz/cm2)))\n",
    "print('dark current per SiPM in 500 ns  = {}'.format(500E-9*dark_current_NAUSICAA/(hertz/cm2)))\n",
    "print('dark current per plane in 500 ns  = {}'.format(nof_esipm *500E-9*dark_current_NAUSICAA/(hertz/cm2)))"
   ]
  },
  {
   "cell_type": "code",
   "execution_count": null,
   "metadata": {
    "collapsed": true
   },
   "outputs": [],
   "source": []
  },
  {
   "cell_type": "code",
   "execution_count": null,
   "metadata": {
    "collapsed": true
   },
   "outputs": [],
   "source": [
    "dark_current_NAUSICAA/(1e+3*hertz/cm2)"
   ]
  },
  {
   "cell_type": "code",
   "execution_count": null,
   "metadata": {
    "collapsed": true
   },
   "outputs": [],
   "source": [
    "fig = Image(filename='./FBK_NUV_HD_DCR_T.png')"
   ]
  },
  {
   "cell_type": "code",
   "execution_count": null,
   "metadata": {
    "collapsed": true
   },
   "outputs": [],
   "source": [
    "fig"
   ]
  },
  {
   "cell_type": "code",
   "execution_count": null,
   "metadata": {
    "collapsed": true
   },
   "outputs": [],
   "source": [
    "T_lar = -185.85 # in C\n",
    "T_lxe = -100\n",
    "T_nau = -75\n",
    "T_BTL = -30\n",
    "T0 = 25 # in C\n",
    "T_K = 273.15"
   ]
  },
  {
   "cell_type": "code",
   "execution_count": null,
   "metadata": {
    "collapsed": true
   },
   "outputs": [],
   "source": [
    "print('dark current: BTL ={}; N2K = {}; LXe = {}; LAr = {}'.format(\n",
    "dark_current(t = T_BTL, dark_current_t0_mm2 = 10 * kHz/mm2)/(hertz/mm2), \n",
    "dark_current(t = T_nau, dark_current_t0_mm2 = 10 * kHz/mm2)/(hertz/mm2), \n",
    "dark_current(t = T_lxe, dark_current_t0_mm2 = 10 * kHz/mm2)/(hertz/mm2),\n",
    "dark_current(t = T_lar, dark_current_t0_mm2 = 10 * kHz/mm2)/(hertz/mm2)\n",
    "))"
   ]
  },
  {
   "cell_type": "code",
   "execution_count": null,
   "metadata": {
    "collapsed": true
   },
   "outputs": [],
   "source": []
  },
  {
   "cell_type": "code",
   "execution_count": null,
   "metadata": {
    "collapsed": true
   },
   "outputs": [],
   "source": [
    "T = np.arange(-200, 30)"
   ]
  },
  {
   "cell_type": "code",
   "execution_count": null,
   "metadata": {
    "collapsed": true
   },
   "outputs": [],
   "source": [
    "Tr = 1000 / (T + T_K)"
   ]
  },
  {
   "cell_type": "code",
   "execution_count": null,
   "metadata": {
    "collapsed": true
   },
   "outputs": [],
   "source": [
    "plt.plot(Tr,T,'b')\n",
    "plt.grid(True)\n",
    "plt.xlabel('1000/T (K$^{-1}$)')\n",
    "plt.ylabel('T (C)')\n",
    "plt.show()"
   ]
  },
  {
   "cell_type": "code",
   "execution_count": null,
   "metadata": {
    "collapsed": true
   },
   "outputs": [],
   "source": [
    "1000 / (T_lar + T_K)"
   ]
  },
  {
   "cell_type": "code",
   "execution_count": null,
   "metadata": {
    "collapsed": true
   },
   "outputs": [],
   "source": [
    "1000 / (T_lxe + T_K)"
   ]
  },
  {
   "cell_type": "code",
   "execution_count": null,
   "metadata": {
    "collapsed": true
   },
   "outputs": [],
   "source": [
    "1000 / (T_nau + T_K)"
   ]
  },
  {
   "cell_type": "code",
   "execution_count": null,
   "metadata": {
    "collapsed": true
   },
   "outputs": [],
   "source": [
    "1000 / (T_BTL + T_K)"
   ]
  },
  {
   "cell_type": "markdown",
   "metadata": {},
   "source": [
    "According to plot, for T = 25 C, DC = 100 kHz while for T = T_lar, DC < 0.01 for low field"
   ]
  },
  {
   "cell_type": "markdown",
   "metadata": {},
   "source": [
    "Plot is in cps/mm2 "
   ]
  },
  {
   "cell_type": "markdown",
   "metadata": {},
   "source": [
    "### Liquid argon"
   ]
  },
  {
   "cell_type": "code",
   "execution_count": null,
   "metadata": {
    "collapsed": true
   },
   "outputs": [],
   "source": [
    "ar_boiling_point = 87.302 # in K K ​(−185.848 °C, ​−302.526 °F)\n",
    "rho = 1.784 # g/L\n",
    "rho_l = 1.3954 # g/cm3\n",
    "\n",
    "m_nausicaa_lar = 13e+6 * rho_l / 1e+6 # in tons\n"
   ]
  },
  {
   "cell_type": "code",
   "execution_count": null,
   "metadata": {
    "collapsed": true
   },
   "outputs": [],
   "source": [
    "m_nausicaa_lar"
   ]
  },
  {
   "cell_type": "markdown",
   "metadata": {},
   "source": [
    "### SiPMs"
   ]
  },
  {
   "cell_type": "code",
   "execution_count": null,
   "metadata": {
    "collapsed": true
   },
   "outputs": [],
   "source": [
    "ael.IonizationElectrons(10 * keV)"
   ]
  },
  {
   "cell_type": "code",
   "execution_count": null,
   "metadata": {
    "collapsed": true
   },
   "outputs": [],
   "source": [
    "ael.OpticalGain()"
   ]
  },
  {
   "cell_type": "code",
   "execution_count": null,
   "metadata": {
    "collapsed": true
   },
   "outputs": [],
   "source": [
    "total_photons_10_keV = ael.OpticalGain() * ael.IonizationElectrons(10 * keV)"
   ]
  },
  {
   "cell_type": "code",
   "execution_count": null,
   "metadata": {
    "collapsed": true
   },
   "outputs": [],
   "source": [
    "total_photons_10_keV"
   ]
  },
  {
   "cell_type": "code",
   "execution_count": null,
   "metadata": {
    "collapsed": true
   },
   "outputs": [],
   "source": [
    "geometry_factor = 0.5\n",
    "total_photons_energy_plane = total_photons_10_keV * geometry_factor * tp.Coverage()"
   ]
  },
  {
   "cell_type": "code",
   "execution_count": null,
   "metadata": {
    "collapsed": true
   },
   "outputs": [],
   "source": [
    "photons_per_sipm = total_photons_energy_plane / tp.NumberSiPM()"
   ]
  },
  {
   "cell_type": "code",
   "execution_count": null,
   "metadata": {
    "collapsed": true
   },
   "outputs": [],
   "source": [
    "pes_per_sipm = photons_per_sipm"
   ]
  },
  {
   "cell_type": "code",
   "execution_count": null,
   "metadata": {
    "collapsed": true
   },
   "outputs": [],
   "source": []
  },
  {
   "cell_type": "code",
   "execution_count": null,
   "metadata": {
    "collapsed": true
   },
   "outputs": [],
   "source": [
    "\n",
    "cost_mm2 = 20/(6*6)"
   ]
  },
  {
   "cell_type": "code",
   "execution_count": null,
   "metadata": {
    "collapsed": true
   },
   "outputs": [],
   "source": [
    "cost_mm2"
   ]
  },
  {
   "cell_type": "code",
   "execution_count": null,
   "metadata": {
    "collapsed": true
   },
   "outputs": [],
   "source": [
    "cost_m2 = cost_mm2 * 1e6"
   ]
  },
  {
   "cell_type": "code",
   "execution_count": null,
   "metadata": {
    "collapsed": true
   },
   "outputs": [],
   "source": [
    "cost_cm2 = cost_mm2 * 1e4"
   ]
  },
  {
   "cell_type": "code",
   "execution_count": null,
   "metadata": {
    "collapsed": true
   },
   "outputs": [],
   "source": [
    "cost_cm2"
   ]
  },
  {
   "cell_type": "markdown",
   "metadata": {},
   "source": []
  },
  {
   "cell_type": "code",
   "execution_count": null,
   "metadata": {
    "collapsed": true
   },
   "outputs": [],
   "source": []
  }
 ],
 "metadata": {
  "kernelspec": {
   "display_name": "Python 3",
   "language": "python",
   "name": "python3"
  },
  "language_info": {
   "codemirror_mode": {
    "name": "ipython",
    "version": 3
   },
   "file_extension": ".py",
   "mimetype": "text/x-python",
   "name": "python",
   "nbconvert_exporter": "python",
   "pygments_lexer": "ipython3",
   "version": "3.6.2"
  }
 },
 "nbformat": 4,
 "nbformat_minor": 2
}
