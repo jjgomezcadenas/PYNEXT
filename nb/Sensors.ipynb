{
 "cells": [
  {
   "cell_type": "markdown",
   "metadata": {},
   "source": [
    "# Sensors"
   ]
  },
  {
   "cell_type": "code",
   "execution_count": 1,
   "metadata": {},
   "outputs": [
    {
     "name": "stdout",
     "output_type": "stream",
     "text": [
      "2017-12-17 15:38:28\n"
     ]
    }
   ],
   "source": [
    "import os\n",
    "import datetime\n",
    "print(datetime.datetime.now().strftime('%Y-%m-%d %H:%M:%S'))\n",
    "\n",
    "import time\n",
    "import glob\n",
    "import tables as tb\n",
    "import numpy as np\n",
    "import pandas as pd\n",
    "import matplotlib.pyplot as plt\n",
    "from functools import reduce\n",
    "import numpy.testing as npt\n",
    "from operator import itemgetter, attrgetter\n",
    "%matplotlib inline\n",
    "%load_ext autoreload\n",
    "%autoreload 2\n",
    "\n",
    "plt.rcParams[\"figure.figsize\"] = 10, 8\n",
    "plt.rcParams[\"font.size\"     ] = 14"
   ]
  },
  {
   "cell_type": "code",
   "execution_count": 2,
   "metadata": {
    "collapsed": true
   },
   "outputs": [],
   "source": [
    "from math import sqrt, pi"
   ]
  },
  {
   "cell_type": "code",
   "execution_count": 15,
   "metadata": {},
   "outputs": [],
   "source": [
    "from pynext.system_of_units import *\n",
    "from pynext.Sensors import PMT\n",
    "from pynext.Sensors import SiPM\n",
    "from pynext.Sensors import KDB"
   ]
  },
  {
   "cell_type": "code",
   "execution_count": 4,
   "metadata": {},
   "outputs": [],
   "source": [
    "from collections import namedtuple"
   ]
  },
  {
   "cell_type": "code",
   "execution_count": 51,
   "metadata": {},
   "outputs": [],
   "source": [
    "from pynext.activity_functions import Activity\n",
    "from pynext.activity_functions import activity_table\n",
    "from pynext.activity_functions import pmt_activity\n",
    "from pynext.activity_functions import sipm_activity\n",
    "from pynext.activity_functions import print_activity"
   ]
  },
  {
   "cell_type": "code",
   "execution_count": 6,
   "metadata": {
    "collapsed": true
   },
   "outputs": [],
   "source": [
    "from pynext.CylindricalVessel import CylindricalVessel\n",
    "from pynext.CylindricalVessel import CVD, CVA\n",
    "from pynext.NextData import NextPVData\n",
    "from pynext.Material import vacuum, ti316, cu12, cu03, pb"
   ]
  },
  {
   "cell_type": "markdown",
   "metadata": {},
   "source": [
    "## NEXT-100 PV"
   ]
  },
  {
   "cell_type": "code",
   "execution_count": 7,
   "metadata": {
    "collapsed": true
   },
   "outputs": [],
   "source": [
    "n100d = NextPVData()"
   ]
  },
  {
   "cell_type": "code",
   "execution_count": 8,
   "metadata": {},
   "outputs": [],
   "source": [
    "cvd_pv = CVD(name    = 'Next100PV',\n",
    "                 R       = n100d.pv_inner_radius,\n",
    "                 th_body = n100d.pv_body_thickness,\n",
    "                 L       = n100d.pv_length,\n",
    "                 th_head = n100d.pv_head_thickness)\n",
    "\n",
    "n100_pv = CylindricalVessel(name=cvd_pv.name, material=ti316, cvd=cvd_pv)"
   ]
  },
  {
   "cell_type": "code",
   "execution_count": 9,
   "metadata": {},
   "outputs": [
    {
     "data": {
      "text/plain": [
       "\n",
       "        Cylindrical Vessel:\n",
       "\n",
       "        ----------------\n",
       "        name      = Next100PV\n",
       "        material  = 316ti\n",
       "\n",
       "        specific activity of material:\n",
       "        Bi-214    =    1.00 mBq/kg\n",
       "        Tl-208    =    0.15 mBq/kg\n",
       "\n",
       "        body:\n",
       "        R         =  680.00 mm\n",
       "        thickness =   10.00 mm\n",
       "        length    = 1600.00 mm\n",
       "        surface   = 6.84e+06 mm2\n",
       "        volume    = 6.89e+07 mm3\n",
       "        mass      =  541.96 kg\n",
       "        activity Bi-214 =  541.96 mBq, self-shielded = 195.19 mBq\n",
       "        activity Tl-208 =   81.29 mBq, self-shielded =  29.28 mBq\n",
       "        transmittance   = 7.36e-01\n",
       "\n",
       "        heads:\n",
       "        thickness =   12.00 mm\n",
       "        surface   = 2.91e+06 mm2\n",
       "        volume    = 3.49e+07 mm3\n",
       "        mass      =  274.38 kg\n",
       "        activity Bi-214 =  137.19 mBq, self-shielded =  47.44 mBq\n",
       "        activity Tl-208 =   20.58 mBq, self-shielded =   7.12 mBq\n",
       "        transmittance   = 6.92e-01\n",
       "\n",
       "        "
      ]
     },
     "execution_count": 9,
     "metadata": {},
     "output_type": "execute_result"
    }
   ],
   "source": [
    "n100_pv"
   ]
  },
  {
   "cell_type": "markdown",
   "metadata": {},
   "source": [
    "## PMTs"
   ]
  },
  {
   "cell_type": "code",
   "execution_count": 10,
   "metadata": {},
   "outputs": [
    {
     "data": {
      "text/plain": [
       "\n",
       "        PMT name                = R1141\n",
       "        PMT Diameter            =    7.50 cm\n",
       "        PMT Surface             =   44.18 cm2\n",
       "        PMT QE                  =    0.30\n",
       "        bi214 activity (PMT)    =    0.35 mBq\n",
       "        tl208 activity (PMT)    =    0.19 mBq\n",
       "        bi214 activity (Base)   =    1.22 mBq\n",
       "        tl208 activity (Base)   =    0.33 mBq\n",
       "        bi214 activity (Window) =    0.61 mBq\n",
       "        tl208 activity (Window) =    0.38 mBq\n",
       "        "
      ]
     },
     "execution_count": 10,
     "metadata": {},
     "output_type": "execute_result"
    }
   ],
   "source": [
    "pmt = PMT()\n",
    "pmt"
   ]
  },
  {
   "cell_type": "markdown",
   "metadata": {},
   "source": [
    "## SiPMs"
   ]
  },
  {
   "cell_type": "code",
   "execution_count": 13,
   "metadata": {},
   "outputs": [
    {
     "data": {
      "text/plain": [
       "\n",
       "        SiPM name          = SENSL\n",
       "        SiPM size          =    1.00 mm\n",
       "        SiPM Surface       =    1.00 mm2\n",
       "        SiPM QE            =    0.50\n",
       "        SiPM TPB eff       =    0.50\n",
       "        SiPM global PDE    =    0.25\n",
       "        bi214 activity     =    0.10 muBq\n",
       "        bi214 activity     =    0.10 muBq\n",
       "        "
      ]
     },
     "execution_count": 13,
     "metadata": {},
     "output_type": "execute_result"
    }
   ],
   "source": [
    "sipm = SiPM()\n",
    "sipm"
   ]
  },
  {
   "cell_type": "markdown",
   "metadata": {},
   "source": [
    "## KDBs"
   ]
  },
  {
   "cell_type": "code",
   "execution_count": 32,
   "metadata": {},
   "outputs": [
    {
     "data": {
      "text/plain": [
       "\n",
       "        nof_sipm          = 64\n",
       "        KDB size          =  110.00 mm\n",
       "        KDB pitch         =   10.00 mm\n",
       "        KDB Surface       =  121.00 cm2\n",
       "        bi214 activity    =   31.00 muBq\n",
       "        bi214 activity    =   15.00 muBq\n",
       "        "
      ]
     },
     "execution_count": 32,
     "metadata": {},
     "output_type": "execute_result"
    }
   ],
   "source": [
    "kdb = KDB(L = 110  * mm,\n",
    "          pitch    = 10   * mm,\n",
    "          nof_sipm = 64,\n",
    "          a_bi214  = 31 * muBq, a_tl208= 15 * muBq)\n",
    "kdb"
   ]
  },
  {
   "cell_type": "code",
   "execution_count": 33,
   "metadata": {},
   "outputs": [
    {
     "data": {
      "text/plain": [
       "120.0555738032992"
      ]
     },
     "execution_count": 33,
     "metadata": {},
     "output_type": "execute_result"
    }
   ],
   "source": [
    "nof_kdb = n100_pv.head_surface / kdb.S\n",
    "nof_kdb "
   ]
  },
  {
   "cell_type": "code",
   "execution_count": 27,
   "metadata": {},
   "outputs": [
    {
     "data": {
      "text/plain": [
       "7683.556723411149"
      ]
     },
     "execution_count": 27,
     "metadata": {},
     "output_type": "execute_result"
    }
   ],
   "source": [
    "nof_sipm = nof_kdb * kdb.nof_sipm\n",
    "nof_sipm"
   ]
  },
  {
   "cell_type": "code",
   "execution_count": 44,
   "metadata": {},
   "outputs": [],
   "source": [
    "pmtActivity = pmt_activity('PMT activity', 60, pmt)"
   ]
  },
  {
   "cell_type": "code",
   "execution_count": 52,
   "metadata": {},
   "outputs": [
    {
     "name": "stdout",
     "output_type": "stream",
     "text": [
      "\n",
      "    activity \t PMT activity\n",
      "    Bi-214 \t  130.80 mBq\n",
      "    Tl-208 \t   54.00 mBq\n",
      "    \n"
     ]
    }
   ],
   "source": [
    "print_activity('PMT activity', pmtActivity, unit='mBq')"
   ]
  },
  {
   "cell_type": "code",
   "execution_count": 46,
   "metadata": {},
   "outputs": [],
   "source": [
    "sipmActivity = sipm_activity('SiPM activity', nof_sipm, sipm)"
   ]
  },
  {
   "cell_type": "code",
   "execution_count": 53,
   "metadata": {},
   "outputs": [
    {
     "name": "stdout",
     "output_type": "stream",
     "text": [
      "\n",
      "    activity \t SiPM activity\n",
      "    Bi-214 \t    0.77 mBq\n",
      "    Tl-208 \t    0.77 mBq\n",
      "    \n"
     ]
    }
   ],
   "source": [
    "print_activity('SiPM activity', sipmActivity, unit='mBq')"
   ]
  },
  {
   "cell_type": "code",
   "execution_count": 54,
   "metadata": {},
   "outputs": [
    {
     "name": "stdout",
     "output_type": "stream",
     "text": [
      "\n",
      "    activity \t KDB activity\n",
      "    Bi-214 \t    3.72 mBq\n",
      "    Tl-208 \t    1.80 mBq\n",
      "    \n"
     ]
    }
   ],
   "source": [
    "kdbActivity = sipm_activity('KDB activity', nof_kdb , kdb)\n",
    "print_activity('KDB activity', kdbActivity, unit='mBq')"
   ]
  },
  {
   "cell_type": "code",
   "execution_count": 50,
   "metadata": {},
   "outputs": [
    {
     "name": "stdout",
     "output_type": "stream",
     "text": [
      "            name       bi214      tl208\n",
      "0   PMT activity  130.800000  54.000000\n",
      "1  SiPM activity    0.768356   0.768356\n",
      "2   KDB activity    3.721723   1.800834\n"
     ]
    }
   ],
   "source": [
    "act_sensor_table =activity_table([pmtActivity, sipmActivity, kdbActivity])\n",
    "print(act_sensor_table)"
   ]
  },
  {
   "cell_type": "code",
   "execution_count": 55,
   "metadata": {},
   "outputs": [
    {
     "data": {
      "text/html": [
       "<div>\n",
       "<style>\n",
       "    .dataframe thead tr:only-child th {\n",
       "        text-align: right;\n",
       "    }\n",
       "\n",
       "    .dataframe thead th {\n",
       "        text-align: left;\n",
       "    }\n",
       "\n",
       "    .dataframe tbody tr th {\n",
       "        vertical-align: top;\n",
       "    }\n",
       "</style>\n",
       "<table border=\"1\" class=\"dataframe\">\n",
       "  <thead>\n",
       "    <tr style=\"text-align: right;\">\n",
       "      <th></th>\n",
       "      <th>name</th>\n",
       "      <th>bi214</th>\n",
       "      <th>tl208</th>\n",
       "    </tr>\n",
       "  </thead>\n",
       "  <tbody>\n",
       "    <tr>\n",
       "      <th>0</th>\n",
       "      <td>PMT activity</td>\n",
       "      <td>130.800000</td>\n",
       "      <td>54.000000</td>\n",
       "    </tr>\n",
       "    <tr>\n",
       "      <th>1</th>\n",
       "      <td>SiPM activity</td>\n",
       "      <td>0.768356</td>\n",
       "      <td>0.768356</td>\n",
       "    </tr>\n",
       "    <tr>\n",
       "      <th>2</th>\n",
       "      <td>KDB activity</td>\n",
       "      <td>3.721723</td>\n",
       "      <td>1.800834</td>\n",
       "    </tr>\n",
       "  </tbody>\n",
       "</table>\n",
       "</div>"
      ],
      "text/plain": [
       "            name       bi214      tl208\n",
       "0   PMT activity  130.800000  54.000000\n",
       "1  SiPM activity    0.768356   0.768356\n",
       "2   KDB activity    3.721723   1.800834"
      ]
     },
     "execution_count": 55,
     "metadata": {},
     "output_type": "execute_result"
    }
   ],
   "source": [
    "act_sensor_table"
   ]
  },
  {
   "cell_type": "code",
   "execution_count": null,
   "metadata": {
    "collapsed": true
   },
   "outputs": [],
   "source": []
  },
  {
   "cell_type": "code",
   "execution_count": null,
   "metadata": {
    "collapsed": true
   },
   "outputs": [],
   "source": []
  }
 ],
 "metadata": {
  "kernelspec": {
   "display_name": "Python 3",
   "language": "python",
   "name": "python3"
  },
  "language_info": {
   "codemirror_mode": {
    "name": "ipython",
    "version": 3
   },
   "file_extension": ".py",
   "mimetype": "text/x-python",
   "name": "python",
   "nbconvert_exporter": "python",
   "pygments_lexer": "ipython3",
   "version": "3.6.2"
  }
 },
 "nbformat": 4,
 "nbformat_minor": 2
}
