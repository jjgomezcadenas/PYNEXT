{
 "cells": [
  {
   "cell_type": "markdown",
   "metadata": {},
   "source": [
    "# Sensors"
   ]
  },
  {
   "cell_type": "code",
   "execution_count": 47,
   "metadata": {},
   "outputs": [
    {
     "name": "stdout",
     "output_type": "stream",
     "text": [
      "2017-12-22 12:51:39\n",
      "The autoreload extension is already loaded. To reload it, use:\n",
      "  %reload_ext autoreload\n"
     ]
    }
   ],
   "source": [
    "import os\n",
    "import datetime\n",
    "print(datetime.datetime.now().strftime('%Y-%m-%d %H:%M:%S'))\n",
    "\n",
    "import time\n",
    "import glob\n",
    "import tables as tb\n",
    "import numpy as np\n",
    "import pandas as pd\n",
    "import matplotlib.pyplot as plt\n",
    "from functools import reduce\n",
    "import numpy.testing as npt\n",
    "from operator import itemgetter, attrgetter\n",
    "%matplotlib inline\n",
    "%load_ext autoreload\n",
    "%autoreload 2\n",
    "\n",
    "plt.rcParams[\"figure.figsize\"] = 10, 8\n",
    "plt.rcParams[\"font.size\"     ] = 14"
   ]
  },
  {
   "cell_type": "code",
   "execution_count": 48,
   "metadata": {
    "collapsed": true
   },
   "outputs": [],
   "source": [
    "from math import sqrt, pi"
   ]
  },
  {
   "cell_type": "code",
   "execution_count": 61,
   "metadata": {
    "collapsed": true
   },
   "outputs": [],
   "source": [
    "from pynext.system_of_units import *\n",
    "from pynext.Sensors import PMT\n",
    "from pynext.Sensors import SiPM\n",
    "from pynext.Sensors import KDB"
   ]
  },
  {
   "cell_type": "code",
   "execution_count": 62,
   "metadata": {
    "collapsed": true
   },
   "outputs": [],
   "source": [
    "from collections import namedtuple"
   ]
  },
  {
   "cell_type": "code",
   "execution_count": 63,
   "metadata": {
    "collapsed": true
   },
   "outputs": [],
   "source": [
    "from pynext.activity_functions import Activity\n",
    "from pynext.activity_functions import activity_table\n",
    "from pynext.activity_functions import pmt_activity\n",
    "from pynext.activity_functions import sipm_activity\n",
    "from pynext.activity_functions import print_activity"
   ]
  },
  {
   "cell_type": "code",
   "execution_count": 64,
   "metadata": {
    "collapsed": true
   },
   "outputs": [],
   "source": [
    "from pynext.CylindricalVessel import CylindricalVessel\n",
    "from pynext.CylindricalVessel import CVD, CVA\n",
    "from pynext.NextData import NextPVData\n",
    "from pynext.Material import vacuum, ti316, cu12, cu03, pb"
   ]
  },
  {
   "cell_type": "markdown",
   "metadata": {},
   "source": [
    "## PMTs"
   ]
  },
  {
   "cell_type": "code",
   "execution_count": 65,
   "metadata": {},
   "outputs": [
    {
     "data": {
      "text/plain": [
       "\n",
       "        PMT name                = R1141\n",
       "        PMT Diameter            =    7.50 cm\n",
       "        PMT Surface             =   44.18 cm2\n",
       "        PMT QE                  =    0.30\n",
       "        total activity:\n",
       "        bi214 activity          =    1.09 mBq\n",
       "        tl208 activity          =    0.45 mBq\n",
       "\n",
       "        partial activities\n",
       "        bi214 activity (PMT)    =    0.17 mBq\n",
       "        tl208 activity (PMT)    =    0.10 mBq\n",
       "        bi214 activity (Base)   =    0.61 mBq\n",
       "        tl208 activity (Base)   =    0.17 mBq\n",
       "        bi214 activity (Window) =    0.30 mBq\n",
       "        tl208 activity (Window) =    0.19 mBq\n",
       "        "
      ]
     },
     "execution_count": 65,
     "metadata": {},
     "output_type": "execute_result"
    }
   ],
   "source": [
    "pmt = PMT()\n",
    "pmt"
   ]
  },
  {
   "cell_type": "markdown",
   "metadata": {},
   "source": [
    "## SiPMs"
   ]
  },
  {
   "cell_type": "code",
   "execution_count": 66,
   "metadata": {},
   "outputs": [
    {
     "data": {
      "text/plain": [
       "\n",
       "        SiPM name          = SENSL\n",
       "        SiPM size          =    1.00 mm\n",
       "        SiPM Surface       =    1.00 mm2\n",
       "        SiPM QE            =    0.50\n",
       "        SiPM TPB eff       =    0.50\n",
       "        SiPM global PDE    =    0.25\n",
       "        bi214 activity     =    0.05 muBq\n",
       "        bi214 activity     =    0.05 muBq\n",
       "        "
      ]
     },
     "execution_count": 66,
     "metadata": {},
     "output_type": "execute_result"
    }
   ],
   "source": [
    "sipm = SiPM()\n",
    "sipm"
   ]
  },
  {
   "cell_type": "markdown",
   "metadata": {},
   "source": [
    "## KDBs"
   ]
  },
  {
   "cell_type": "code",
   "execution_count": 57,
   "metadata": {},
   "outputs": [
    {
     "data": {
      "text/plain": [
       "\n",
       "        nof_sipm          = 64\n",
       "        KDB size          =  110.00 mm\n",
       "        KDB pitch         =   10.00 mm\n",
       "        KDB Surface       =  121.00 cm2\n",
       "        bi214 activity    =   15.50 muBq\n",
       "        bi214 activity    =    7.50 muBq\n",
       "        "
      ]
     },
     "execution_count": 57,
     "metadata": {},
     "output_type": "execute_result"
    }
   ],
   "source": [
    "kdb = KDB(L = 110  * mm,\n",
    "          pitch    = 10   * mm,\n",
    "          nof_sipm = 64,\n",
    "          a_bi214  = 31 * muBq, a_tl208= 15 * muBq)\n",
    "kdb"
   ]
  },
  {
   "cell_type": "code",
   "execution_count": 58,
   "metadata": {},
   "outputs": [
    {
     "data": {
      "text/plain": [
       "120.0555738032992"
      ]
     },
     "execution_count": 58,
     "metadata": {},
     "output_type": "execute_result"
    }
   ],
   "source": [
    "nof_kdb = n100_pv.head_surface / kdb.S\n",
    "nof_kdb "
   ]
  },
  {
   "cell_type": "code",
   "execution_count": 59,
   "metadata": {},
   "outputs": [
    {
     "data": {
      "text/plain": [
       "7683.556723411149"
      ]
     },
     "execution_count": 59,
     "metadata": {},
     "output_type": "execute_result"
    }
   ],
   "source": [
    "nof_sipm = nof_kdb * kdb.nof_sipm\n",
    "nof_sipm"
   ]
  },
  {
   "cell_type": "code",
   "execution_count": 67,
   "metadata": {},
   "outputs": [],
   "source": [
    "pmtActivity = pmt_activity('PMT activity', 60, pmt)"
   ]
  },
  {
   "cell_type": "code",
   "execution_count": 68,
   "metadata": {},
   "outputs": [
    {
     "name": "stdout",
     "output_type": "stream",
     "text": [
      "\n",
      "    activity \t PMT activity\n",
      "    Bi-214 \t   16.48 mBq\n",
      "    Tl-208 \t    7.86 mBq\n",
      "    \n"
     ]
    }
   ],
   "source": [
    "print_activity('PMT activity', pmtActivity, unit='mBq')"
   ]
  },
  {
   "cell_type": "code",
   "execution_count": 69,
   "metadata": {},
   "outputs": [],
   "source": [
    "sipmActivity = sipm_activity('SiPM activity', nof_sipm, sipm)"
   ]
  },
  {
   "cell_type": "code",
   "execution_count": 70,
   "metadata": {},
   "outputs": [
    {
     "name": "stdout",
     "output_type": "stream",
     "text": [
      "\n",
      "    activity \t SiPM activity\n",
      "    Bi-214 \t    0.19 mBq\n",
      "    Tl-208 \t    0.19 mBq\n",
      "    \n"
     ]
    }
   ],
   "source": [
    "print_activity('SiPM activity', sipmActivity, unit='mBq')"
   ]
  },
  {
   "cell_type": "code",
   "execution_count": 71,
   "metadata": {},
   "outputs": [
    {
     "name": "stdout",
     "output_type": "stream",
     "text": [
      "\n",
      "    activity \t KDB activity\n",
      "    Bi-214 \t    0.93 mBq\n",
      "    Tl-208 \t    0.45 mBq\n",
      "    \n"
     ]
    }
   ],
   "source": [
    "kdbActivity = sipm_activity('KDB activity', nof_kdb , kdb)\n",
    "print_activity('KDB activity', kdbActivity, unit='mBq')"
   ]
  },
  {
   "cell_type": "code",
   "execution_count": 72,
   "metadata": {},
   "outputs": [
    {
     "name": "stdout",
     "output_type": "stream",
     "text": [
      "            name      bi214     tl208\n",
      "0   PMT activity  16.477500  7.860000\n",
      "1  SiPM activity   0.192089  0.192089\n",
      "2   KDB activity   0.930431  0.450208\n"
     ]
    }
   ],
   "source": [
    "act_sensor_table =activity_table([pmtActivity, sipmActivity, kdbActivity])\n",
    "print(act_sensor_table)"
   ]
  },
  {
   "cell_type": "code",
   "execution_count": 73,
   "metadata": {},
   "outputs": [
    {
     "data": {
      "text/html": [
       "<div>\n",
       "<style>\n",
       "    .dataframe thead tr:only-child th {\n",
       "        text-align: right;\n",
       "    }\n",
       "\n",
       "    .dataframe thead th {\n",
       "        text-align: left;\n",
       "    }\n",
       "\n",
       "    .dataframe tbody tr th {\n",
       "        vertical-align: top;\n",
       "    }\n",
       "</style>\n",
       "<table border=\"1\" class=\"dataframe\">\n",
       "  <thead>\n",
       "    <tr style=\"text-align: right;\">\n",
       "      <th></th>\n",
       "      <th>name</th>\n",
       "      <th>bi214</th>\n",
       "      <th>tl208</th>\n",
       "    </tr>\n",
       "  </thead>\n",
       "  <tbody>\n",
       "    <tr>\n",
       "      <th>0</th>\n",
       "      <td>PMT activity</td>\n",
       "      <td>16.477500</td>\n",
       "      <td>7.860000</td>\n",
       "    </tr>\n",
       "    <tr>\n",
       "      <th>1</th>\n",
       "      <td>SiPM activity</td>\n",
       "      <td>0.192089</td>\n",
       "      <td>0.192089</td>\n",
       "    </tr>\n",
       "    <tr>\n",
       "      <th>2</th>\n",
       "      <td>KDB activity</td>\n",
       "      <td>0.930431</td>\n",
       "      <td>0.450208</td>\n",
       "    </tr>\n",
       "  </tbody>\n",
       "</table>\n",
       "</div>"
      ],
      "text/plain": [
       "            name      bi214     tl208\n",
       "0   PMT activity  16.477500  7.860000\n",
       "1  SiPM activity   0.192089  0.192089\n",
       "2   KDB activity   0.930431  0.450208"
      ]
     },
     "execution_count": 73,
     "metadata": {},
     "output_type": "execute_result"
    }
   ],
   "source": [
    "act_sensor_table"
   ]
  }
 ],
 "metadata": {
  "kernelspec": {
   "display_name": "Python 3",
   "language": "python",
   "name": "python3"
  },
  "language_info": {
   "codemirror_mode": {
    "name": "ipython",
    "version": 3
   },
   "file_extension": ".py",
   "mimetype": "text/x-python",
   "name": "python",
   "nbconvert_exporter": "python",
   "pygments_lexer": "ipython3",
   "version": "3.6.2"
  }
 },
 "nbformat": 4,
 "nbformat_minor": 2
}
