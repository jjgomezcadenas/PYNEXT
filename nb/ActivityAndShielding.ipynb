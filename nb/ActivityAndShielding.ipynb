{
 "cells": [
  {
   "cell_type": "markdown",
   "metadata": {},
   "source": [
    "# Activity and Shielding"
   ]
  },
  {
   "cell_type": "code",
   "execution_count": 204,
   "metadata": {},
   "outputs": [
    {
     "name": "stdout",
     "output_type": "stream",
     "text": [
      "2017-12-17 10:23:21\n",
      "The autoreload extension is already loaded. To reload it, use:\n",
      "  %reload_ext autoreload\n"
     ]
    }
   ],
   "source": [
    "import os\n",
    "import datetime\n",
    "print(datetime.datetime.now().strftime('%Y-%m-%d %H:%M:%S'))\n",
    "\n",
    "import time\n",
    "import glob\n",
    "import tables as tb\n",
    "import numpy as np\n",
    "import pandas as pd\n",
    "import matplotlib.pyplot as plt\n",
    "from functools import reduce\n",
    "import numpy.testing as npt\n",
    "from operator import itemgetter, attrgetter\n",
    "%matplotlib inline\n",
    "%load_ext autoreload\n",
    "%autoreload 2\n",
    "\n",
    "plt.rcParams[\"figure.figsize\"] = 10, 8\n",
    "plt.rcParams[\"font.size\"     ] = 14\n",
    "pd.options.display.float_format = '{:.2g}'.format"
   ]
  },
  {
   "cell_type": "code",
   "execution_count": 2,
   "metadata": {},
   "outputs": [],
   "source": [
    "from math import sqrt, pi\n",
    "from pynext.system_of_units import *\n",
    "from pynext.Material import PhysicalMaterial\n",
    "from pynext.Material import RadioactiveMaterial\n",
    "from pynext.Material import PVMaterial\n",
    "from pynext.Material import SelfAtt\n",
    "from pynext.PhysicalVolume import PhysicalVolume\n",
    "from pynext.Shapes import CylinderShell\n",
    "from pynext.Shapes import Disk"
   ]
  },
  {
   "cell_type": "code",
   "execution_count": 3,
   "metadata": {
    "collapsed": true
   },
   "outputs": [],
   "source": [
    "from pynext.Material import vacuum, ti316, cu12, cu03, pb\n",
    "from pynext.Material import GXe"
   ]
  },
  {
   "cell_type": "code",
   "execution_count": 179,
   "metadata": {
    "collapsed": true
   },
   "outputs": [],
   "source": [
    "from pynext.CylindricalVessel import CVD, CVA\n",
    "from pynext.CylindricalVessel import CylindricalVessel"
   ]
  },
  {
   "cell_type": "code",
   "execution_count": 5,
   "metadata": {
    "collapsed": true
   },
   "outputs": [],
   "source": [
    "from collections import namedtuple"
   ]
  },
  {
   "cell_type": "code",
   "execution_count": 16,
   "metadata": {},
   "outputs": [],
   "source": [
    "from pynext.NextData import NextPVData\n",
    "from pynext.NextData import RFlux"
   ]
  },
  {
   "cell_type": "markdown",
   "metadata": {},
   "source": [
    "## NEXT-100 PV dimensions"
   ]
  },
  {
   "cell_type": "code",
   "execution_count": 7,
   "metadata": {
    "collapsed": true
   },
   "outputs": [],
   "source": [
    "n100d = NextPVData()"
   ]
  },
  {
   "cell_type": "code",
   "execution_count": 8,
   "metadata": {},
   "outputs": [
    {
     "data": {
      "text/plain": [
       "\n",
       "\n",
       "        Next100PVData\n",
       "        ------------------\n",
       "\n",
       "        PV :\n",
       "        inner diameter  = 1360.00 mm\n",
       "        inner radius    =  680.00 mm\n",
       "        outer diameter  = 1370.00 mm\n",
       "        outer radius    =  685.00 mm\n",
       "        body thickness  =   10.00 mm\n",
       "        head thickness  =   12.00 mm\n",
       "        length          = 1600.00 mm\n",
       "\n",
       "        CS :\n",
       "        inner diameter  = 1240.00 mm\n",
       "        inner radius    =  620.00 mm\n",
       "        outer diameter  = 1360.00 mm\n",
       "        outer radius    =  680.00 mm\n",
       "        body thickness  =  120.00 mm\n",
       "        head thickness  =  120.00 mm\n",
       "        length          = 1600.00 mm\n",
       "\n",
       "        PB :\n",
       "        inner diameter  = 1370.00 mm\n",
       "        inner radius    =  685.00 mm\n",
       "        outer diameter  = 1570.00 mm\n",
       "        outer radius    =  785.00 mm\n",
       "        body thickness  =  200.00 mm\n",
       "        head thickness  =  200.00 mm\n",
       "        length          = 1600.00 mm\n",
       "\n",
       "    "
      ]
     },
     "execution_count": 8,
     "metadata": {},
     "output_type": "execute_result"
    }
   ],
   "source": [
    "n100d"
   ]
  },
  {
   "cell_type": "markdown",
   "metadata": {},
   "source": [
    "### Cylindrical Vessel"
   ]
  },
  {
   "cell_type": "markdown",
   "metadata": {},
   "source": [
    "A cylindrical vessel contains two physical volumes fille with the same material, one describing the body (e.g the cylinder itself) and the other describing the heads (the end-cups). "
   ]
  },
  {
   "cell_type": "code",
   "execution_count": 211,
   "metadata": {},
   "outputs": [],
   "source": [
    "cvd_pv = CVD(name    = 'Next100PV',\n",
    "                 R       = n100d.pv_inner_radius,\n",
    "                 th_body = n100d.pv_body_thickness,\n",
    "                 L       = n100d.pv_length,\n",
    "                 th_head = n100d.pv_head_thickness)\n",
    "\n",
    "n100_pv = CylindricalVessel(name=cvd_pv.name, material=ti316, cvd=cvd_pv)"
   ]
  },
  {
   "cell_type": "code",
   "execution_count": 212,
   "metadata": {},
   "outputs": [
    {
     "data": {
      "text/plain": [
       "\n",
       "        Cylindrical Vessel:\n",
       "\n",
       "        ----------------\n",
       "        name      = Next100PV\n",
       "        material  = 316ti\n",
       "\n",
       "        specific activity of material:\n",
       "        Bi-214    =    1.00 mBq/kg\n",
       "        Tl-208    =    0.15 mBq/kg\n",
       "\n",
       "        body:\n",
       "        R         =  680.00 mm\n",
       "        thickness =   10.00 mm\n",
       "        length    = 1600.00 mm\n",
       "        surface   = 6.84e+06 mm2\n",
       "        volume    = 6.89e+07 mm3\n",
       "        mass      =  541.96 kg\n",
       "        activity Bi-214 =  541.96 mBq, self-shielded = 195.19 mBq\n",
       "        activity Tl-208 =   81.29 mBq, self-shielded =  29.28 mBq\n",
       "        transmittance   = 7.36e-01\n",
       "\n",
       "        heads:\n",
       "        thickness =   12.00 mm\n",
       "        surface   = 2.91e+06 mm2\n",
       "        volume    = 3.49e+07 mm3\n",
       "        mass      =  274.38 kg\n",
       "        activity Bi-214 =  137.19 mBq, self-shielded =  47.44 mBq\n",
       "        activity Tl-208 =   20.58 mBq, self-shielded =   7.12 mBq\n",
       "        transmittance   = 6.92e-01\n",
       "\n",
       "        "
      ]
     },
     "execution_count": 212,
     "metadata": {},
     "output_type": "execute_result"
    }
   ],
   "source": [
    "n100_pv"
   ]
  },
  {
   "cell_type": "markdown",
   "metadata": {},
   "source": [
    "## Gamma activity in Canfranc"
   ]
  },
  {
   "cell_type": "code",
   "execution_count": 17,
   "metadata": {},
   "outputs": [
    {
     "data": {
      "text/plain": [
       "\n",
       "\n",
       "        LSC2010\n",
       "        ------------------\n",
       "\n",
       "        U238  flux  =  550.00 mBq / cm2\n",
       "        Th232 flux  =  360.00 mBq / cm2\n",
       "        Bi214 flux  =    3.85 mBq / cm2\n",
       "        Tl208 flux  =   49.14 mBq / cm2\n",
       "\n",
       "    "
      ]
     },
     "execution_count": 17,
     "metadata": {},
     "output_type": "execute_result"
    }
   ],
   "source": [
    "lsc_gamma_flux = RFlux()\n",
    "lsc_gamma_flux"
   ]
  },
  {
   "cell_type": "markdown",
   "metadata": {},
   "source": [
    "## Attenuation provided by the lead castle"
   ]
  },
  {
   "cell_type": "code",
   "execution_count": 18,
   "metadata": {
    "collapsed": true
   },
   "outputs": [],
   "source": [
    "pbth = np.arange(0, 20, 0.1) * cm\n",
    "T = np.array([pb.transmittance_at_qbb(l) for l in pbth]) "
   ]
  },
  {
   "cell_type": "code",
   "execution_count": 19,
   "metadata": {},
   "outputs": [
    {
     "data": {
      "image/png": "[encoded data removed]",
      "text/plain": [
       "<matplotlib.figure.Figure at 0x1189dce10>"
      ]
     },
     "metadata": {},
     "output_type": "display_data"
    }
   ],
   "source": [
    "plt.semilogy(pbth / cm, T,'b')\n",
    "plt.grid(True)\n",
    "plt.xlabel('Lead thickness (cm)')\n",
    "plt.ylabel('Fraction of gammas (2.5 MeV) tramsmitted through')\n",
    "plt.show()"
   ]
  },
  {
   "cell_type": "markdown",
   "metadata": {},
   "source": [
    "#### Lead shield reduce energetic gammas by four orders of magnitude"
   ]
  },
  {
   "cell_type": "markdown",
   "metadata": {},
   "source": [
    "## Attenuation provided by copper shield"
   ]
  },
  {
   "cell_type": "code",
   "execution_count": 20,
   "metadata": {
    "collapsed": true
   },
   "outputs": [],
   "source": [
    "cuth = np.arange(0, 20, 0.1) * cm\n",
    "T = np.array([cu12.transmittance_at_qbb(l) for l in cuth]) "
   ]
  },
  {
   "cell_type": "code",
   "execution_count": 21,
   "metadata": {},
   "outputs": [
    {
     "data": {
      "image/png": "[encoded data removed]",
      "text/plain": [
       "<matplotlib.figure.Figure at 0x11c1576d8>"
      ]
     },
     "metadata": {},
     "output_type": "display_data"
    }
   ],
   "source": [
    "plt.semilogy(cuth / cm, T,'b')\n",
    "plt.grid(True)\n",
    "plt.xlabel('Cupper thickness (cm)')\n",
    "plt.ylabel('Fraction of gammas (2.5 MeV) tramsmitted through')\n",
    "plt.show()"
   ]
  },
  {
   "cell_type": "markdown",
   "metadata": {},
   "source": [
    "#### Copper shielding provides ~2 orders of magnitude"
   ]
  },
  {
   "cell_type": "markdown",
   "metadata": {},
   "source": [
    "## Unshielded flux from LSC crossing NEXT"
   ]
  },
  {
   "cell_type": "markdown",
   "metadata": {},
   "source": [
    "1. Define a Cylindrical Vessel of NEXT-100 dimensions filled with vacuum (no self-shielding)\n",
    "2. Compute the total activity entering the detector as the product of the surfaces of the envelop volumes and the LSC flux. "
   ]
  },
  {
   "cell_type": "code",
   "execution_count": 184,
   "metadata": {
    "collapsed": true
   },
   "outputs": [],
   "source": [
    "def punit(val, unit):\n",
    "    u = eval(unit)\n",
    "    return \"{:7.2f} {:s}\".format(val / u, unit)"
   ]
  },
  {
   "cell_type": "code",
   "execution_count": 190,
   "metadata": {},
   "outputs": [],
   "source": [
    "def activity_lsc_gammas_through_CV(name, cv, gamma_flux):\n",
    "    \"\"\"Returns the activity of gammas through a cylindrical vessel (cv)\"\"\"\n",
    "         \n",
    "    activity = CVA(name = name,\n",
    "                     body_bi214 = gamma_flux.Bi214     * cv.body_surface,\n",
    "                     head_bi214 = 2 * gamma_flux.Bi214 * cv.head_surface,\n",
    "                     body_tl208 = gamma_flux.Tl208     * cv.body_surface,\n",
    "                     head_tl208 = 2 * gamma_flux.Tl208 * cv.head_surface)\n",
    "    \n",
    "    return activity"
   ]
  },
  {
   "cell_type": "code",
   "execution_count": 186,
   "metadata": {
    "collapsed": true
   },
   "outputs": [],
   "source": [
    "def activity_gammas_transmitted_CV(name, cv, ia):\n",
    "    \"\"\"For a cylindrical vessel (cv) and an incoming activity (ia)\n",
    "       compute the transmitted activity\n",
    "       \n",
    "       \"\"\"\n",
    "        \n",
    "    activity = CVA(name = name,\n",
    "                     body_bi214 = ia.body_bi214 * cv.body_transmittance,\n",
    "                     head_bi214 = ia.head_bi214 * cv.body_transmittance,\n",
    "                     body_tl208 = ia.body_tl208 * cv.body_transmittance,\n",
    "                     head_tl208 = ia.head_tl208 * cv.body_transmittance)\n",
    "                     \n",
    "    return activity"
   ]
  },
  {
   "cell_type": "code",
   "execution_count": 200,
   "metadata": {
    "collapsed": true
   },
   "outputs": [],
   "source": [
    "def print_activity(act, unit='Bq'):\n",
    "    \n",
    "    print(\"\"\"\n",
    "    activity \\t\\t {}\n",
    "    body  (Bi-214) \\t {} \n",
    "    head  (Bi-214) \\t {} \n",
    "    total (Bi-214) \\t {} \n",
    "    body  (Tl-208) \\t {} \n",
    "    head  (Tl-208) \\t {} \n",
    "    total (Tl-208) \\t {} \n",
    "\"\"\".format(act.name,\n",
    "           punit(act.body_bi214,unit), punit(act.head_bi214,unit), \n",
    "           punit(act.body_bi214 + act.head_bi214, unit),\n",
    "           punit(act.body_tl208,unit), punit(act.head_tl208,unit), \n",
    "           punit(act.body_tl208 + act.head_tl208,unit)))"
   ]
  },
  {
   "cell_type": "code",
   "execution_count": 208,
   "metadata": {},
   "outputs": [],
   "source": [
    "def activity_of_cv(name, cv):\n",
    "    \"\"\"Returns the self-shielded activity emanating from a CV\"\"\"\n",
    "    activity = CVA(name = name,\n",
    "                     body_bi214 = cv.body_self_shield_activity_bi214,\n",
    "                     head_bi214 = cv.head_self_shield_activity_bi214,\n",
    "                     body_tl208 = cv.body_self_shield_activity_tl208,\n",
    "                     head_tl208 = cv.head_self_shield_activity_tl208)\n",
    "    return activity\n",
    "    "
   ]
  },
  {
   "cell_type": "code",
   "execution_count": 177,
   "metadata": {
    "collapsed": true
   },
   "outputs": [],
   "source": [
    "def activity_table(activities):\n",
    "    \n",
    "    df = pd.DataFrame(activities, columns=activities[0]._fields)\n",
    "    df2 = df[['name','body_bi214', 'head_bi214', 'body_tl208','head_tl208']].copy()\n",
    "    names = [df2[column].name for column in df2]\n",
    "    for name in names[1:]:\n",
    "        df2[name] /= mBq\n",
    "    return df2"
   ]
  },
  {
   "cell_type": "code",
   "execution_count": 182,
   "metadata": {},
   "outputs": [
    {
     "data": {
      "text/plain": [
       "\n",
       "        Cylindrical Vessel:\n",
       "\n",
       "        ----------------\n",
       "        name      = Next100PV\n",
       "        material  = vacuum\n",
       "\n",
       "        specific activity of material:\n",
       "        Bi-214    =    0.00 mBq/kg\n",
       "        Tl-208    =    0.00 mBq/kg\n",
       "\n",
       "        body:\n",
       "        R         =  680.00 mm\n",
       "        thickness =   10.00 mm\n",
       "        length    = 1600.00 mm\n",
       "        surface   = 6.84e+06 mm2\n",
       "        volume    = 6.89e+07 mm3\n",
       "        mass      =    0.00 kg\n",
       "        activity Bi-214 =    0.00 mBq, self-shielded =   0.00 mBq\n",
       "        activity Tl-208 =    0.00 mBq, self-shielded =   0.00 mBq\n",
       "        transmittance   = 1.00e+00\n",
       "\n",
       "        heads:\n",
       "        thickness =   12.00 mm\n",
       "        surface   = 2.91e+06 mm2\n",
       "        volume    = 3.49e+07 mm3\n",
       "        mass      =    0.00 kg\n",
       "        activity Bi-214 =    0.00 mBq, self-shielded =   0.00 mBq\n",
       "        activity Tl-208 =    0.00 mBq, self-shielded =   0.00 mBq\n",
       "        transmittance   = 1.00e+00\n",
       "\n",
       "        "
      ]
     },
     "execution_count": 182,
     "metadata": {},
     "output_type": "execute_result"
    }
   ],
   "source": [
    "n100_envelop = CylindricalVessel(name='Next100Envelop', material=vacuum, cvd=cvd_pv)\n",
    "n100_envelop"
   ]
  },
  {
   "cell_type": "code",
   "execution_count": 206,
   "metadata": {},
   "outputs": [
    {
     "name": "stdout",
     "output_type": "stream",
     "text": [
      "\n",
      "    activity \t\t LSC activity \n",
      "    body  (Bi-214) \t  263.19 Bq \n",
      "    head  (Bi-214) \t  111.86 Bq \n",
      "    total (Bi-214) \t  375.05 Bq \n",
      "    body  (Tl-208) \t 3359.26 Bq \n",
      "    head  (Tl-208) \t 1427.69 Bq \n",
      "    total (Tl-208) \t 4786.95 Bq \n",
      "\n"
     ]
    }
   ],
   "source": [
    "lsc_activity_next_100 = activity_lsc_gammas_through_CV('LSC activity ',\n",
    "                                                       n100_envelop, lsc_gamma_flux)\n",
    "print_activity(lsc_activity_next_100, unit='Bq')"
   ]
  },
  {
   "cell_type": "markdown",
   "metadata": {},
   "source": [
    "## Shielding provided by the Lead Castle"
   ]
  },
  {
   "cell_type": "markdown",
   "metadata": {},
   "source": [
    "1. Define a Cylindrical shell filled with PB with the thickness of the PB shield\n",
    "2. Compute the transmittance through the shield.\n",
    "3. Compute the self-shielded activity"
   ]
  },
  {
   "cell_type": "code",
   "execution_count": 45,
   "metadata": {},
   "outputs": [],
   "source": [
    "cvd_pb = CVD(name    ='PBShield', \n",
    "             R       =  n100d.pb_inner_diameter, \n",
    "             th_body = n100d.pb_body_thickness, \n",
    "             L       = n100d.pb_length, \n",
    "             th_head = n100d.pb_head_thickness)"
   ]
  },
  {
   "cell_type": "code",
   "execution_count": 46,
   "metadata": {},
   "outputs": [
    {
     "data": {
      "text/plain": [
       "\n",
       "        Cylindrical Vessel:\n",
       "\n",
       "        ----------------\n",
       "        name      = PBShield\n",
       "        material  = Pb\n",
       "\n",
       "        specific activity of material:\n",
       "        Bi-214    =    0.37 mBq/kg\n",
       "        Tl-208    =    0.07 mBq/kg\n",
       "\n",
       "        body:\n",
       "        R         = 1370.00 mm\n",
       "        thickness =  200.00 mm\n",
       "        length    = 1600.00 mm\n",
       "        surface   = 1.38e+07 mm2\n",
       "        volume    = 2.96e+09 mm3\n",
       "        mass      = 33487.07 kg\n",
       "        activity Bi-214 = 12390.21 mBq, self-shielded = 368.65 mBq\n",
       "        activity Tl-208 = 2444.56 mBq, self-shielded =  72.73 mBq\n",
       "        transmittance   = 4.68e-05\n",
       "\n",
       "        heads:\n",
       "        thickness =  200.00 mm\n",
       "        surface   = 1.18e+07 mm2\n",
       "        volume    = 2.36e+09 mm3\n",
       "        mass      = 26722.74 kg\n",
       "        activity Bi-214 = 4943.71 mBq, self-shielded = 157.83 mBq\n",
       "        activity Tl-208 =  975.38 mBq, self-shielded =  31.14 mBq\n",
       "        transmittance   = 4.68e-05\n",
       "\n",
       "        "
      ]
     },
     "execution_count": 46,
     "metadata": {},
     "output_type": "execute_result"
    }
   ],
   "source": [
    "n100_pb = CylindricalVessel(name='Next100Pb', material=pb, cvd=cvd_pb)\n",
    "n100_pb"
   ]
  },
  {
   "cell_type": "code",
   "execution_count": 202,
   "metadata": {},
   "outputs": [
    {
     "name": "stdout",
     "output_type": "stream",
     "text": [
      "\n",
      "    activity \t\t activity after Pb\n",
      "    body  (Bi-214) \t   12.31 mBq \n",
      "    head  (Bi-214) \t    5.23 mBq \n",
      "    total (Bi-214) \t   17.54 mBq \n",
      "    body  (Tl-208) \t  157.09 mBq \n",
      "    head  (Tl-208) \t   66.76 mBq \n",
      "    total (Tl-208) \t  223.86 mBq \n",
      "\n"
     ]
    }
   ],
   "source": [
    "lsc_activity_transmitted_pb = activity_gammas_transmitted_CV('activity after Pb',n100_pb , lsc_activity_next_100)\n",
    "print_activity(lsc_activity_transmitted_pb, unit='mBq')"
   ]
  },
  {
   "cell_type": "markdown",
   "metadata": {},
   "source": [
    "## Shielding provided by the ICS"
   ]
  },
  {
   "cell_type": "code",
   "execution_count": 48,
   "metadata": {},
   "outputs": [
    {
     "data": {
      "text/plain": [
       "CVD(name='CUShield', R=1240.0, th_body=120.0, L=1600.0, th_head=120.0)"
      ]
     },
     "execution_count": 48,
     "metadata": {},
     "output_type": "execute_result"
    }
   ],
   "source": [
    "cvd_cu = CVD(name    ='CUShield', \n",
    "             R       = n100d.cs_inner_diameter, \n",
    "             th_body = n100d.cs_body_thickness, \n",
    "             L       = n100d.cs_length, \n",
    "             th_head = n100d.cs_head_thickness)\n",
    "cvd_cu"
   ]
  },
  {
   "cell_type": "code",
   "execution_count": 49,
   "metadata": {},
   "outputs": [
    {
     "data": {
      "text/plain": [
       "\n",
       "        Cylindrical Vessel:\n",
       "\n",
       "        ----------------\n",
       "        name      = CUShield\n",
       "        material  = CuUpperLimits\n",
       "\n",
       "        specific activity of material:\n",
       "        Bi-214    =    0.01 mBq/kg\n",
       "        Tl-208    =    0.00 mBq/kg\n",
       "\n",
       "        body:\n",
       "        R         = 1240.00 mm\n",
       "        thickness =  120.00 mm\n",
       "        length    = 1600.00 mm\n",
       "        surface   = 1.25e+07 mm2\n",
       "        volume    = 1.57e+09 mm3\n",
       "        mass      = 14051.82 kg\n",
       "        activity Bi-214 =  168.62 mBq, self-shielded =  12.12 mBq\n",
       "        activity Tl-208 =   19.67 mBq, self-shielded =   1.41 mBq\n",
       "        transmittance   = 1.51e-02\n",
       "\n",
       "        heads:\n",
       "        thickness =  120.00 mm\n",
       "        surface   = 9.66e+06 mm2\n",
       "        volume    = 1.16e+09 mm3\n",
       "        mass      = 10387.53 kg\n",
       "        activity Bi-214 =   62.33 mBq, self-shielded =   4.70 mBq\n",
       "        activity Tl-208 =    7.27 mBq, self-shielded =   0.55 mBq\n",
       "        transmittance   = 1.51e-02\n",
       "\n",
       "        "
      ]
     },
     "execution_count": 49,
     "metadata": {},
     "output_type": "execute_result"
    }
   ],
   "source": [
    "n100_cu = CylindricalVessel(name='Next100CU', material=cu12, cvd=cvd_cu)\n",
    "n100_cu"
   ]
  },
  {
   "cell_type": "code",
   "execution_count": 203,
   "metadata": {},
   "outputs": [
    {
     "name": "stdout",
     "output_type": "stream",
     "text": [
      "\n",
      "    activity \t\t activity after Cu\n",
      "    body  (Bi-214) \t    0.19 mBq \n",
      "    head  (Bi-214) \t    0.08 mBq \n",
      "    total (Bi-214) \t    0.26 mBq \n",
      "    body  (Tl-208) \t    2.37 mBq \n",
      "    head  (Tl-208) \t    1.01 mBq \n",
      "    total (Tl-208) \t    3.38 mBq \n",
      "\n"
     ]
    }
   ],
   "source": [
    "lsc_activity_transmitted_cu = activity_gammas_transmitted_CV('activity after Cu', n100_cu , lsc_activity_transmitted_pb)\n",
    "print_activity(lsc_activity_transmitted_cu, unit='mBq')"
   ]
  },
  {
   "cell_type": "code",
   "execution_count": 207,
   "metadata": {},
   "outputs": [
    {
     "name": "stdout",
     "output_type": "stream",
     "text": [
      "                name  body_bi214  head_bi214  body_tl208  head_tl208\n",
      "0      LSC activity      2.6e+05     1.1e+05     3.4e+06     1.4e+06\n",
      "1  activity after Pb          12         5.2     1.6e+02          67\n",
      "2  activity after Cu        0.19       0.079         2.4           1\n"
     ]
    }
   ],
   "source": [
    "act =activity_table([lsc_activity_next_100, lsc_activity_transmitted_pb, lsc_activity_transmitted_cu])\n",
    "print(act)"
   ]
  },
  {
   "cell_type": "markdown",
   "metadata": {},
   "source": [
    "#### LSC activity after Pb and Cu shield is negligible. "
   ]
  },
  {
   "cell_type": "markdown",
   "metadata": {},
   "source": [
    "## Activity due to Lead shield"
   ]
  },
  {
   "cell_type": "code",
   "execution_count": 209,
   "metadata": {
    "scrolled": true
   },
   "outputs": [
    {
     "name": "stdout",
     "output_type": "stream",
     "text": [
      "\n",
      "    activity \t\t activity of Pb (ss)\n",
      "    body  (Bi-214) \t  368.65 mBq \n",
      "    head  (Bi-214) \t  157.83 mBq \n",
      "    total (Bi-214) \t  526.48 mBq \n",
      "    body  (Tl-208) \t   72.73 mBq \n",
      "    head  (Tl-208) \t   31.14 mBq \n",
      "    total (Tl-208) \t  103.87 mBq \n",
      "\n"
     ]
    }
   ],
   "source": [
    "pb_activity = activity_of_cv('activity of Pb (ss)', n100_pb)\n",
    "print_activity(pb_activity, unit='mBq')"
   ]
  },
  {
   "cell_type": "code",
   "execution_count": 210,
   "metadata": {},
   "outputs": [
    {
     "name": "stdout",
     "output_type": "stream",
     "text": [
      "\n",
      "    activity \t\t PB activity after Cu\n",
      "    body  (Bi-214) \t    5.57 mBq \n",
      "    head  (Bi-214) \t    2.38 mBq \n",
      "    total (Bi-214) \t    7.95 mBq \n",
      "    body  (Tl-208) \t    1.10 mBq \n",
      "    head  (Tl-208) \t    0.47 mBq \n",
      "    total (Tl-208) \t    1.57 mBq \n",
      "\n"
     ]
    }
   ],
   "source": [
    "pb_activity_transmitted_cu = activity_gammas_transmitted_CV('PB activity after Cu', n100_cu , pb_activity)\n",
    "print_activity(pb_activity_transmitted_cu, unit='mBq')"
   ]
  },
  {
   "cell_type": "markdown",
   "metadata": {},
   "source": [
    "## Activity due to PV"
   ]
  },
  {
   "cell_type": "code",
   "execution_count": 213,
   "metadata": {},
   "outputs": [
    {
     "name": "stdout",
     "output_type": "stream",
     "text": [
      "\n",
      "    activity \t\t activity of PV (ss)\n",
      "    body  (Bi-214) \t  195.19 mBq \n",
      "    head  (Bi-214) \t   47.44 mBq \n",
      "    total (Bi-214) \t  242.64 mBq \n",
      "    body  (Tl-208) \t   29.28 mBq \n",
      "    head  (Tl-208) \t    7.12 mBq \n",
      "    total (Tl-208) \t   36.40 mBq \n",
      "\n"
     ]
    }
   ],
   "source": [
    "pv_activity = activity_of_cv('activity of PV (ss)', n100_pv)\n",
    "print_activity(pv_activity, unit='mBq')"
   ]
  },
  {
   "cell_type": "code",
   "execution_count": 214,
   "metadata": {},
   "outputs": [
    {
     "name": "stdout",
     "output_type": "stream",
     "text": [
      "\n",
      "    activity \t\t PV activity after Cu\n",
      "    body  (Bi-214) \t    2.95 mBq \n",
      "    head  (Bi-214) \t    0.72 mBq \n",
      "    total (Bi-214) \t    3.66 mBq \n",
      "    body  (Tl-208) \t    0.44 mBq \n",
      "    head  (Tl-208) \t    0.11 mBq \n",
      "    total (Tl-208) \t    0.55 mBq \n",
      "\n"
     ]
    }
   ],
   "source": [
    "pv_activity_transmitted_cu = activity_gammas_transmitted_CV('PV activity after Cu', n100_cu , pv_activity)\n",
    "print_activity(pv_activity_transmitted_cu, unit='mBq')"
   ]
  },
  {
   "cell_type": "markdown",
   "metadata": {},
   "source": [
    "## Activity due to CS"
   ]
  },
  {
   "cell_type": "code",
   "execution_count": 216,
   "metadata": {},
   "outputs": [
    {
     "name": "stdout",
     "output_type": "stream",
     "text": [
      "\n",
      "    activity \t\t activity of CS (ss)\n",
      "    body  (Bi-214) \t   12.12 mBq \n",
      "    head  (Bi-214) \t    4.70 mBq \n",
      "    total (Bi-214) \t   16.81 mBq \n",
      "    body  (Tl-208) \t    1.41 mBq \n",
      "    head  (Tl-208) \t    0.55 mBq \n",
      "    total (Tl-208) \t    1.96 mBq \n",
      "\n"
     ]
    }
   ],
   "source": [
    "cs_activity = activity_of_cv('activity of CS (ss)', n100_cu)\n",
    "print_activity(cs_activity, unit='mBq')"
   ]
  },
  {
   "cell_type": "code",
   "execution_count": 218,
   "metadata": {},
   "outputs": [
    {
     "name": "stdout",
     "output_type": "stream",
     "text": [
      "                   name  body_bi214  head_bi214  body_tl208  head_tl208\n",
      "0  PB activity after Cu         5.6         2.4         1.1        0.47\n",
      "1  PV activity after Cu         2.9        0.72        0.44        0.11\n",
      "2   activity of CS (ss)          12         4.7         1.4        0.55\n"
     ]
    }
   ],
   "source": [
    "act2 =activity_table([pb_activity_transmitted_cu, pv_activity_transmitted_cu, cs_activity])\n",
    "print(act2)"
   ]
  },
  {
   "cell_type": "code",
   "execution_count": 219,
   "metadata": {},
   "outputs": [
    {
     "data": {
      "text/html": [
       "<div>\n",
       "<style>\n",
       "    .dataframe thead tr:only-child th {\n",
       "        text-align: right;\n",
       "    }\n",
       "\n",
       "    .dataframe thead th {\n",
       "        text-align: left;\n",
       "    }\n",
       "\n",
       "    .dataframe tbody tr th {\n",
       "        vertical-align: top;\n",
       "    }\n",
       "</style>\n",
       "<table border=\"1\" class=\"dataframe\">\n",
       "  <thead>\n",
       "    <tr style=\"text-align: right;\">\n",
       "      <th></th>\n",
       "      <th>name</th>\n",
       "      <th>body_bi214</th>\n",
       "      <th>head_bi214</th>\n",
       "      <th>body_tl208</th>\n",
       "      <th>head_tl208</th>\n",
       "    </tr>\n",
       "  </thead>\n",
       "  <tbody>\n",
       "    <tr>\n",
       "      <th>0</th>\n",
       "      <td>LSC activity</td>\n",
       "      <td>2.6e+05</td>\n",
       "      <td>1.1e+05</td>\n",
       "      <td>3.4e+06</td>\n",
       "      <td>1.4e+06</td>\n",
       "    </tr>\n",
       "    <tr>\n",
       "      <th>1</th>\n",
       "      <td>activity after Pb</td>\n",
       "      <td>12</td>\n",
       "      <td>5.2</td>\n",
       "      <td>1.6e+02</td>\n",
       "      <td>67</td>\n",
       "    </tr>\n",
       "    <tr>\n",
       "      <th>2</th>\n",
       "      <td>activity after Cu</td>\n",
       "      <td>0.19</td>\n",
       "      <td>0.079</td>\n",
       "      <td>2.4</td>\n",
       "      <td>1</td>\n",
       "    </tr>\n",
       "  </tbody>\n",
       "</table>\n",
       "</div>"
      ],
      "text/plain": [
       "                name  body_bi214  head_bi214  body_tl208  head_tl208\n",
       "0      LSC activity      2.6e+05     1.1e+05     3.4e+06     1.4e+06\n",
       "1  activity after Pb          12         5.2     1.6e+02          67\n",
       "2  activity after Cu        0.19       0.079         2.4           1"
      ]
     },
     "execution_count": 219,
     "metadata": {},
     "output_type": "execute_result"
    }
   ],
   "source": [
    "act"
   ]
  },
  {
   "cell_type": "code",
   "execution_count": 220,
   "metadata": {},
   "outputs": [
    {
     "data": {
      "text/html": [
       "<div>\n",
       "<style>\n",
       "    .dataframe thead tr:only-child th {\n",
       "        text-align: right;\n",
       "    }\n",
       "\n",
       "    .dataframe thead th {\n",
       "        text-align: left;\n",
       "    }\n",
       "\n",
       "    .dataframe tbody tr th {\n",
       "        vertical-align: top;\n",
       "    }\n",
       "</style>\n",
       "<table border=\"1\" class=\"dataframe\">\n",
       "  <thead>\n",
       "    <tr style=\"text-align: right;\">\n",
       "      <th></th>\n",
       "      <th>name</th>\n",
       "      <th>body_bi214</th>\n",
       "      <th>head_bi214</th>\n",
       "      <th>body_tl208</th>\n",
       "      <th>head_tl208</th>\n",
       "    </tr>\n",
       "  </thead>\n",
       "  <tbody>\n",
       "    <tr>\n",
       "      <th>0</th>\n",
       "      <td>PB activity after Cu</td>\n",
       "      <td>5.6</td>\n",
       "      <td>2.4</td>\n",
       "      <td>1.1</td>\n",
       "      <td>0.47</td>\n",
       "    </tr>\n",
       "    <tr>\n",
       "      <th>1</th>\n",
       "      <td>PV activity after Cu</td>\n",
       "      <td>2.9</td>\n",
       "      <td>0.72</td>\n",
       "      <td>0.44</td>\n",
       "      <td>0.11</td>\n",
       "    </tr>\n",
       "    <tr>\n",
       "      <th>2</th>\n",
       "      <td>activity of CS (ss)</td>\n",
       "      <td>12</td>\n",
       "      <td>4.7</td>\n",
       "      <td>1.4</td>\n",
       "      <td>0.55</td>\n",
       "    </tr>\n",
       "  </tbody>\n",
       "</table>\n",
       "</div>"
      ],
      "text/plain": [
       "                   name  body_bi214  head_bi214  body_tl208  head_tl208\n",
       "0  PB activity after Cu         5.6         2.4         1.1        0.47\n",
       "1  PV activity after Cu         2.9        0.72        0.44        0.11\n",
       "2   activity of CS (ss)          12         4.7         1.4        0.55"
      ]
     },
     "execution_count": 220,
     "metadata": {},
     "output_type": "execute_result"
    }
   ],
   "source": [
    "act2"
   ]
  }
 ],
 "metadata": {
  "kernelspec": {
   "display_name": "Python 3",
   "language": "python",
   "name": "python3"
  },
  "language_info": {
   "codemirror_mode": {
    "name": "ipython",
    "version": 3
   },
   "file_extension": ".py",
   "mimetype": "text/x-python",
   "name": "python",
   "nbconvert_exporter": "python",
   "pygments_lexer": "ipython3",
   "version": "3.6.2"
  }
 },
 "nbformat": 4,
 "nbformat_minor": 2
}
