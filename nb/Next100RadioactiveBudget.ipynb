{
 "cells": [
  {
   "cell_type": "markdown",
   "metadata": {},
   "source": [
    "# NEXT-100 Radioactive Budget"
   ]
  },
  {
   "cell_type": "markdown",
   "metadata": {},
   "source": [
    "Revisiting NEXT-100 radioactive budget"
   ]
  },
  {
   "cell_type": "code",
   "execution_count": 1,
   "metadata": {
    "collapsed": true
   },
   "outputs": [],
   "source": [
    "from pynext.system_of_units import *"
   ]
  },
  {
   "cell_type": "code",
   "execution_count": 2,
   "metadata": {},
   "outputs": [
    {
     "name": "stdout",
     "output_type": "stream",
     "text": [
      "2017-12-22 12:56:38\n"
     ]
    }
   ],
   "source": [
    "import os\n",
    "import datetime\n",
    "print(datetime.datetime.now().strftime('%Y-%m-%d %H:%M:%S'))\n",
    "\n",
    "import time\n",
    "import glob\n",
    "import tables as tb\n",
    "import numpy as np\n",
    "import pandas as pd\n",
    "import matplotlib.pyplot as plt\n",
    "from functools import reduce\n",
    "import numpy.testing as npt\n",
    "from operator import itemgetter, attrgetter\n",
    "%matplotlib inline\n",
    "%load_ext autoreload\n",
    "%autoreload 2\n",
    "\n",
    "plt.rcParams[\"figure.figsize\"] = 10, 8\n",
    "plt.rcParams[\"font.size\"     ] = 14"
   ]
  },
  {
   "cell_type": "code",
   "execution_count": 3,
   "metadata": {
    "collapsed": true
   },
   "outputs": [],
   "source": [
    "from src.activity_of_lsc_pv_and_shielding import lsc_activity\n",
    "from src.activity_of_lsc_pv_and_shielding import shield_and_pv_activity"
   ]
  },
  {
   "cell_type": "code",
   "execution_count": 4,
   "metadata": {
    "collapsed": true
   },
   "outputs": [],
   "source": [
    "from src.activity_of_sensors import sensor_activity\n",
    "from src.activity_field_cage import field_cage_activity"
   ]
  },
  {
   "cell_type": "markdown",
   "metadata": {},
   "source": [
    "## LSC activity"
   ]
  },
  {
   "cell_type": "code",
   "execution_count": 5,
   "metadata": {},
   "outputs": [
    {
     "data": {
      "text/html": [
       "<div>\n",
       "<style>\n",
       "    .dataframe thead tr:only-child th {\n",
       "        text-align: right;\n",
       "    }\n",
       "\n",
       "    .dataframe thead th {\n",
       "        text-align: left;\n",
       "    }\n",
       "\n",
       "    .dataframe tbody tr th {\n",
       "        vertical-align: top;\n",
       "    }\n",
       "</style>\n",
       "<table border=\"1\" class=\"dataframe\">\n",
       "  <thead>\n",
       "    <tr style=\"text-align: right;\">\n",
       "      <th></th>\n",
       "      <th>name</th>\n",
       "      <th>body_bi214</th>\n",
       "      <th>head_bi214</th>\n",
       "      <th>body_tl208</th>\n",
       "      <th>head_tl208</th>\n",
       "    </tr>\n",
       "  </thead>\n",
       "  <tbody>\n",
       "    <tr>\n",
       "      <th>0</th>\n",
       "      <td>LSC activity</td>\n",
       "      <td>263190.066147</td>\n",
       "      <td>111855.778113</td>\n",
       "      <td>3.359262e+06</td>\n",
       "      <td>1.427686e+06</td>\n",
       "    </tr>\n",
       "    <tr>\n",
       "      <th>1</th>\n",
       "      <td>activity after Pb</td>\n",
       "      <td>12.307782</td>\n",
       "      <td>5.230807</td>\n",
       "      <td>1.570921e+02</td>\n",
       "      <td>6.676412e+01</td>\n",
       "    </tr>\n",
       "    <tr>\n",
       "      <th>2</th>\n",
       "      <td>activity after Cu</td>\n",
       "      <td>0.185807</td>\n",
       "      <td>0.078968</td>\n",
       "      <td>2.371569e+00</td>\n",
       "      <td>1.007917e+00</td>\n",
       "    </tr>\n",
       "  </tbody>\n",
       "</table>\n",
       "</div>"
      ],
      "text/plain": [
       "                name     body_bi214     head_bi214    body_tl208    head_tl208\n",
       "0      LSC activity   263190.066147  111855.778113  3.359262e+06  1.427686e+06\n",
       "1  activity after Pb      12.307782       5.230807  1.570921e+02  6.676412e+01\n",
       "2  activity after Cu       0.185807       0.078968  2.371569e+00  1.007917e+00"
      ]
     },
     "execution_count": 5,
     "metadata": {},
     "output_type": "execute_result"
    }
   ],
   "source": [
    "act_lsc = lsc_activity()\n",
    "act_lsc"
   ]
  },
  {
   "cell_type": "markdown",
   "metadata": {},
   "source": [
    "## Residual shield activity and activity of PV"
   ]
  },
  {
   "cell_type": "code",
   "execution_count": 6,
   "metadata": {},
   "outputs": [
    {
     "data": {
      "text/html": [
       "<div>\n",
       "<style>\n",
       "    .dataframe thead tr:only-child th {\n",
       "        text-align: right;\n",
       "    }\n",
       "\n",
       "    .dataframe thead th {\n",
       "        text-align: left;\n",
       "    }\n",
       "\n",
       "    .dataframe tbody tr th {\n",
       "        vertical-align: top;\n",
       "    }\n",
       "</style>\n",
       "<table border=\"1\" class=\"dataframe\">\n",
       "  <thead>\n",
       "    <tr style=\"text-align: right;\">\n",
       "      <th></th>\n",
       "      <th>name</th>\n",
       "      <th>body_bi214</th>\n",
       "      <th>head_bi214</th>\n",
       "      <th>body_tl208</th>\n",
       "      <th>head_tl208</th>\n",
       "    </tr>\n",
       "  </thead>\n",
       "  <tbody>\n",
       "    <tr>\n",
       "      <th>0</th>\n",
       "      <td>PB activity after Cu</td>\n",
       "      <td>3.209227</td>\n",
       "      <td>0.604396</td>\n",
       "      <td>0.633172</td>\n",
       "      <td>0.119246</td>\n",
       "    </tr>\n",
       "    <tr>\n",
       "      <th>1</th>\n",
       "      <td>PV activity after Cu</td>\n",
       "      <td>2.968434</td>\n",
       "      <td>0.716252</td>\n",
       "      <td>0.445265</td>\n",
       "      <td>0.107438</td>\n",
       "    </tr>\n",
       "    <tr>\n",
       "      <th>2</th>\n",
       "      <td>activity of CS (ss)</td>\n",
       "      <td>6.058342</td>\n",
       "      <td>0.957609</td>\n",
       "      <td>0.706807</td>\n",
       "      <td>0.111721</td>\n",
       "    </tr>\n",
       "  </tbody>\n",
       "</table>\n",
       "</div>"
      ],
      "text/plain": [
       "                   name  body_bi214  head_bi214  body_tl208  head_tl208\n",
       "0  PB activity after Cu    3.209227    0.604396    0.633172    0.119246\n",
       "1  PV activity after Cu    2.968434    0.716252    0.445265    0.107438\n",
       "2   activity of CS (ss)    6.058342    0.957609    0.706807    0.111721"
      ]
     },
     "execution_count": 6,
     "metadata": {},
     "output_type": "execute_result"
    }
   ],
   "source": [
    "act_shield_and_pv = shield_and_pv_activity()\n",
    "act_shield_and_pv"
   ]
  },
  {
   "cell_type": "markdown",
   "metadata": {},
   "source": [
    "## Activity due to Sensors"
   ]
  },
  {
   "cell_type": "code",
   "execution_count": 7,
   "metadata": {},
   "outputs": [
    {
     "data": {
      "text/html": [
       "<div>\n",
       "<style>\n",
       "    .dataframe thead tr:only-child th {\n",
       "        text-align: right;\n",
       "    }\n",
       "\n",
       "    .dataframe thead th {\n",
       "        text-align: left;\n",
       "    }\n",
       "\n",
       "    .dataframe tbody tr th {\n",
       "        vertical-align: top;\n",
       "    }\n",
       "</style>\n",
       "<table border=\"1\" class=\"dataframe\">\n",
       "  <thead>\n",
       "    <tr style=\"text-align: right;\">\n",
       "      <th></th>\n",
       "      <th>name</th>\n",
       "      <th>bi214</th>\n",
       "      <th>tl208</th>\n",
       "    </tr>\n",
       "  </thead>\n",
       "  <tbody>\n",
       "    <tr>\n",
       "      <th>0</th>\n",
       "      <td>PMT activity</td>\n",
       "      <td>16.477500</td>\n",
       "      <td>7.860000</td>\n",
       "    </tr>\n",
       "    <tr>\n",
       "      <th>1</th>\n",
       "      <td>SiPM activity</td>\n",
       "      <td>0.192089</td>\n",
       "      <td>0.192089</td>\n",
       "    </tr>\n",
       "    <tr>\n",
       "      <th>2</th>\n",
       "      <td>KDB activity</td>\n",
       "      <td>0.930431</td>\n",
       "      <td>0.450208</td>\n",
       "    </tr>\n",
       "  </tbody>\n",
       "</table>\n",
       "</div>"
      ],
      "text/plain": [
       "            name      bi214     tl208\n",
       "0   PMT activity  16.477500  7.860000\n",
       "1  SiPM activity   0.192089  0.192089\n",
       "2   KDB activity   0.930431  0.450208"
      ]
     },
     "execution_count": 7,
     "metadata": {},
     "output_type": "execute_result"
    }
   ],
   "source": [
    "act_sensors = sensor_activity()\n",
    "act_sensors"
   ]
  },
  {
   "cell_type": "markdown",
   "metadata": {},
   "source": [
    "## Activity due to Field Cage"
   ]
  },
  {
   "cell_type": "code",
   "execution_count": 8,
   "metadata": {},
   "outputs": [
    {
     "data": {
      "text/html": [
       "<div>\n",
       "<style>\n",
       "    .dataframe thead tr:only-child th {\n",
       "        text-align: right;\n",
       "    }\n",
       "\n",
       "    .dataframe thead th {\n",
       "        text-align: left;\n",
       "    }\n",
       "\n",
       "    .dataframe tbody tr th {\n",
       "        vertical-align: top;\n",
       "    }\n",
       "</style>\n",
       "<table border=\"1\" class=\"dataframe\">\n",
       "  <thead>\n",
       "    <tr style=\"text-align: right;\">\n",
       "      <th></th>\n",
       "      <th>name</th>\n",
       "      <th>bi214</th>\n",
       "      <th>tl208</th>\n",
       "    </tr>\n",
       "  </thead>\n",
       "  <tbody>\n",
       "    <tr>\n",
       "      <th>0</th>\n",
       "      <td>ActivityElectrodesFC</td>\n",
       "      <td>1.159275</td>\n",
       "      <td>0.135249</td>\n",
       "    </tr>\n",
       "    <tr>\n",
       "      <th>1</th>\n",
       "      <td>ActivityResistorsFC</td>\n",
       "      <td>1.939167</td>\n",
       "      <td>0.335833</td>\n",
       "    </tr>\n",
       "    <tr>\n",
       "      <th>2</th>\n",
       "      <td>ActivityPoly</td>\n",
       "      <td>2.628091</td>\n",
       "      <td>0.339109</td>\n",
       "    </tr>\n",
       "  </tbody>\n",
       "</table>\n",
       "</div>"
      ],
      "text/plain": [
       "                   name     bi214     tl208\n",
       "0  ActivityElectrodesFC  1.159275  0.135249\n",
       "1   ActivityResistorsFC  1.939167  0.335833\n",
       "2          ActivityPoly  2.628091  0.339109"
      ]
     },
     "execution_count": 8,
     "metadata": {},
     "output_type": "execute_result"
    }
   ],
   "source": [
    "act_fc = field_cage_activity()\n",
    "act_fc"
   ]
  },
  {
   "cell_type": "markdown",
   "metadata": {},
   "source": [
    "## Plots"
   ]
  },
  {
   "cell_type": "code",
   "execution_count": 9,
   "metadata": {
    "collapsed": true
   },
   "outputs": [],
   "source": [
    "bi214_lsc = act_lsc.body_bi214[2] + act_lsc.head_bi214[2]\n",
    "tl208_lsc = act_lsc.body_tl208[2] + act_lsc.head_tl208[2]"
   ]
  },
  {
   "cell_type": "code",
   "execution_count": 10,
   "metadata": {
    "collapsed": true
   },
   "outputs": [],
   "source": [
    "bi214_pb = act_shield_and_pv.body_bi214[0] + act_shield_and_pv.head_bi214[0]\n",
    "tl208_pb = act_shield_and_pv.body_tl208[0] + act_shield_and_pv.head_tl208[0]\n",
    "bi214_pv = act_shield_and_pv.body_bi214[1] + act_shield_and_pv.head_bi214[1]\n",
    "tl208_pv = act_shield_and_pv.body_tl208[1] + act_shield_and_pv.head_tl208[1]\n",
    "bi214_cu = act_shield_and_pv.body_bi214[2] + act_shield_and_pv.head_bi214[2]\n",
    "tl208_cu = act_shield_and_pv.body_tl208[2] + act_shield_and_pv.head_tl208[2]"
   ]
  },
  {
   "cell_type": "code",
   "execution_count": 11,
   "metadata": {
    "collapsed": true
   },
   "outputs": [],
   "source": [
    "bi214_pmts = act_sensors.bi214[0]\n",
    "tl208_pmts = act_sensors.tl208[0]"
   ]
  },
  {
   "cell_type": "code",
   "execution_count": 12,
   "metadata": {
    "collapsed": true
   },
   "outputs": [],
   "source": [
    "bi214_kdbs = act_sensors.bi214[2]\n",
    "tl208_kdbs = act_sensors.tl208[2]"
   ]
  },
  {
   "cell_type": "code",
   "execution_count": 13,
   "metadata": {
    "collapsed": true
   },
   "outputs": [],
   "source": [
    "bi214_electrodes = act_fc.bi214[0]\n",
    "tl208_electrodes = act_fc.tl208[0]\n",
    "bi214_resistors = act_fc.bi214[1]\n",
    "tl208_resistors = act_fc.tl208[1]\n",
    "bi214_poly = act_fc.bi214[2]\n",
    "tl208_poly = act_fc.tl208[2]"
   ]
  },
  {
   "cell_type": "code",
   "execution_count": 14,
   "metadata": {
    "collapsed": true
   },
   "outputs": [],
   "source": [
    "activity_bi214 = (bi214_lsc, bi214_pb, bi214_pv, bi214_cu,\n",
    "                  bi214_pmts, bi214_kdbs, bi214_electrodes, bi214_resistors, bi214_poly)\n",
    "activity_tl208 = (tl208_lsc, tl208_pb, tl208_pv, tl208_cu,\n",
    "                  tl208_pmts, tl208_kdbs, tl208_electrodes, tl208_resistors, tl208_poly)\n",
    "\n",
    "labels         = ('LSC', 'Pb', 'PV', 'CU','PMTs', 'KDBs', 'FR', 'RE','Poly')"
   ]
  },
  {
   "cell_type": "code",
   "execution_count": 15,
   "metadata": {
    "collapsed": true
   },
   "outputs": [],
   "source": [
    "def plot_activities_vertical_bars(activities, labels, width=0.35):\n",
    "    \n",
    "    def autolabel(rects):\n",
    "        \"\"\"\n",
    "        Attach a text label above each bar displaying its height\n",
    "        \"\"\"\n",
    "        for rect in rects:\n",
    "            height = rect.get_height()\n",
    "            ax.text(rect.get_x() + rect.get_width()/2., 1.01*height,\n",
    "                '%d' % int(height),\n",
    "                ha='center', va='bottom')\n",
    "\n",
    "    \n",
    "    activity_bi214, activity_tl208 = activities\n",
    "    N = len(activity_bi214)\n",
    "    ind = np.arange(N)  # the x locations for the groups\n",
    "    \n",
    "    fig, ax = plt.subplots()\n",
    "    rects1 = ax.bar(ind, activity_bi214, width, color='r')\n",
    "    rects2 = ax.bar(ind + width, activity_tl208, width, color='y')\n",
    "\n",
    "    # add some text for labels, title and axes ticks\n",
    "    ax.set_ylabel('Activity in mBq')\n",
    "    ax.set_title('NEXT-100 radioactive budget')\n",
    "    ax.set_xticks(ind + width / 2)\n",
    "    ax.set_xticklabels(labels)\n",
    "\n",
    "    ax.legend((rects1[0], rects2[0]), ('bi214', 'tl208'))\n",
    "\n",
    "    autolabel(rects1)\n",
    "    autolabel(rects2)\n",
    "\n",
    "    plt.show()\n",
    "    "
   ]
  },
  {
   "cell_type": "code",
   "execution_count": 16,
   "metadata": {},
   "outputs": [
    {
     "data": {
      "image/png": "[encoded data removed]",
      "text/plain": [
       "<matplotlib.figure.Figure at 0x10d0ec7f0>"
      ]
     },
     "metadata": {},
     "output_type": "display_data"
    }
   ],
   "source": [
    "plot_activities_vertical_bars((activity_bi214, activity_tl208), labels, width=0.35)"
   ]
  },
  {
   "cell_type": "code",
   "execution_count": 17,
   "metadata": {},
   "outputs": [
    {
     "data": {
      "text/plain": [
       "0.2598172199999999"
      ]
     },
     "execution_count": 17,
     "metadata": {},
     "output_type": "execute_result"
    }
   ],
   "source": [
    "bi214_pmts * 1e-3 * 365 * 24 * 60 * 60 / 2e+6"
   ]
  },
  {
   "cell_type": "code",
   "execution_count": null,
   "metadata": {
    "collapsed": true
   },
   "outputs": [],
   "source": []
  }
 ],
 "metadata": {
  "kernelspec": {
   "display_name": "Python 3",
   "language": "python",
   "name": "python3"
  },
  "language_info": {
   "codemirror_mode": {
    "name": "ipython",
    "version": 3
   },
   "file_extension": ".py",
   "mimetype": "text/x-python",
   "name": "python",
   "nbconvert_exporter": "python",
   "pygments_lexer": "ipython3",
   "version": "3.6.2"
  }
 },
 "nbformat": 4,
 "nbformat_minor": 2
}
