{
 "cells": [
  {
   "cell_type": "markdown",
   "metadata": {},
   "source": [
    "# Field Cage Activity"
   ]
  },
  {
   "cell_type": "markdown",
   "metadata": {},
   "source": [
    "Activity of the NEXT FC"
   ]
  },
  {
   "cell_type": "code",
   "execution_count": 1,
   "metadata": {},
   "outputs": [
    {
     "name": "stdout",
     "output_type": "stream",
     "text": [
      "2017-12-17 16:00:01\n"
     ]
    }
   ],
   "source": [
    "import os\n",
    "import datetime\n",
    "print(datetime.datetime.now().strftime('%Y-%m-%d %H:%M:%S'))\n",
    "\n",
    "import time\n",
    "import glob\n",
    "import tables as tb\n",
    "import numpy as np\n",
    "import pandas as pd\n",
    "import matplotlib.pyplot as plt\n",
    "from functools import reduce\n",
    "import numpy.testing as npt\n",
    "from operator import itemgetter, attrgetter\n",
    "%matplotlib inline\n",
    "%load_ext autoreload\n",
    "%autoreload 2\n",
    "\n",
    "plt.rcParams[\"figure.figsize\"] = 10, 8\n",
    "plt.rcParams[\"font.size\"     ] = 14"
   ]
  },
  {
   "cell_type": "code",
   "execution_count": 4,
   "metadata": {
    "collapsed": true
   },
   "outputs": [],
   "source": [
    "from pynext.system_of_units import *"
   ]
  },
  {
   "cell_type": "code",
   "execution_count": 89,
   "metadata": {},
   "outputs": [],
   "source": [
    "from pynext.Shapes import CylinderShell\n",
    "from pynext.PhysicalVolume import PhysicalVolume\n",
    "from pynext.activity_functions import Activity\n",
    "from pynext.CylindricalVessel import CVD, CVA\n",
    "from pynext.CylindricalVessel import CylindricalDetector\n",
    "from pynext.CylindricalVessel import NextFieldCage\n",
    "from pynext.NextData import NextPVData\n",
    "from pynext.Material import vacuum, ti316, cu12, cu03, pb, poly\n",
    "from pynext.activity_functions import print_activity, str_activity\n",
    "from pynext.activity_functions import activity_table"
   ]
  },
  {
   "cell_type": "markdown",
   "metadata": {},
   "source": [
    "## Field Cage electrodes"
   ]
  },
  {
   "cell_type": "code",
   "execution_count": 84,
   "metadata": {},
   "outputs": [
    {
     "data": {
      "text/plain": [
       "\n",
       "\n",
       "        ElectrodeFieldCage\n",
       "        ------------------\n",
       "        material         = CuUpperLimits\n",
       "        inner diameter   = 1050.00 mm\n",
       "        inner radius     =  525.00 mm\n",
       "        outer diameter   = 1056.00 mm\n",
       "        outer radius     =  528.00 mm\n",
       "        thickness        =    6.00 mm\n",
       "        length           =   10.00 mm\n",
       "        mass             =    0.89 kg\n",
       "        activity Bi214   = 1.07e-02 mBq\n",
       "        activity Tl208   = 1.24e-03 mBq\n",
       "\n",
       "\n",
       "    "
      ]
     },
     "execution_count": 84,
     "metadata": {},
     "output_type": "execute_result"
    }
   ],
   "source": [
    "electrodeFC = CylindricalDetector(name='ElectrodeFieldCage',\n",
    "                                  inner_diameter  = 1050 * mm,\n",
    "                                  length          =   10 * mm,\n",
    "                                  thickness       =    6 * mm, \n",
    "                                  material        = cu12)\n",
    "electrodeFC"
   ]
  },
  {
   "cell_type": "markdown",
   "metadata": {},
   "source": [
    "## Field Cage"
   ]
  },
  {
   "cell_type": "code",
   "execution_count": 85,
   "metadata": {},
   "outputs": [
    {
     "name": "stdout",
     "output_type": "stream",
     "text": [
      "\n",
      "    activity \t ActivityResistorFC\n",
      "    Bi-214 \t   17.90 muBq\n",
      "    Tl-208 \t    3.10 muBq\n",
      "    \n"
     ]
    }
   ],
   "source": [
    "resitstorActivityFC = Activity(name = 'ActivityResistorFC',\n",
    "                               bi214 = 17.9 * muBq,\n",
    "                               tl208 = 3.1  * muBq)\n",
    "print_activity('ActivityResistorFC', resitstorActivityFC, unit='muBq')"
   ]
  },
  {
   "cell_type": "code",
   "execution_count": 90,
   "metadata": {},
   "outputs": [
    {
     "data": {
      "text/plain": [
       "\n",
       "\n",
       "        Next100FieldCage\n",
       "        ------------------\n",
       "        material         = Poly\n",
       "        inner diameter   = 1050.00 mm\n",
       "        inner radius     =  525.00 mm\n",
       "        outer diameter   = 1070.00 mm\n",
       "        outer radius     =  535.00 mm\n",
       "        thickness        =   20.00 mm\n",
       "        length           = 1300.00 mm\n",
       "        mass             =   41.99 kg\n",
       "        activity Bi214   = 2.60e+00 mBq\n",
       "        activity Tl208   = 3.36e-01 mBq\n",
       "\n",
       "\n",
       "    \n",
       "        ------------------\n",
       "        electrode pitch  =   12.00 mm\n",
       "        nof_electrodes   =  108.33\n",
       "        nof_resistors    =  216.67\n",
       "\n",
       "        ---\n",
       "        Activity\n",
       "        \n",
       "    activity \t ActivityElectrodesFC\n",
       "    Bi-214 \t    1.16 mBq\n",
       "    Tl-208 \t    0.13 mBq\n",
       "    \n",
       "        \n",
       "    activity \t ActivityResistorsFC\n",
       "    Bi-214 \t    3.88 mBq\n",
       "    Tl-208 \t    0.67 mBq\n",
       "    \n",
       "        \n",
       "    activity \t ActivityPoly\n",
       "    Bi-214 \t    2.60 mBq\n",
       "    Tl-208 \t    0.34 mBq\n",
       "    \n",
       "\n",
       "    "
      ]
     },
     "execution_count": 90,
     "metadata": {},
     "output_type": "execute_result"
    }
   ],
   "source": [
    "nfc = NextFieldCage(name='Next100FieldCage',\n",
    "                    inner_diameter  = 1050 * mm  ,\n",
    "                    length          = 1300 * mm  ,\n",
    "                    thickness       =   20 * mm  , \n",
    "                    electrode_pitch =   12 * mm  , \n",
    "                    material        = poly       , \n",
    "                    electrode       = electrodeFC,\n",
    "                    resitstorActivityFC = resitstorActivityFC)\n",
    "nfc"
   ]
  },
  {
   "cell_type": "code",
   "execution_count": 91,
   "metadata": {},
   "outputs": [
    {
     "name": "stdout",
     "output_type": "stream",
     "text": [
      "                   name     bi214     tl208\n",
      "0  ActivityElectrodesFC  1.155981  0.134865\n",
      "1   ActivityResistorsFC  3.878333  0.671667\n",
      "2          ActivityPoly  2.603530  0.335939\n"
     ]
    }
   ],
   "source": [
    "act_fc_table =activity_table([nfc.activity_electrodes, nfc.activity_resistors, nfc.activity_poly])\n",
    "print(act_fc_table)"
   ]
  },
  {
   "cell_type": "code",
   "execution_count": 92,
   "metadata": {},
   "outputs": [
    {
     "data": {
      "text/html": [
       "<div>\n",
       "<style>\n",
       "    .dataframe thead tr:only-child th {\n",
       "        text-align: right;\n",
       "    }\n",
       "\n",
       "    .dataframe thead th {\n",
       "        text-align: left;\n",
       "    }\n",
       "\n",
       "    .dataframe tbody tr th {\n",
       "        vertical-align: top;\n",
       "    }\n",
       "</style>\n",
       "<table border=\"1\" class=\"dataframe\">\n",
       "  <thead>\n",
       "    <tr style=\"text-align: right;\">\n",
       "      <th></th>\n",
       "      <th>name</th>\n",
       "      <th>bi214</th>\n",
       "      <th>tl208</th>\n",
       "    </tr>\n",
       "  </thead>\n",
       "  <tbody>\n",
       "    <tr>\n",
       "      <th>0</th>\n",
       "      <td>ActivityElectrodesFC</td>\n",
       "      <td>1.155981</td>\n",
       "      <td>0.134865</td>\n",
       "    </tr>\n",
       "    <tr>\n",
       "      <th>1</th>\n",
       "      <td>ActivityResistorsFC</td>\n",
       "      <td>3.878333</td>\n",
       "      <td>0.671667</td>\n",
       "    </tr>\n",
       "    <tr>\n",
       "      <th>2</th>\n",
       "      <td>ActivityPoly</td>\n",
       "      <td>2.603530</td>\n",
       "      <td>0.335939</td>\n",
       "    </tr>\n",
       "  </tbody>\n",
       "</table>\n",
       "</div>"
      ],
      "text/plain": [
       "                   name     bi214     tl208\n",
       "0  ActivityElectrodesFC  1.155981  0.134865\n",
       "1   ActivityResistorsFC  3.878333  0.671667\n",
       "2          ActivityPoly  2.603530  0.335939"
      ]
     },
     "execution_count": 92,
     "metadata": {},
     "output_type": "execute_result"
    }
   ],
   "source": [
    "act_fc_table"
   ]
  },
  {
   "cell_type": "code",
   "execution_count": null,
   "metadata": {
    "collapsed": true
   },
   "outputs": [],
   "source": []
  },
  {
   "cell_type": "code",
   "execution_count": null,
   "metadata": {
    "collapsed": true
   },
   "outputs": [],
   "source": []
  }
 ],
 "metadata": {
  "kernelspec": {
   "display_name": "Python 3",
   "language": "python",
   "name": "python3"
  },
  "language_info": {
   "codemirror_mode": {
    "name": "ipython",
    "version": 3
   },
   "file_extension": ".py",
   "mimetype": "text/x-python",
   "name": "python",
   "nbconvert_exporter": "python",
   "pygments_lexer": "ipython3",
   "version": "3.6.2"
  }
 },
 "nbformat": 4,
 "nbformat_minor": 2
}
