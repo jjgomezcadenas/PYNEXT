{
 "cells": [
  {
   "cell_type": "markdown",
   "metadata": {},
   "source": [
    "# Shapes nb"
   ]
  },
  {
   "cell_type": "code",
   "execution_count": 1,
   "metadata": {},
   "outputs": [
    {
     "name": "stdout",
     "output_type": "stream",
     "text": [
      "2017-12-10 10:17:30\n"
     ]
    }
   ],
   "source": [
    "import os\n",
    "import datetime\n",
    "print(datetime.datetime.now().strftime('%Y-%m-%d %H:%M:%S'))\n",
    "\n",
    "import time\n",
    "import glob\n",
    "import tables as tb\n",
    "import numpy as np\n",
    "import pandas as pd\n",
    "import matplotlib.pyplot as plt\n",
    "from functools import reduce\n",
    "import numpy.testing as npt\n",
    "from operator import itemgetter, attrgetter\n",
    "%matplotlib inline\n",
    "%load_ext autoreload\n",
    "%autoreload 2\n",
    "\n",
    "plt.rcParams[\"figure.figsize\"] = 10, 8\n",
    "plt.rcParams[\"font.size\"     ] = 14"
   ]
  },
  {
   "cell_type": "code",
   "execution_count": 2,
   "metadata": {
    "collapsed": true
   },
   "outputs": [],
   "source": [
    "from math import sqrt, pi"
   ]
  },
  {
   "cell_type": "code",
   "execution_count": 3,
   "metadata": {
    "collapsed": true
   },
   "outputs": [],
   "source": [
    "from pynext.system_of_units import *"
   ]
  },
  {
   "cell_type": "code",
   "execution_count": 4,
   "metadata": {
    "collapsed": true
   },
   "outputs": [],
   "source": [
    "from pytest import approx"
   ]
  },
  {
   "cell_type": "code",
   "execution_count": 5,
   "metadata": {
    "collapsed": true
   },
   "outputs": [],
   "source": [
    "from collections import namedtuple"
   ]
  },
  {
   "cell_type": "markdown",
   "metadata": {},
   "source": [
    "## Shapes"
   ]
  },
  {
   "cell_type": "markdown",
   "metadata": {},
   "source": [
    "### Interface\n",
    "\n",
    "class Shape(ABC):\n",
    "    \n",
    "    \"\"\"An abstract class representing a geometrical shape.\n",
    "    In the most general case, the shape is assumed to have a thickness\n",
    "    (e.g., a sphericall shell or a cylinder shell).\n",
    "\n",
    "    The interface is defined by 6 methods. To describe them imagine that we want to describe\n",
    "    a pressure vessel (PV) with gas inside. We can use three shapes.\n",
    "    A CylinderShell(Rin, Rout, L, ts) to describe the\n",
    "    PV body; A Disk(R, td) to describe the two end cups. And a Cylinder (Rin, L) to describe\n",
    "    the volume of gas enclosed by the PV.\n",
    "\n",
    "    CylinderShell (describes the PV)\n",
    "    1. inner_volume(): volume enclosed by the CylinderShell\n",
    "                 = 2 * pi * Rin * L.\n",
    "    2. shell_volume(): Volume of the shell itself\n",
    "                 =  2 * pi * (Rout - Rin) * L\n",
    "    3. inner_surface(): surface in contact with the gas,\n",
    "                 =  2 * pi * Rin * L\n",
    "    4. outer_surface(): surface in contact with the air outside the vessel,\n",
    "                 = 2 * pi * Rout * L\n",
    "    5. thickness_surface(): surface in contact with the end-cups\n",
    "                 = pi * (Rout**2 - Rin**2)\n",
    "    6. thickness() would correspond to the thickness of steel\n",
    "                 = ts\n",
    "\n",
    "    Cylinder (describes the volume of gas)\n",
    "    1. inner_volume()      = 2 * pi * Rin * L\n",
    "    2. shell_volume()      = 0\n",
    "    3. inner_surface()     = 2 * pi * Rin * L\n",
    "    4. outer_surface()     = 2 * pi * Rin * L\n",
    "    5. thickness_surface() = 0\n",
    "    6. thickness()         = 0\n",
    "\n",
    "    Disk (describes the end-cups)\n",
    "    1. inner_volume()      = pi * R**2 * td\n",
    "    2. shell_volume()      = pi * R**2 * td\n",
    "    3. inner_surface()     = pi * R**2\n",
    "    4. outer_surface()     = pi * R**2\n",
    "    5. thickness_surface() = 0\n",
    "    6. thickness()         = 2 * pi * R * td\n",
    "\n",
    "    Once the interface is defined, the methods volume() and surface()\n",
    "    as well as the properties V and S come for free.\n",
    "    \"\"\"\n",
    "\n",
    "    @property\n",
    "    def V(self):\n",
    "        return self.volume()\n",
    "\n",
    "    @property\n",
    "    def S(self):\n",
    "        return self.surface()\n",
    "\n",
    "    def volume(self):\n",
    "        return inner_volume()\n",
    "\n",
    "    def surface(self):\n",
    "        return self.inner_surface() + self.outer_surface() + self.thickness_surface()\n",
    "\n",
    "    @abstractmethod\n",
    "    def inner_volume(self):\n",
    "        pass\n",
    "\n",
    "    @abstractmethod\n",
    "    def shell_volume(self):\n",
    "        pass\n",
    "\n",
    "    @abstractmethod\n",
    "    def inner_surface(self):\n",
    "        pass\n",
    "\n",
    "    @abstractmethod\n",
    "    def outer_surface(self):\n",
    "        pass\n",
    "\n",
    "    @abstractmethod\n",
    "    def thickness_surface(self):\n",
    "        pass\n",
    "\n",
    "    @abstractmethod\n",
    "    def thickness(self):\n",
    "        pass\n"
   ]
  },
  {
   "cell_type": "code",
   "execution_count": 6,
   "metadata": {
    "collapsed": true
   },
   "outputs": [],
   "source": [
    "ShapeParams = namedtuple('ShapeParams', \n",
    "                         \"\"\"inner_volume shell_volume \n",
    "                            inner_surface outer_surface thickness_surface thickness\"\"\")"
   ]
  },
  {
   "cell_type": "code",
   "execution_count": 7,
   "metadata": {},
   "outputs": [],
   "source": [
    "def test_shape(sp, SP):\n",
    "    assert sp.inner_volume()      == SP.inner_volume\n",
    "    assert sp.shell_volume()      == SP.shell_volume\n",
    "    assert sp.inner_surface()     == SP.inner_surface\n",
    "    assert sp.outer_surface()     == SP.outer_surface\n",
    "    assert sp.thickness_surface() == SP.thickness_surface\n",
    "    assert sp.thickness()         == SP.thickness\n",
    "    print('all OK')\n",
    "    "
   ]
  },
  {
   "cell_type": "markdown",
   "metadata": {},
   "source": [
    "### Sphere"
   ]
  },
  {
   "cell_type": "code",
   "execution_count": 8,
   "metadata": {
    "collapsed": true
   },
   "outputs": [],
   "source": [
    "from pynext.Shapes import Sphere"
   ]
  },
  {
   "cell_type": "code",
   "execution_count": 9,
   "metadata": {},
   "outputs": [
    {
     "data": {
      "text/plain": [
       "\n",
       "        Sphere(R = 1.00e+00)\n",
       "        \n",
       "\n",
       "        inner_volume      = 4.19e+00\n",
       "        shell_volume      = 0.00e+00\n",
       "        inner_surface     = 1.26e+01\n",
       "        outer_surface     = 1.26e+01\n",
       "        thickness_surface = 0.00e+00\n",
       "        thickness         = 0.00e+00\n",
       "        volume            = 4.19e+00\n",
       "        surface           = 1.26e+01\n",
       "        "
      ]
     },
     "execution_count": 9,
     "metadata": {},
     "output_type": "execute_result"
    }
   ],
   "source": [
    "R=1\n",
    "sphere = ShapeParams(\n",
    "inner_volume      = (4/3) * pi * R**3, \n",
    "shell_volume      = 0,\n",
    "inner_surface     = 4 * pi * R**2,\n",
    "outer_surface     = 4 * pi * R**2,\n",
    "thickness_surface = 0,\n",
    "thickness         = 0\n",
    ")\n",
    "sp = Sphere(R = 1)\n",
    "sp"
   ]
  },
  {
   "cell_type": "code",
   "execution_count": 10,
   "metadata": {},
   "outputs": [
    {
     "name": "stdout",
     "output_type": "stream",
     "text": [
      "all OK\n"
     ]
    }
   ],
   "source": [
    "test_shape(sp, sphere)"
   ]
  },
  {
   "cell_type": "markdown",
   "metadata": {},
   "source": [
    "### SphereShell"
   ]
  },
  {
   "cell_type": "code",
   "execution_count": 11,
   "metadata": {
    "collapsed": true
   },
   "outputs": [],
   "source": [
    "from pynext.Shapes import SphereShell"
   ]
  },
  {
   "cell_type": "code",
   "execution_count": 12,
   "metadata": {},
   "outputs": [
    {
     "data": {
      "text/plain": [
       "\n",
       "        SphereShell(Rin = 1.00e+00, Rout= 2.00e+00)\n",
       "        \n",
       "\n",
       "        inner_volume      = 2.93e+01\n",
       "        shell_volume      = 2.93e+01\n",
       "        inner_surface     = 1.26e+01\n",
       "        outer_surface     = 5.03e+01\n",
       "        thickness_surface = 0.00e+00\n",
       "        thickness         = 1.00e+00\n",
       "        volume            = 2.93e+01\n",
       "        surface           = 5.03e+01\n",
       "        "
      ]
     },
     "execution_count": 12,
     "metadata": {},
     "output_type": "execute_result"
    }
   ],
   "source": [
    "Rin=1\n",
    "Rout = 2\n",
    "sphereShell = ShapeParams(\n",
    "inner_volume      = (4/3) * pi * Rin**3, \n",
    "shell_volume      = (4/3) * pi * (Rout**3 - Rin**3),\n",
    "inner_surface     = 4 * pi * Rin**2,\n",
    "outer_surface     = 4 * pi * Rout**2,\n",
    "thickness_surface = 0,\n",
    "thickness         = Rout - Rin\n",
    ")\n",
    "sp = SphereShell(Rin, Rout)\n",
    "sp"
   ]
  },
  {
   "cell_type": "code",
   "execution_count": 13,
   "metadata": {},
   "outputs": [
    {
     "name": "stdout",
     "output_type": "stream",
     "text": [
      "all OK\n"
     ]
    }
   ],
   "source": [
    "test_shape(sp, sphereShell)"
   ]
  },
  {
   "cell_type": "markdown",
   "metadata": {},
   "source": [
    "### Cylinder"
   ]
  },
  {
   "cell_type": "code",
   "execution_count": 14,
   "metadata": {
    "collapsed": true
   },
   "outputs": [],
   "source": [
    "from pynext.Shapes import Cylinder"
   ]
  },
  {
   "cell_type": "code",
   "execution_count": 15,
   "metadata": {},
   "outputs": [
    {
     "data": {
      "text/plain": [
       "\n",
       "        Cylinder(R = 1.00e+00, L = 1.00e+00)\n",
       "        \n",
       "\n",
       "        inner_volume      = 3.14e+00\n",
       "        shell_volume      = 0.00e+00\n",
       "        inner_surface     = 6.28e+00\n",
       "        outer_surface     = 6.28e+00\n",
       "        thickness_surface = 0.00e+00\n",
       "        thickness         = 0.00e+00\n",
       "        volume            = 3.14e+00\n",
       "        surface           = 6.28e+00\n",
       "        "
      ]
     },
     "execution_count": 15,
     "metadata": {},
     "output_type": "execute_result"
    }
   ],
   "source": [
    "R=1\n",
    "L = 1\n",
    "cyl = ShapeParams(\n",
    "inner_volume      = pi * R**2 * L, \n",
    "shell_volume      = 0,\n",
    "inner_surface     = 2 * pi * R * L,\n",
    "outer_surface     = 2 * pi * R * L,\n",
    "thickness_surface = 0,\n",
    "thickness         = 0\n",
    ")\n",
    "sp = Cylinder(R, L)\n",
    "sp"
   ]
  },
  {
   "cell_type": "code",
   "execution_count": 16,
   "metadata": {},
   "outputs": [
    {
     "name": "stdout",
     "output_type": "stream",
     "text": [
      "all OK\n"
     ]
    }
   ],
   "source": [
    "test_shape(sp, cyl)"
   ]
  },
  {
   "cell_type": "markdown",
   "metadata": {},
   "source": [
    "### CylinderShell"
   ]
  },
  {
   "cell_type": "code",
   "execution_count": 17,
   "metadata": {
    "collapsed": true
   },
   "outputs": [],
   "source": [
    "from pynext.Shapes import CylinderShell"
   ]
  },
  {
   "cell_type": "code",
   "execution_count": 18,
   "metadata": {},
   "outputs": [
    {
     "data": {
      "text/plain": [
       "\n",
       "        CylinderShell(Rin = 1.00e+00, Rout= 2.00e+00, L = 1.00e+00)\n",
       "        \n",
       "\n",
       "        inner_volume      = 9.42e+00\n",
       "        shell_volume      = 9.42e+00\n",
       "        inner_surface     = 6.28e+00\n",
       "        outer_surface     = 1.26e+01\n",
       "        thickness_surface = 9.42e+00\n",
       "        thickness         = 1.00e+00\n",
       "        volume            = 9.42e+00\n",
       "        surface           = 1.26e+01\n",
       "        "
      ]
     },
     "execution_count": 18,
     "metadata": {},
     "output_type": "execute_result"
    }
   ],
   "source": [
    "Rin  =1\n",
    "Rout = 2\n",
    "L    = 1\n",
    "scyl = ShapeParams(\n",
    "inner_volume      = pi * Rin**2 * L, \n",
    "shell_volume      = pi * (Rout**2 - Rin**2) * L,\n",
    "inner_surface     = 2 * pi * Rin * L,\n",
    "outer_surface     = 2 * pi * Rout * L,\n",
    "thickness_surface = pi * (Rout**2 - Rin**2),\n",
    "thickness         = Rout - Rin\n",
    ")\n",
    "sp = CylinderShell(Rin, Rout, L)\n",
    "sp"
   ]
  },
  {
   "cell_type": "code",
   "execution_count": 19,
   "metadata": {},
   "outputs": [
    {
     "name": "stdout",
     "output_type": "stream",
     "text": [
      "all OK\n"
     ]
    }
   ],
   "source": [
    "test_shape(sp, scyl)"
   ]
  },
  {
   "cell_type": "markdown",
   "metadata": {},
   "source": [
    "### Disk"
   ]
  },
  {
   "cell_type": "code",
   "execution_count": 20,
   "metadata": {
    "collapsed": true
   },
   "outputs": [],
   "source": [
    "from pynext.Shapes import Disk"
   ]
  },
  {
   "cell_type": "code",
   "execution_count": 21,
   "metadata": {},
   "outputs": [
    {
     "data": {
      "text/plain": [
       "\n",
       "        Disk(R = 1.00e+00, t = 1.00e+00)\n",
       "        \n",
       "\n",
       "        inner_volume      = 3.14e+00\n",
       "        shell_volume      = 0.00e+00\n",
       "        inner_surface     = 3.14e+00\n",
       "        outer_surface     = 3.14e+00\n",
       "        thickness_surface = 6.28e+00\n",
       "        thickness         = 1.00e+00\n",
       "        volume            = 3.14e+00\n",
       "        surface           = 3.14e+00\n",
       "        "
      ]
     },
     "execution_count": 21,
     "metadata": {},
     "output_type": "execute_result"
    }
   ],
   "source": [
    "R = 1\n",
    "t = 1\n",
    "disk = ShapeParams(\n",
    "inner_volume      = pi * R**2 * t, \n",
    "shell_volume      = 0,\n",
    "inner_surface     = pi * R**2,\n",
    "outer_surface     = pi * R**2,\n",
    "thickness_surface = 2 * pi *  R * t,\n",
    "thickness         = t\n",
    ")\n",
    "sp = Disk(R, t)\n",
    "sp"
   ]
  },
  {
   "cell_type": "code",
   "execution_count": 22,
   "metadata": {},
   "outputs": [
    {
     "name": "stdout",
     "output_type": "stream",
     "text": [
      "all OK\n"
     ]
    }
   ],
   "source": [
    "test_shape(sp,disk)"
   ]
  },
  {
   "cell_type": "markdown",
   "metadata": {},
   "source": [
    "### Brick"
   ]
  },
  {
   "cell_type": "code",
   "execution_count": 23,
   "metadata": {
    "collapsed": true
   },
   "outputs": [],
   "source": [
    "from pynext.Shapes import Brick"
   ]
  },
  {
   "cell_type": "code",
   "execution_count": 24,
   "metadata": {},
   "outputs": [
    {
     "data": {
      "text/plain": [
       "\n",
       "        Brick(width= 1.00e+00, heigth= 1.00e+00, lengthR= 1.00e+00)\n",
       "        \n",
       "\n",
       "        inner_volume      = 1.00e+00\n",
       "        shell_volume      = 0.00e+00\n",
       "        inner_surface     = 6.00e+00\n",
       "        outer_surface     = 6.00e+00\n",
       "        thickness_surface = 0.00e+00\n",
       "        thickness         = 0.00e+00\n",
       "        volume            = 1.00e+00\n",
       "        surface           = 6.00e+00\n",
       "        "
      ]
     },
     "execution_count": 24,
     "metadata": {},
     "output_type": "execute_result"
    }
   ],
   "source": [
    "width  = 1 \n",
    "heigth = 1 \n",
    "length =1\n",
    "brick = ShapeParams(\n",
    "inner_volume      = width * heigth * length, \n",
    "shell_volume      = 0,\n",
    "inner_surface     = 2 * (width * heigth + width * length + length * heigth),\n",
    "outer_surface     = 2 * (width * heigth + width * length + length * heigth),\n",
    "thickness_surface = 0,\n",
    "thickness         = 0\n",
    ")\n",
    "sp = Brick(width, heigth, length)\n",
    "sp"
   ]
  },
  {
   "cell_type": "code",
   "execution_count": 25,
   "metadata": {},
   "outputs": [
    {
     "name": "stdout",
     "output_type": "stream",
     "text": [
      "all OK\n"
     ]
    }
   ],
   "source": [
    "test_shape(sp,brick)"
   ]
  },
  {
   "cell_type": "markdown",
   "metadata": {},
   "source": [
    "### Example: NEXT-100 PV"
   ]
  },
  {
   "cell_type": "code",
   "execution_count": 26,
   "metadata": {},
   "outputs": [],
   "source": [
    "from pynext.Shapes import FlatPlate  # synonimous for DISK"
   ]
  },
  {
   "cell_type": "code",
   "execution_count": 27,
   "metadata": {
    "collapsed": true
   },
   "outputs": [],
   "source": [
    "def Next100PV():\n",
    "    L    = 130 * cm\n",
    "    R    =  52 * cm\n",
    "    ts   =   1 * cm\n",
    "    tc   =  10 * cm\n",
    "    Rin  = R\n",
    "    Rout = Rin + ts\n",
    "    pv = CylinderShell(Rin, Rout, L)\n",
    "    fp = FlatPlate(R, tc)\n",
    "    return pv, fp"
   ]
  },
  {
   "cell_type": "code",
   "execution_count": 28,
   "metadata": {},
   "outputs": [],
   "source": [
    "pv, fp = Next100PV()"
   ]
  },
  {
   "cell_type": "code",
   "execution_count": 29,
   "metadata": {},
   "outputs": [
    {
     "data": {
      "text/plain": [
       "\n",
       "        CylinderShell(Rin = 5.20e+02, Rout= 5.30e+02, L = 1.30e+03)\n",
       "        \n",
       "\n",
       "        inner_volume      = 4.29e+07\n",
       "        shell_volume      = 4.29e+07\n",
       "        inner_surface     = 4.25e+06\n",
       "        outer_surface     = 4.33e+06\n",
       "        thickness_surface = 3.30e+04\n",
       "        thickness         = 1.00e+01\n",
       "        volume            = 4.29e+07\n",
       "        surface           = 4.33e+06\n",
       "        "
      ]
     },
     "execution_count": 29,
     "metadata": {},
     "output_type": "execute_result"
    }
   ],
   "source": [
    "pv"
   ]
  },
  {
   "cell_type": "code",
   "execution_count": 30,
   "metadata": {},
   "outputs": [
    {
     "data": {
      "text/plain": [
       "\n",
       "        Disk(R = 5.20e+02, t = 1.00e+02)\n",
       "        \n",
       "\n",
       "        inner_volume      = 8.49e+07\n",
       "        shell_volume      = 0.00e+00\n",
       "        inner_surface     = 8.49e+05\n",
       "        outer_surface     = 8.49e+05\n",
       "        thickness_surface = 3.27e+05\n",
       "        thickness         = 1.00e+02\n",
       "        volume            = 8.49e+07\n",
       "        surface           = 8.49e+05\n",
       "        "
      ]
     },
     "execution_count": 30,
     "metadata": {},
     "output_type": "execute_result"
    }
   ],
   "source": [
    "fp"
   ]
  }
 ],
 "metadata": {
  "kernelspec": {
   "display_name": "Python 3",
   "language": "python",
   "name": "python3"
  },
  "language_info": {
   "codemirror_mode": {
    "name": "ipython",
    "version": 3
   },
   "file_extension": ".py",
   "mimetype": "text/x-python",
   "name": "python",
   "nbconvert_exporter": "python",
   "pygments_lexer": "ipython3",
   "version": "3.6.2"
  }
 },
 "nbformat": 4,
 "nbformat_minor": 2
}
