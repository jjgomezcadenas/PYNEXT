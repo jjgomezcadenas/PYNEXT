{
 "cells": [
  {
   "cell_type": "markdown",
   "metadata": {},
   "source": [
    "# Pressure Vessel"
   ]
  },
  {
   "cell_type": "code",
   "execution_count": 2,
   "metadata": {},
   "outputs": [
    {
     "name": "stdout",
     "output_type": "stream",
     "text": [
      "2017-12-11 22:50:33\n"
     ]
    }
   ],
   "source": [
    "import os\n",
    "import datetime\n",
    "print(datetime.datetime.now().strftime('%Y-%m-%d %H:%M:%S'))\n",
    "\n",
    "import time\n",
    "import glob\n",
    "import tables as tb\n",
    "import numpy as np\n",
    "import pandas as pd\n",
    "import matplotlib.pyplot as plt\n",
    "from functools import reduce\n",
    "import numpy.testing as npt\n",
    "from operator import itemgetter, attrgetter\n",
    "%matplotlib inline\n",
    "%load_ext autoreload\n",
    "%autoreload 2\n",
    "\n",
    "plt.rcParams[\"figure.figsize\"] = 10, 8\n",
    "plt.rcParams[\"font.size\"     ] = 14"
   ]
  },
  {
   "cell_type": "code",
   "execution_count": 3,
   "metadata": {
    "collapsed": true
   },
   "outputs": [],
   "source": [
    "from math import sqrt, pi\n",
    "from pynext.system_of_units import *\n",
    "from pynext.Material import PhysicalMaterial\n",
    "from pynext.Material import RadioactiveMaterial\n",
    "from pynext.Material import PVMaterial"
   ]
  },
  {
   "cell_type": "markdown",
   "metadata": {},
   "source": [
    "## Physical Material"
   ]
  },
  {
   "cell_type": "markdown",
   "metadata": {},
   "source": [
    "### Xenon densities (rho_pt, where p is pressure in atm and t is temperature in celsius)"
   ]
  },
  {
   "cell_type": "code",
   "execution_count": 4,
   "metadata": {
    "collapsed": true
   },
   "outputs": [],
   "source": [
    "rho_2020 = 124.3 * kg/m3\n",
    "rho_3020 = 203.35 * kg/m3\n",
    "rho_1520 = 89.9 * kg/m3\n",
    "rho_1020 = 58 * kg/m3\n",
    "rho_0520 = 30 * kg/m3\n",
    "rho_0720 = 40 * kg/m3\n",
    "rho_0920 = 50 * kg/m3\n",
    "rho_list = [\n",
    "('rho_2020' , rho_2020),\n",
    "('rho_3020' , rho_3020),\n",
    "('rho_1520' , rho_1520),\n",
    "('rho_1020' , rho_1020),\n",
    "('rho_0520' , rho_0520),\n",
    "('rho_0720' , rho_0720),\n",
    "('rho_0920' , rho_0920)\n",
    "]"
   ]
  },
  {
   "cell_type": "code",
   "execution_count": 5,
   "metadata": {
    "collapsed": true
   },
   "outputs": [],
   "source": [
    "def print_latt(densities):\n",
    "    \n",
    "    ug = g/cm3\n",
    "    ukg = kg/m3\n",
    "    ordered = sorted([ (name, r) for (name, r) in densities ],\n",
    "                     key=itemgetter(1))\n",
    "    \n",
    "    for name, rho in ordered:\n",
    "        xe = PhysicalMaterial(name='GXe', rho=rho, mu_over_rho=0.039 * cm2/g)\n",
    "        print(\"\"\"for xenon gas at density rho ={:7.2f} Latt (2.5 MeV) = {:7.2f} m.\"\"\".format(\n",
    "                 rho / (g/cm3), xe.Latt /m))\n",
    "\n"
   ]
  },
  {
   "cell_type": "code",
   "execution_count": 6,
   "metadata": {
    "collapsed": true
   },
   "outputs": [],
   "source": [
    "def transmittance_and_absorption_at_qbb(densities):\n",
    "    \n",
    "    ug = g/cm3\n",
    "    ukg = kg/m3\n",
    "    ordered = sorted([ (name, r) for (name, r) in densities ],\n",
    "                     key=itemgetter(1))\n",
    "    \n",
    "    for name, rho in ordered:\n",
    "        xe = PhysicalMaterial(name='GXe', rho=rho, mu_over_rho=0.039 * cm2/g)\n",
    "       \n",
    "        for L in (1*m, 2*m, 3*m):\n",
    "            print(\"\"\"for xenon gas at density rho {:7.2f} g/cm3\n",
    "                 for detector vessel of length {:7.2f} m\n",
    "                 Latt (2.5 MeV) = {:7.2f} m\n",
    "                 Fraction of gammas (2.5 MeV) not interacting = {:7.2f}\n",
    "                 Fraction of gammas (2.5 MeV) not interacting = {:7.2f}\n",
    "                 \"\"\".format(rho/(g/cm3), L /m, xe.Latt/m,\n",
    "                           xe.transmittance_at_qbb(L), xe.absorption_at_qbb(L) ))\n",
    "\n"
   ]
  },
  {
   "cell_type": "markdown",
   "metadata": {},
   "source": [
    "### Fraction of interacting gammas as a function of L for different densities"
   ]
  },
  {
   "cell_type": "code",
   "execution_count": 7,
   "metadata": {
    "collapsed": true
   },
   "outputs": [],
   "source": [
    "L = np.arange(1, 3.5, 0.1) * m\n",
    "xe = PhysicalMaterial(name='GXe', rho=rho_0520, mu_over_rho=0.039 * cm2/g)\n",
    "I0520 = np.array([xe.absorption_at_qbb(l) for l in L]) \n",
    "xe = PhysicalMaterial(name='GXe', rho=rho_1020, mu_over_rho=0.039 * cm2/g)\n",
    "I1020 = np.array([xe.absorption_at_qbb(l) for l in L]) \n",
    "xe = PhysicalMaterial(name='GXe', rho=rho_2020, mu_over_rho=0.039 * cm2/g)\n",
    "I2020 = np.array([xe.absorption_at_qbb(l) for l in L]) "
   ]
  },
  {
   "cell_type": "code",
   "execution_count": 11,
   "metadata": {
    "scrolled": false
   },
   "outputs": [
    {
     "data": {
      "image/png": "[encoded data removed]",
      "text/plain": [
       "<matplotlib.figure.Figure at 0x1178cea20>"
      ]
     },
     "metadata": {},
     "output_type": "display_data"
    }
   ],
   "source": [
    "plt.plot(L / m, I0520,'b')\n",
    "plt.plot(L / m, I1020,'r--')\n",
    "plt.plot(L / m, I2020,'g-.')\n",
    "plt.grid(True)\n",
    "plt.xlabel('L (m)')\n",
    "plt.ylabel('Fraction of gammas (2.5 MeV) interacting in gas')\n",
    "plt.text(2.5, 0.78, r'$\\rho={0:5.3f} \\, g/cm^3$'.format(rho_2020/ (g/cm3)))\n",
    "plt.text(3, 0.57, r'$\\rho={0:5.3f} \\, g/cm^3$'.format(rho_1020/ (g/cm3)))\n",
    "plt.text(3, 0.36, r'$\\rho={0:5.3f} \\, g/cm^3$'.format(rho_0520/ (g/cm3)))\n",
    "plt.show()"
   ]
  },
  {
   "cell_type": "markdown",
   "metadata": {},
   "source": [
    "## Radioactive Materials"
   ]
  },
  {
   "cell_type": "markdown",
   "metadata": {},
   "source": [
    "### Steel alloy 316Ti"
   ]
  },
  {
   "cell_type": "code",
   "execution_count": 230,
   "metadata": {
    "collapsed": true
   },
   "outputs": [],
   "source": [
    "A_BI214_316Ti =    1 * mBq/kg\n",
    "A_TL208_316Ti = 0.15 * mBq/kg"
   ]
  },
  {
   "cell_type": "code",
   "execution_count": 231,
   "metadata": {},
   "outputs": [
    {
     "data": {
      "text/plain": [
       "\n",
       "        material                                   = 316ti\n",
       "        density (rho)                              =    7.87 g/cm3\n",
       "        mass attenuation coefficient (mu_over_rho) =    0.04 cm2/g\n",
       "        attenuation coefficient (mu)               =    0.31 cm^-1\n",
       "        attenuation length (Latt)                  =    3.26 cm\n",
       "    \n",
       "        activity Bi-214                = 1.00e-03 Bq /kg\n",
       "        activity Tl-208                = 1.50e-04 Bq /kg\n",
       "    "
      ]
     },
     "execution_count": 231,
     "metadata": {},
     "output_type": "execute_result"
    }
   ],
   "source": [
    "ti316 = RadioactiveMaterial(name='316ti', rho=7.87 * g/cm3, mu_over_rho=0.039 * cm2/g, \n",
    "                            a_bi214=A_BI214_316Ti, a_tl208=A_TL208_316Ti)\n",
    "ti316"
   ]
  },
  {
   "cell_type": "markdown",
   "metadata": {},
   "source": [
    "### Copper"
   ]
  },
  {
   "cell_type": "code",
   "execution_count": 232,
   "metadata": {
    "collapsed": true
   },
   "outputs": [],
   "source": [
    "A_BI214_CU_LIM =    12  * muBq/kg\n",
    "A_TL208_CU_LIM =    1.4 * muBq/kg"
   ]
  },
  {
   "cell_type": "code",
   "execution_count": 233,
   "metadata": {},
   "outputs": [
    {
     "data": {
      "text/plain": [
       "\n",
       "        material                                   = Cu\n",
       "        density (rho)                              =    8.96 g/cm3\n",
       "        mass attenuation coefficient (mu_over_rho) =    0.04 cm2/g\n",
       "        attenuation coefficient (mu)               =    0.35 cm^-1\n",
       "        attenuation length (Latt)                  =    2.86 cm\n",
       "    \n",
       "        activity Bi-214                = 1.20e-05 Bq /kg\n",
       "        activity Tl-208                = 1.40e-06 Bq /kg\n",
       "    "
      ]
     },
     "execution_count": 233,
     "metadata": {},
     "output_type": "execute_result"
    }
   ],
   "source": [
    "cu =   RadioactiveMaterial(name='Cu',\n",
    "                           rho = 8.96 * g/cm3,\n",
    "                           mu_over_rho = 0.039 * cm2/g,\n",
    "                           a_bi214 = A_BI214_CU_LIM,\n",
    "                           a_tl208 = A_TL208_CU_LIM )\n",
    "cu"
   ]
  },
  {
   "cell_type": "code",
   "execution_count": 235,
   "metadata": {
    "collapsed": true
   },
   "outputs": [],
   "source": [
    "A_BI214_PB = 370 * muBq/kg\n",
    "A_TL208_PB = 73 * muBq/kg"
   ]
  },
  {
   "cell_type": "code",
   "execution_count": 236,
   "metadata": {},
   "outputs": [
    {
     "data": {
      "text/plain": [
       "\n",
       "        material                                   = Pb\n",
       "        density (rho)                              =   11.33 g/cm3\n",
       "        mass attenuation coefficient (mu_over_rho) =    0.04 cm2/g\n",
       "        attenuation coefficient (mu)               =    0.50 cm^-1\n",
       "        attenuation length (Latt)                  =    2.01 cm\n",
       "    \n",
       "        activity Bi-214                = 3.70e-04 Bq /kg\n",
       "        activity Tl-208                = 7.30e-05 Bq /kg\n",
       "    "
      ]
     },
     "execution_count": 236,
     "metadata": {},
     "output_type": "execute_result"
    }
   ],
   "source": [
    "pb =   RadioactiveMaterial(name='Pb',\n",
    "                           rho = 11.33 * g/cm3,\n",
    "                           mu_over_rho = 0.044 * cm2/g,\n",
    "                           a_bi214 = A_BI214_PB,\n",
    "                           a_tl208 = A_TL208_PB )\n",
    "pb"
   ]
  },
  {
   "cell_type": "markdown",
   "metadata": {},
   "source": [
    "## Attenuation provided by the lead castle"
   ]
  },
  {
   "cell_type": "code",
   "execution_count": 20,
   "metadata": {
    "collapsed": true
   },
   "outputs": [],
   "source": [
    "from pynext.Shapes import Brick\n",
    "from pynext.PhysicalVolume import PhysicalVolume"
   ]
  },
  {
   "cell_type": "markdown",
   "metadata": {},
   "source": [
    "#### Gamma activity in Canfranc"
   ]
  },
  {
   "cell_type": "markdown",
   "metadata": {},
   "source": [
    "The rock walls of the underground laboratory are a rather intense source of high-energy\n",
    "gammas due to the presence of trace radioactive contaminants in their composition. The\n",
    "total gamma flux at LSC (Hall A) is 1.06 ± 0.24 cm−2 s−1, with contributions from 40K\n",
    "(0.52 ± 0.23 cm−2 s−1), 238U (0.35 ± 0.03 cm−2 s−1) and 232Th (0.19 ± 0.04 cm−2 s−1)\n"
   ]
  },
  {
   "cell_type": "code",
   "execution_count": 238,
   "metadata": {
    "collapsed": true
   },
   "outputs": [],
   "source": [
    "G_238U   = 0.35 * Bq / cm2 \n",
    "G_232Th  = 0.19 * Bq / cm2 \n",
    "G_40K    = 0.52 * Bq / cm2 \n",
    "G_LSC    = 1.06 * Bq / cm2\n",
    "G_Bi214  = G_238U * 0.015\n",
    "G_Tl208  = G_232Th * 0.36"
   ]
  },
  {
   "cell_type": "code",
   "execution_count": 226,
   "metadata": {
    "collapsed": true
   },
   "outputs": [],
   "source": [
    "pb_th = 20*cm # thickness of lead bricks"
   ]
  },
  {
   "cell_type": "code",
   "execution_count": 227,
   "metadata": {
    "collapsed": true
   },
   "outputs": [],
   "source": [
    "pbth = np.arange(0, 20, 0.1) * cm\n",
    "T = np.array([pb.transmittance_at_qbb(l) for l in pbth]) "
   ]
  },
  {
   "cell_type": "code",
   "execution_count": 228,
   "metadata": {},
   "outputs": [
    {
     "data": {
      "image/png": "[encoded data removed]",
      "text/plain": [
       "<matplotlib.figure.Figure at 0x117f13240>"
      ]
     },
     "metadata": {},
     "output_type": "display_data"
    }
   ],
   "source": [
    "plt.semilogy(pbth / cm, T,'b')\n",
    "plt.grid(True)\n",
    "plt.xlabel('Lead thickness (cm)')\n",
    "plt.ylabel('Fraction of gammas (2.5 MeV) tramsmitted through')\n",
    "plt.show()"
   ]
  },
  {
   "cell_type": "markdown",
   "metadata": {},
   "source": [
    "#### Lead shield reduce energetic gammas almost three orders of magnitude"
   ]
  },
  {
   "cell_type": "markdown",
   "metadata": {},
   "source": [
    "### Computing initial flux from lab crossing NEXT"
   ]
  },
  {
   "cell_type": "markdown",
   "metadata": {},
   "source": [
    "1. Define a cylinder shell and two disks surrounding the detector\n",
    "2. Compute the total activity entering the detector as the product of the surfaces of the envelop volumes and the LSC flux. "
   ]
  },
  {
   "cell_type": "code",
   "execution_count": 134,
   "metadata": {
    "collapsed": true
   },
   "outputs": [],
   "source": [
    "from pynext.Shapes import CylinderShell\n",
    "from pynext.Shapes import Disk"
   ]
  },
  {
   "cell_type": "code",
   "execution_count": 165,
   "metadata": {
    "collapsed": true
   },
   "outputs": [],
   "source": [
    "PV_ID = 1360 * mm  # PV inner diameter\n",
    "PV_TH = 1.8 * cm # PV thickness\n",
    "PV_Z  = 160 * cm\n",
    "PB_TH = 20  * cm \n",
    "CU_TH = 12  * cm \n",
    "\n",
    "PV_IR  = PV_ID / 2\n",
    "PV_OD  = PV_ID + PV_TH\n",
    "PV_OR  = PV_OD / 2\n",
    "\n",
    "CU_ID = PV_ID - CU_TH\n",
    "CU_OD = PV_ID\n",
    "CU_IR = CU_ID / 2\n",
    "CU_OR = CU_OD / 2\n"
   ]
  },
  {
   "cell_type": "code",
   "execution_count": 170,
   "metadata": {
    "collapsed": true
   },
   "outputs": [],
   "source": [
    "pv_body_envelop = CylinderShell(Rin=PV_OR, Rout=PV_OR + 1 * mm, L=PV_Z)"
   ]
  },
  {
   "cell_type": "code",
   "execution_count": 171,
   "metadata": {
    "collapsed": true
   },
   "outputs": [],
   "source": [
    "pv_head_envelop = Disk         (R=PV_OR, t=PV_OR + 1 * mm)"
   ]
  },
  {
   "cell_type": "code",
   "execution_count": 172,
   "metadata": {},
   "outputs": [
    {
     "data": {
      "text/plain": [
       "69265.83482634775"
      ]
     },
     "execution_count": 172,
     "metadata": {},
     "output_type": "execute_result"
    }
   ],
   "source": [
    "pv_body_envelop.inner_surface() / cm2"
   ]
  },
  {
   "cell_type": "code",
   "execution_count": 173,
   "metadata": {},
   "outputs": [
    {
     "data": {
      "text/plain": [
       "14913.800061048001"
      ]
     },
     "execution_count": 173,
     "metadata": {},
     "output_type": "execute_result"
    }
   ],
   "source": [
    "pv_head_envelop.inner_surface() / cm2"
   ]
  },
  {
   "cell_type": "code",
   "execution_count": 174,
   "metadata": {
    "collapsed": true
   },
   "outputs": [],
   "source": [
    "surface_envelop = pv_body_envelop.inner_surface() + 2 * pv_head_envelop.inner_surface()\n",
    "lsc_next_activity_body_bi214 = G_Bi * pv_body_envelop.inner_surface()\n",
    "lsc_next_activity_head_bi214 = 2 * G_Bi * pv_head_envelop.inner_surface()\n",
    "lsc_next_activity_body_tl208 = G_Tl * pv_body_envelop.inner_surface()\n",
    "lsc_next_activity_head_tl208 = 2 * G_Tl * pv_head_envelop.inner_surface()"
   ]
  },
  {
   "cell_type": "code",
   "execution_count": 175,
   "metadata": {},
   "outputs": [
    {
     "name": "stdout",
     "output_type": "stream",
     "text": [
      "\n",
      "activity in NEXT from LSC gamma 2448 keV (Bi-214) = 644.1073271648845 Bq\n",
      "activity in NEXT from LSC gamma 2614 keV (Tl-208) = 1932.3219814946533 Bq\n",
      "\n"
     ]
    }
   ],
   "source": [
    "print(\"\"\"\n",
    "activity in NEXT from LSC gamma 2448 keV (Bi-214) = {} Bq\n",
    "activity in NEXT from LSC gamma 2614 keV (Tl-208) = {} Bq\n",
    "\"\"\".format((lsc_next_activity_body_bi214  + lsc_next_activity_head_bi214)/ Bq, \n",
    "           (lsc_next_activity_body_tl208  + lsc_next_activity_head_tl208)/ Bq))"
   ]
  },
  {
   "cell_type": "markdown",
   "metadata": {},
   "source": [
    "### Computing the shielding of the Lead Castle"
   ]
  },
  {
   "cell_type": "markdown",
   "metadata": {},
   "source": [
    "1. Define a cylinder shell and two disks filled of lead with thickness of 12 cm\n",
    "2. Compute the transmittance through them"
   ]
  },
  {
   "cell_type": "code",
   "execution_count": 176,
   "metadata": {
    "collapsed": true
   },
   "outputs": [],
   "source": [
    "lead_body = CylinderShell(Rin=PV_OR, Rout=PV_OR + PB_TH, L=PV_Z)\n",
    "lead_head = Disk         (R=PV_OR, t=PV_OR + PB_TH)"
   ]
  },
  {
   "cell_type": "code",
   "execution_count": 177,
   "metadata": {
    "collapsed": true
   },
   "outputs": [],
   "source": [
    "lead_wall_body = PhysicalVolume('WallBody', pb, lead_body)\n",
    "lead_wall_head = PhysicalVolume('WallHead', pb, lead_head)"
   ]
  },
  {
   "cell_type": "code",
   "execution_count": 184,
   "metadata": {
    "collapsed": true
   },
   "outputs": [],
   "source": [
    "lsc_activity_through_castle_body_bi214 =(lsc_next_activity_bi214   * \n",
    "                                         lead_wall_body.material.transmittance_at_qbb(PB_TH))\n",
    "lsc_activity_through_castle_head_bi214 =(lsc_next_activity_head_bi214 * \n",
    "                                         lead_wall_head.material.transmittance_at_qbb(PB_TH))\n",
    "\n",
    "lsc_activity_through_castle_bi214 =(lsc_activity_through_castle_body_bi214 +\n",
    "                                   lsc_activity_through_castle_head_bi214)"
   ]
  },
  {
   "cell_type": "code",
   "execution_count": 185,
   "metadata": {
    "collapsed": true
   },
   "outputs": [],
   "source": [
    "lsc_activity_through_castle_body_tl208 =(lsc_next_activity_tl208   * \n",
    "                                         lead_wall_body.material.transmittance_at_qbb(PB_TH))\n",
    "lsc_activity_through_castle_head_tl208 =(lsc_next_activity_head_tl208 * \n",
    "                                         lead_wall_head.material.transmittance_at_qbb(PB_TH))\n",
    "\n",
    "lsc_activity_through_castle_tl208 =(lsc_activity_through_castle_body_tl208 +\n",
    "                                   lsc_activity_through_castle_head_tl208)"
   ]
  },
  {
   "cell_type": "code",
   "execution_count": 186,
   "metadata": {},
   "outputs": [
    {
     "data": {
      "text/plain": [
       "2114.381347459451"
      ]
     },
     "execution_count": 186,
     "metadata": {},
     "output_type": "execute_result"
    }
   ],
   "source": [
    "lsc_activity_through_castle_bi214 / mBq"
   ]
  },
  {
   "cell_type": "code",
   "execution_count": 187,
   "metadata": {},
   "outputs": [
    {
     "data": {
      "text/plain": [
       "6343.144042378352"
      ]
     },
     "execution_count": 187,
     "metadata": {},
     "output_type": "execute_result"
    }
   ],
   "source": [
    "lsc_activity_through_castle_tl208 / mBq"
   ]
  },
  {
   "cell_type": "markdown",
   "metadata": {},
   "source": [
    "### Computing the shielding of the Copper Shield"
   ]
  },
  {
   "cell_type": "markdown",
   "metadata": {},
   "source": [
    "1. Repeat the procedure for copper"
   ]
  },
  {
   "cell_type": "code",
   "execution_count": 182,
   "metadata": {
    "collapsed": true
   },
   "outputs": [],
   "source": [
    "cu_body = CylinderShell(Rin=CU_IR, Rout=CU_OR, L=PV_Z)\n",
    "cu_head = Disk         (R=CU_OR, t=CU_TH)"
   ]
  },
  {
   "cell_type": "code",
   "execution_count": 183,
   "metadata": {
    "collapsed": true
   },
   "outputs": [],
   "source": [
    "cu_shield_body = PhysicalVolume('ShieldBody', cu, cu_body)\n",
    "cu_shield_head = PhysicalVolume('ShieldHead', cu, cu_head)"
   ]
  },
  {
   "cell_type": "code",
   "execution_count": 190,
   "metadata": {
    "collapsed": true
   },
   "outputs": [],
   "source": [
    "lsc_activity_through_shield_body_bi214 =(lsc_activity_through_castle_body_bi214 * \n",
    "                                         cu_shield_body.material.transmittance_at_qbb(CU_TH))\n",
    "lsc_activity_through_shield_head_bi214 =(lsc_activity_through_castle_head_bi214 * \n",
    "                                         cu_shield_head.material.transmittance_at_qbb(CU_TH))\n",
    "lsc_activity_through_shield_bi214 =(lsc_activity_through_shield_body_bi214 +\n",
    "                                   lsc_activity_through_shield_head_bi214)"
   ]
  },
  {
   "cell_type": "code",
   "execution_count": 191,
   "metadata": {
    "collapsed": true
   },
   "outputs": [],
   "source": [
    "lsc_activity_through_shield_body_tl208 =(lsc_activity_through_castle_body_tl208 * \n",
    "                                         cu_shield_body.material.transmittance_at_qbb(CU_TH))\n",
    "lsc_activity_through_shield_head_tl208 =(lsc_activity_through_castle_head_tl208 * \n",
    "                                         cu_shield_head.material.transmittance_at_qbb(CU_TH))\n",
    "lsc_activity_through_shield_tl208 =(lsc_activity_through_shield_body_tl208 +\n",
    "                                   lsc_activity_through_shield_head_tl208)"
   ]
  },
  {
   "cell_type": "code",
   "execution_count": 192,
   "metadata": {},
   "outputs": [
    {
     "data": {
      "text/plain": [
       "31.92015222680627"
      ]
     },
     "execution_count": 192,
     "metadata": {},
     "output_type": "execute_result"
    }
   ],
   "source": [
    "lsc_activity_through_shield_bi214 / mBq"
   ]
  },
  {
   "cell_type": "code",
   "execution_count": 193,
   "metadata": {},
   "outputs": [
    {
     "data": {
      "text/plain": [
       "95.7604566804188"
      ]
     },
     "execution_count": 193,
     "metadata": {},
     "output_type": "execute_result"
    }
   ],
   "source": [
    "lsc_activity_through_shield_tl208 / mBq"
   ]
  },
  {
   "cell_type": "markdown",
   "metadata": {},
   "source": [
    "### Pressure Vessel"
   ]
  },
  {
   "cell_type": "code",
   "execution_count": 209,
   "metadata": {
    "collapsed": true
   },
   "outputs": [],
   "source": [
    "pvs =CylinderShell(Rin=PV_IR, Rout=PV_OR, L=PV_Z)\n",
    "pvh = Disk        (R=PV_OR, t=PV_TH)"
   ]
  },
  {
   "cell_type": "code",
   "execution_count": 210,
   "metadata": {
    "collapsed": true
   },
   "outputs": [],
   "source": [
    "pv_body = PhysicalVolume('PVBody', ti316, pvs)\n",
    "pv_head = PhysicalVolume('PVHead', ti316, pvh)"
   ]
  },
  {
   "cell_type": "code",
   "execution_count": 216,
   "metadata": {},
   "outputs": [
    {
     "data": {
      "text/plain": [
       "487.405634364807"
      ]
     },
     "execution_count": 216,
     "metadata": {},
     "output_type": "execute_result"
    }
   ],
   "source": [
    "pv_body.mass / kg"
   ]
  },
  {
   "cell_type": "code",
   "execution_count": 218,
   "metadata": {},
   "outputs": [
    {
     "data": {
      "text/plain": [
       "211.26889166480603"
      ]
     },
     "execution_count": 218,
     "metadata": {},
     "output_type": "execute_result"
    }
   ],
   "source": [
    "pv_head.mass / kg"
   ]
  },
  {
   "cell_type": "code",
   "execution_count": 224,
   "metadata": {},
   "outputs": [
    {
     "data": {
      "text/plain": [
       "6.83610561421139"
      ]
     },
     "execution_count": 224,
     "metadata": {},
     "output_type": "execute_result"
    }
   ],
   "source": [
    "pv_body.S / m2"
   ]
  },
  {
   "cell_type": "code",
   "execution_count": 225,
   "metadata": {},
   "outputs": [
    {
     "data": {
      "text/plain": [
       "1.4913800061048001"
      ]
     },
     "execution_count": 225,
     "metadata": {},
     "output_type": "execute_result"
    }
   ],
   "source": [
    "pv_head.S / m2"
   ]
  },
  {
   "cell_type": "code",
   "execution_count": null,
   "metadata": {
    "collapsed": true
   },
   "outputs": [],
   "source": []
  },
  {
   "cell_type": "code",
   "execution_count": 219,
   "metadata": {
    "collapsed": true
   },
   "outputs": [],
   "source": [
    "pv_body_activity_bi214 = pv_body.activity_bi214_self_shield(PV_TH) \n",
    "pv_head_activity_bi214 = pv_head.activity_bi214_self_shield(PV_TH)"
   ]
  },
  {
   "cell_type": "code",
   "execution_count": 221,
   "metadata": {},
   "outputs": [
    {
     "data": {
      "text/plain": [
       "248.01379438545175"
      ]
     },
     "execution_count": 221,
     "metadata": {},
     "output_type": "execute_result"
    }
   ],
   "source": [
    "pv_body_activity_bi214 / mBq"
   ]
  },
  {
   "cell_type": "code",
   "execution_count": 222,
   "metadata": {},
   "outputs": [
    {
     "data": {
      "text/plain": [
       "54.10724103145957"
      ]
     },
     "execution_count": 222,
     "metadata": {},
     "output_type": "execute_result"
    }
   ],
   "source": [
    "pv_head_activity_bi214 / mBq"
   ]
  },
  {
   "cell_type": "code",
   "execution_count": 223,
   "metadata": {},
   "outputs": [
    {
     "data": {
      "text/plain": [
       "248.01379438545175"
      ]
     },
     "execution_count": 223,
     "metadata": {},
     "output_type": "execute_result"
    }
   ],
   "source": [
    "pv_body_activity_tl208 / mBq"
   ]
  },
  {
   "cell_type": "code",
   "execution_count": null,
   "metadata": {
    "collapsed": true
   },
   "outputs": [],
   "source": []
  },
  {
   "cell_type": "code",
   "execution_count": 212,
   "metadata": {
    "collapsed": true
   },
   "outputs": [],
   "source": [
    "pv_body_activity_tl208 = pv_body.activity_tl208_self_shield(PV_TH)\n",
    "pv_head_activity_tl208 = pv_head.activity_tl208_self_shield(PV_TH)"
   ]
  },
  {
   "cell_type": "code",
   "execution_count": 214,
   "metadata": {},
   "outputs": [
    {
     "name": "stdout",
     "output_type": "stream",
     "text": [
      "\n",
      "activity PV body gamma 2448 keV (Bi-214) = 248.01379438545175 Bq\n",
      "activity PV body from LSC gamma 2614 keV (Tl-208) = 248.01379438545175 Bq\n",
      "\n"
     ]
    }
   ],
   "source": [
    "print(\"\"\"\n",
    "activity PV body gamma 2448 keV (Bi-214) = {} Bq\n",
    "activity PV body from LSC gamma 2614 keV (Tl-208) = {} Bq\n",
    "\"\"\".format((pv_body_activity_bi214 + pv_head_activity_bi214 )/ mBq, \n",
    "           (pv_body_activity_tl208 + pv_head_activity_tl208)/ mBq))"
   ]
  },
  {
   "cell_type": "code",
   "execution_count": null,
   "metadata": {
    "collapsed": true
   },
   "outputs": [],
   "source": [
    "+ pv_head_activity_bi214 + pv_head_activity_tl208"
   ]
  },
  {
   "cell_type": "code",
   "execution_count": null,
   "metadata": {
    "collapsed": true
   },
   "outputs": [],
   "source": [
    "pv.activity_through_shield_bi214 = pv.activity_bi214_self_shield(PV_TH) "
   ]
  },
  {
   "cell_type": "markdown",
   "metadata": {},
   "source": [
    "### Inner Copper Shield"
   ]
  },
  {
   "cell_type": "code",
   "execution_count": 33,
   "metadata": {
    "collapsed": true
   },
   "outputs": [],
   "source": [
    "ICS_OD = PV_ID \n",
    "ICS_TH = 15 * cm # PV thickness\n",
    "ICS_ID = ICS_OD - ICS_TH\n",
    "ICS_Z = PV_Z"
   ]
  },
  {
   "cell_type": "code",
   "execution_count": 34,
   "metadata": {
    "collapsed": true
   },
   "outputs": [],
   "source": [
    "icss =CylinderShell(Rin=ICS_ID / 2, Rout=ICS_OD / 2, L=ICS_Z)\n",
    "ics = PhysicalVolume('ICS', cu, icss)"
   ]
  },
  {
   "cell_type": "code",
   "execution_count": 35,
   "metadata": {},
   "outputs": [
    {
     "data": {
      "text/plain": [
       "1.5359752481551037"
      ]
     },
     "execution_count": 35,
     "metadata": {},
     "output_type": "execute_result"
    }
   ],
   "source": [
    "ics.activity_bi214_self_shield(12 * cm) / mBq"
   ]
  },
  {
   "cell_type": "code",
   "execution_count": 36,
   "metadata": {},
   "outputs": [
    {
     "data": {
      "text/plain": [
       "1.5359752481551037"
      ]
     },
     "execution_count": 36,
     "metadata": {},
     "output_type": "execute_result"
    }
   ],
   "source": [
    "ics.activity_tl208_self_shield(12 * cm) / mBq"
   ]
  },
  {
   "cell_type": "code",
   "execution_count": 37,
   "metadata": {},
   "outputs": [
    {
     "data": {
      "text/plain": [
       "6.0821233773498395"
      ]
     },
     "execution_count": 37,
     "metadata": {},
     "output_type": "execute_result"
    }
   ],
   "source": [
    "ics.S / m2"
   ]
  },
  {
   "cell_type": "code",
   "execution_count": 38,
   "metadata": {},
   "outputs": [
    {
     "data": {
      "text/plain": [
       "6.83610561421139"
      ]
     },
     "execution_count": 38,
     "metadata": {},
     "output_type": "execute_result"
    }
   ],
   "source": [
    "pv.S / m2"
   ]
  },
  {
   "cell_type": "code",
   "execution_count": 39,
   "metadata": {},
   "outputs": [
    {
     "data": {
      "text/plain": [
       "0.005291783205644898"
      ]
     },
     "execution_count": 39,
     "metadata": {},
     "output_type": "execute_result"
    }
   ],
   "source": [
    "ics.material.transmittance_at_qbb(ICS_TH)"
   ]
  },
  {
   "cell_type": "markdown",
   "metadata": {},
   "source": [
    "### Shielding of ICS"
   ]
  },
  {
   "cell_type": "code",
   "execution_count": 40,
   "metadata": {},
   "outputs": [
    {
     "data": {
      "text/plain": [
       "1.3124352318972006"
      ]
     },
     "execution_count": 40,
     "metadata": {},
     "output_type": "execute_result"
    }
   ],
   "source": [
    "pv.activity_bi214_self_shield(PV_TH)* ics.material.transmittance_at_qbb(ICS_TH)  / mBq"
   ]
  },
  {
   "cell_type": "code",
   "execution_count": 41,
   "metadata": {},
   "outputs": [
    {
     "data": {
      "text/plain": [
       "6.5612014829168075"
      ]
     },
     "execution_count": 41,
     "metadata": {},
     "output_type": "execute_result"
    }
   ],
   "source": [
    "tlsc_bi * ics.material.transmittance_at_qbb(ICS_TH) / mBq "
   ]
  },
  {
   "cell_type": "markdown",
   "metadata": {},
   "source": [
    "### Class PressureVessel"
   ]
  },
  {
   "cell_type": "code",
   "execution_count": 125,
   "metadata": {
    "collapsed": true
   },
   "outputs": [],
   "source": [
    "from pynext.PressureVessel import PressureVessel\n",
    "from pynext.PressureVessel import n100d, n100pv, n100cs"
   ]
  },
  {
   "cell_type": "code",
   "execution_count": 126,
   "metadata": {
    "collapsed": true
   },
   "outputs": [],
   "source": [
    "pv = PressureVessel(n100pv, n100cs)"
   ]
  },
  {
   "cell_type": "code",
   "execution_count": 127,
   "metadata": {},
   "outputs": [
    {
     "data": {
      "text/plain": [
       "\n",
       "        Pressure Vessel:\n",
       "        ----------------\n",
       "\n",
       "        material = 316ti\n",
       "        specific activity: Bi-214 =    1.00 mBq/kg Tl-208 =    1.00 mBq/kg\n",
       "        body:\n",
       "        R =   68.00 cm;  thickness =    1.80 cm; mass =  487.41 kg\n",
       "        activity Bi-214 =  487.41 mBq, self-shielded = 248.01 mBq\n",
       "        activity Tl-208 =  487.41 mBq, self-shielded = 248.01 mBq\n",
       "\n",
       "        heads:\n",
       "        thickness =    1.80 cm; mass =  411.57 kg\n",
       "        activity Bi-214 =  205.79 mBq, self-shielded =  52.70 mBq\n",
       "        activity Tl-208 =  205.79 mBq, self-shielded =  52.70 mBq\n",
       "\n",
       "        flanges:\n",
       "        thickness =    1.80 cm; mass =   22.08 kg\n",
       "        activity Bi-214 =   11.04 mBq, self-shielded =   2.79 mBq\n",
       "        activity Tl-208 =   11.04 mBq, self-shielded =   2.79 mBq\n",
       "\n",
       "        Copper Shield\n",
       "        material = Cu\n",
       "        specific activity: Bi-214 =   12.00 muBq/kg Tl-208 =   12.00 muBq/kg\n",
       "        body:\n",
       "        thickness =   12.00 cm; mass = 3512.95 kg\n",
       "        activity Bi-214 =   42.16 mBq, self-shielded =   6.30 mBq\n",
       "        activity Tl-208 =   42.16 mBq, self-shielded =   6.30 mBq\n",
       "\n",
       "        heads:\n",
       "        thickness =   12.00 cm; mass = 3123.83 kg\n",
       "        activity Bi-214 =   18.74 mBq, self-shielded =   1.47 mBq\n",
       "        activity Tl-208 =   18.74 mBq, self-shielded =   1.47 mBq\n",
       "\n",
       "        "
      ]
     },
     "execution_count": 127,
     "metadata": {},
     "output_type": "execute_result"
    }
   ],
   "source": [
    "pv"
   ]
  },
  {
   "cell_type": "code",
   "execution_count": null,
   "metadata": {
    "collapsed": true
   },
   "outputs": [],
   "source": []
  },
  {
   "cell_type": "code",
   "execution_count": 155,
   "metadata": {},
   "outputs": [
    {
     "data": {
      "text/plain": [
       "0.12467850268742596"
      ]
     },
     "execution_count": 155,
     "metadata": {},
     "output_type": "execute_result"
    }
   ],
   "source": [
    "pv2.pvBody.V / m3"
   ]
  },
  {
   "cell_type": "code",
   "execution_count": 160,
   "metadata": {},
   "outputs": [
    {
     "data": {
      "text/plain": [
       "2.3242759088318725"
      ]
     },
     "execution_count": 160,
     "metadata": {},
     "output_type": "execute_result"
    }
   ],
   "source": [
    "pv2.pvBody.shape.inner_volume() / m3"
   ]
  },
  {
   "cell_type": "code",
   "execution_count": 162,
   "metadata": {},
   "outputs": [
    {
     "data": {
      "text/plain": [
       "0.12467850268742596"
      ]
     },
     "execution_count": 162,
     "metadata": {},
     "output_type": "execute_result"
    }
   ],
   "source": [
    "pv2.pvBody.shape.shell_volume() / m3"
   ]
  },
  {
   "cell_type": "code",
   "execution_count": 163,
   "metadata": {
    "collapsed": true
   },
   "outputs": [],
   "source": [
    "Rin  =  n100d.d / 2\n",
    "Rout = (n100d.d + n100d.t) / 2\n",
    "L    = n100d.l"
   ]
  },
  {
   "cell_type": "code",
   "execution_count": 171,
   "metadata": {},
   "outputs": [
    {
     "data": {
      "text/plain": [
       "0.12386420187161548"
      ]
     },
     "execution_count": 171,
     "metadata": {},
     "output_type": "execute_result"
    }
   ],
   "source": [
    "2 * pi * (Rout**2  - Rin**2) * L / m3"
   ]
  },
  {
   "cell_type": "code",
   "execution_count": 167,
   "metadata": {},
   "outputs": [
    {
     "data": {
      "text/plain": [
       "0.689"
      ]
     },
     "execution_count": 167,
     "metadata": {},
     "output_type": "execute_result"
    }
   ],
   "source": [
    "Rout / m"
   ]
  },
  {
   "cell_type": "code",
   "execution_count": 168,
   "metadata": {},
   "outputs": [
    {
     "data": {
      "text/plain": [
       "0.68"
      ]
     },
     "execution_count": 168,
     "metadata": {},
     "output_type": "execute_result"
    }
   ],
   "source": [
    "Rin / m"
   ]
  },
  {
   "cell_type": "code",
   "execution_count": 170,
   "metadata": {},
   "outputs": [
    {
     "data": {
      "text/plain": [
       "1.6"
      ]
     },
     "execution_count": 170,
     "metadata": {},
     "output_type": "execute_result"
    }
   ],
   "source": [
    "L / m"
   ]
  },
  {
   "cell_type": "code",
   "execution_count": null,
   "metadata": {
    "collapsed": true
   },
   "outputs": [],
   "source": []
  }
 ],
 "metadata": {
  "kernelspec": {
   "display_name": "Python 3",
   "language": "python",
   "name": "python3"
  },
  "language_info": {
   "codemirror_mode": {
    "name": "ipython",
    "version": 3
   },
   "file_extension": ".py",
   "mimetype": "text/x-python",
   "name": "python",
   "nbconvert_exporter": "python",
   "pygments_lexer": "ipython3",
   "version": "3.6.2"
  }
 },
 "nbformat": 4,
 "nbformat_minor": 2
}
