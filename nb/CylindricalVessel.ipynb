{
 "cells": [
  {
   "cell_type": "markdown",
   "metadata": {},
   "source": [
    "# Cylindrical Vessel"
   ]
  },
  {
   "cell_type": "markdown",
   "metadata": {},
   "source": [
    "The NEXT pressure vessels (PV), lead shield (PB) and copper shield (CU or CS) can be expressed as cylindrical vessels. "
   ]
  },
  {
   "cell_type": "code",
   "execution_count": 1,
   "metadata": {},
   "outputs": [
    {
     "name": "stdout",
     "output_type": "stream",
     "text": [
      "2017-12-17 10:57:41\n"
     ]
    }
   ],
   "source": [
    "import os\n",
    "import datetime\n",
    "print(datetime.datetime.now().strftime('%Y-%m-%d %H:%M:%S'))\n",
    "\n",
    "import time\n",
    "import glob\n",
    "import tables as tb\n",
    "import numpy as np\n",
    "import pandas as pd\n",
    "import matplotlib.pyplot as plt\n",
    "from functools import reduce\n",
    "import numpy.testing as npt\n",
    "from operator import itemgetter, attrgetter\n",
    "%matplotlib inline\n",
    "%load_ext autoreload\n",
    "%autoreload 2\n",
    "\n",
    "plt.rcParams[\"figure.figsize\"] = 10, 8\n",
    "plt.rcParams[\"font.size\"     ] = 14\n",
    "pd.options.display.float_format = '{:.2g}'.format"
   ]
  },
  {
   "cell_type": "code",
   "execution_count": 2,
   "metadata": {
    "collapsed": true
   },
   "outputs": [],
   "source": [
    "from math import sqrt, pi\n",
    "from pynext.system_of_units import *\n",
    "from pynext.Material import PhysicalMaterial\n",
    "from pynext.Material import RadioactiveMaterial\n",
    "from pynext.Material import PVMaterial\n",
    "from pynext.Material import SelfAtt\n",
    "from pynext.PhysicalVolume import PhysicalVolume\n",
    "from pynext.Shapes import CylinderShell\n",
    "from pynext.Shapes import Disk"
   ]
  },
  {
   "cell_type": "code",
   "execution_count": 3,
   "metadata": {
    "collapsed": true
   },
   "outputs": [],
   "source": [
    "from pynext.Material import vacuum, ti316, cu12, cu03, pb\n",
    "from pynext.Material import GXe"
   ]
  },
  {
   "cell_type": "code",
   "execution_count": 4,
   "metadata": {
    "collapsed": true
   },
   "outputs": [],
   "source": [
    "from pynext.CylindricalVessel import CVD, CVA\n",
    "from pynext.CylindricalVessel import CylindricalVessel"
   ]
  },
  {
   "cell_type": "code",
   "execution_count": 5,
   "metadata": {
    "collapsed": true
   },
   "outputs": [],
   "source": [
    "from pynext.NextData import NextPVData\n",
    "from pynext.NextData import RFlux"
   ]
  },
  {
   "cell_type": "code",
   "execution_count": 6,
   "metadata": {
    "collapsed": true
   },
   "outputs": [],
   "source": [
    "from pynext.activity_functions import activity_lsc_gammas_through_CV\n",
    "from pynext.activity_functions import activity_gammas_transmitted_CV\n",
    "from pynext.activity_functions import activity_of_CV\n",
    "from pynext.activity_functions import print_activity\n",
    "from pynext.activity_functions import activity_table"
   ]
  },
  {
   "cell_type": "code",
   "execution_count": 7,
   "metadata": {
    "collapsed": true
   },
   "outputs": [],
   "source": [
    "from collections import namedtuple"
   ]
  },
  {
   "cell_type": "markdown",
   "metadata": {},
   "source": [
    "## Cylindrical Vessel"
   ]
  },
  {
   "cell_type": "markdown",
   "metadata": {},
   "source": [
    "A cylindrical vessel contains two physical volumes fille with the same material, one describing the body (e.g the cylinder itself) and the other describing the heads (the end-cups). "
   ]
  },
  {
   "cell_type": "markdown",
   "metadata": {},
   "source": [
    "## NEXT PV"
   ]
  },
  {
   "cell_type": "markdown",
   "metadata": {},
   "source": [
    "### NEXT-100 PV dimensions"
   ]
  },
  {
   "cell_type": "code",
   "execution_count": 12,
   "metadata": {
    "collapsed": true
   },
   "outputs": [],
   "source": [
    "n100d = NextPVData()"
   ]
  },
  {
   "cell_type": "code",
   "execution_count": 13,
   "metadata": {},
   "outputs": [
    {
     "data": {
      "text/plain": [
       "\n",
       "\n",
       "        Next100PVData\n",
       "        ------------------\n",
       "\n",
       "        PV :\n",
       "        inner diameter  = 1360.00 mm\n",
       "        inner radius    =  680.00 mm\n",
       "        outer diameter  = 1370.00 mm\n",
       "        outer radius    =  685.00 mm\n",
       "        body thickness  =   10.00 mm\n",
       "        head thickness  =   12.00 mm\n",
       "        length          = 1600.00 mm\n",
       "\n",
       "        CS :\n",
       "        inner diameter  = 1240.00 mm\n",
       "        inner radius    =  620.00 mm\n",
       "        outer diameter  = 1360.00 mm\n",
       "        outer radius    =  680.00 mm\n",
       "        body thickness  =  120.00 mm\n",
       "        head thickness  =  120.00 mm\n",
       "        length          = 1600.00 mm\n",
       "\n",
       "        PB :\n",
       "        inner diameter  = 1370.00 mm\n",
       "        inner radius    =  685.00 mm\n",
       "        outer diameter  = 1570.00 mm\n",
       "        outer radius    =  785.00 mm\n",
       "        body thickness  =  200.00 mm\n",
       "        head thickness  =  200.00 mm\n",
       "        length          = 1600.00 mm\n",
       "\n",
       "    "
      ]
     },
     "execution_count": 13,
     "metadata": {},
     "output_type": "execute_result"
    }
   ],
   "source": [
    "n100d"
   ]
  },
  {
   "cell_type": "code",
   "execution_count": 14,
   "metadata": {
    "collapsed": true
   },
   "outputs": [],
   "source": [
    "cvd_pv = CVD(name    = 'Next100PV',\n",
    "                 R       = n100d.pv_inner_radius,\n",
    "                 th_body = n100d.pv_body_thickness,\n",
    "                 L       = n100d.pv_length,\n",
    "                 th_head = n100d.pv_head_thickness)\n",
    "\n",
    "n100_pv = CylindricalVessel(name=cvd_pv.name, material=ti316, cvd=cvd_pv)"
   ]
  },
  {
   "cell_type": "code",
   "execution_count": 15,
   "metadata": {},
   "outputs": [
    {
     "data": {
      "text/plain": [
       "\n",
       "        Cylindrical Vessel:\n",
       "\n",
       "        ----------------\n",
       "        name      = Next100PV\n",
       "        material  = 316ti\n",
       "\n",
       "        specific activity of material:\n",
       "        Bi-214    =    1.00 mBq/kg\n",
       "        Tl-208    =    0.15 mBq/kg\n",
       "\n",
       "        body:\n",
       "        R         =  680.00 mm\n",
       "        thickness =   10.00 mm\n",
       "        length    = 1600.00 mm\n",
       "        surface   = 6.84e+06 mm2\n",
       "        volume    = 6.89e+07 mm3\n",
       "        mass      =  541.96 kg\n",
       "        activity Bi-214 =  541.96 mBq, self-shielded = 195.19 mBq\n",
       "        activity Tl-208 =   81.29 mBq, self-shielded =  29.28 mBq\n",
       "        transmittance   = 7.36e-01\n",
       "\n",
       "        heads:\n",
       "        thickness =   12.00 mm\n",
       "        surface   = 2.91e+06 mm2\n",
       "        volume    = 3.49e+07 mm3\n",
       "        mass      =  274.38 kg\n",
       "        activity Bi-214 =  137.19 mBq, self-shielded =  47.44 mBq\n",
       "        activity Tl-208 =   20.58 mBq, self-shielded =   7.12 mBq\n",
       "        transmittance   = 6.92e-01\n",
       "\n",
       "        "
      ]
     },
     "execution_count": 15,
     "metadata": {},
     "output_type": "execute_result"
    }
   ],
   "source": [
    "n100_pv"
   ]
  },
  {
   "cell_type": "markdown",
   "metadata": {},
   "source": [
    "## NEXT envelop"
   ]
  },
  {
   "cell_type": "markdown",
   "metadata": {},
   "source": [
    "An envelop of NEXT dimensions filled with vacuum that can be used to compute gamma fluxes"
   ]
  },
  {
   "cell_type": "code",
   "execution_count": 16,
   "metadata": {},
   "outputs": [
    {
     "data": {
      "text/plain": [
       "\n",
       "        Cylindrical Vessel:\n",
       "\n",
       "        ----------------\n",
       "        name      = Next100PV\n",
       "        material  = vacuum\n",
       "\n",
       "        specific activity of material:\n",
       "        Bi-214    =    0.00 mBq/kg\n",
       "        Tl-208    =    0.00 mBq/kg\n",
       "\n",
       "        body:\n",
       "        R         =  680.00 mm\n",
       "        thickness =   10.00 mm\n",
       "        length    = 1600.00 mm\n",
       "        surface   = 6.84e+06 mm2\n",
       "        volume    = 6.89e+07 mm3\n",
       "        mass      =    0.00 kg\n",
       "        activity Bi-214 =    0.00 mBq, self-shielded =   0.00 mBq\n",
       "        activity Tl-208 =    0.00 mBq, self-shielded =   0.00 mBq\n",
       "        transmittance   = 1.00e+00\n",
       "\n",
       "        heads:\n",
       "        thickness =   12.00 mm\n",
       "        surface   = 2.91e+06 mm2\n",
       "        volume    = 3.49e+07 mm3\n",
       "        mass      =    0.00 kg\n",
       "        activity Bi-214 =    0.00 mBq, self-shielded =   0.00 mBq\n",
       "        activity Tl-208 =    0.00 mBq, self-shielded =   0.00 mBq\n",
       "        transmittance   = 1.00e+00\n",
       "\n",
       "        "
      ]
     },
     "execution_count": 16,
     "metadata": {},
     "output_type": "execute_result"
    }
   ],
   "source": [
    "n100_envelop = CylindricalVessel(name='Next100Envelop', material=vacuum, cvd=cvd_pv)\n",
    "n100_envelop"
   ]
  },
  {
   "cell_type": "markdown",
   "metadata": {},
   "source": [
    "##  Lead Castle"
   ]
  },
  {
   "cell_type": "code",
   "execution_count": 17,
   "metadata": {
    "collapsed": true
   },
   "outputs": [],
   "source": [
    "cvd_pb = CVD(name    ='PBShield', \n",
    "             R       =  n100d.pb_inner_diameter, \n",
    "             th_body = n100d.pb_body_thickness, \n",
    "             L       = n100d.pb_length, \n",
    "             th_head = n100d.pb_head_thickness)"
   ]
  },
  {
   "cell_type": "code",
   "execution_count": 18,
   "metadata": {},
   "outputs": [
    {
     "data": {
      "text/plain": [
       "\n",
       "        Cylindrical Vessel:\n",
       "\n",
       "        ----------------\n",
       "        name      = PBShield\n",
       "        material  = Pb\n",
       "\n",
       "        specific activity of material:\n",
       "        Bi-214    =    0.37 mBq/kg\n",
       "        Tl-208    =    0.07 mBq/kg\n",
       "\n",
       "        body:\n",
       "        R         = 1370.00 mm\n",
       "        thickness =  200.00 mm\n",
       "        length    = 1600.00 mm\n",
       "        surface   = 1.38e+07 mm2\n",
       "        volume    = 2.96e+09 mm3\n",
       "        mass      = 33487.07 kg\n",
       "        activity Bi-214 = 12390.21 mBq, self-shielded = 368.65 mBq\n",
       "        activity Tl-208 = 2444.56 mBq, self-shielded =  72.73 mBq\n",
       "        transmittance   = 4.68e-05\n",
       "\n",
       "        heads:\n",
       "        thickness =  200.00 mm\n",
       "        surface   = 1.18e+07 mm2\n",
       "        volume    = 2.36e+09 mm3\n",
       "        mass      = 26722.74 kg\n",
       "        activity Bi-214 = 4943.71 mBq, self-shielded = 157.83 mBq\n",
       "        activity Tl-208 =  975.38 mBq, self-shielded =  31.14 mBq\n",
       "        transmittance   = 4.68e-05\n",
       "\n",
       "        "
      ]
     },
     "execution_count": 18,
     "metadata": {},
     "output_type": "execute_result"
    }
   ],
   "source": [
    "n100_pb = CylindricalVessel(name='Next100Pb', material=pb, cvd=cvd_pb)\n",
    "n100_pb"
   ]
  },
  {
   "cell_type": "markdown",
   "metadata": {},
   "source": [
    "##  ICS (aka, CS, CU)"
   ]
  },
  {
   "cell_type": "code",
   "execution_count": 19,
   "metadata": {},
   "outputs": [
    {
     "data": {
      "text/plain": [
       "CVD(name='CUShield', R=1240.0, th_body=120.0, L=1600.0, th_head=120.0)"
      ]
     },
     "execution_count": 19,
     "metadata": {},
     "output_type": "execute_result"
    }
   ],
   "source": [
    "cvd_cu = CVD(name    ='CUShield', \n",
    "             R       = n100d.cs_inner_diameter, \n",
    "             th_body = n100d.cs_body_thickness, \n",
    "             L       = n100d.cs_length, \n",
    "             th_head = n100d.cs_head_thickness)\n",
    "cvd_cu"
   ]
  },
  {
   "cell_type": "code",
   "execution_count": 20,
   "metadata": {},
   "outputs": [
    {
     "data": {
      "text/plain": [
       "\n",
       "        Cylindrical Vessel:\n",
       "\n",
       "        ----------------\n",
       "        name      = CUShield\n",
       "        material  = CuUpperLimits\n",
       "\n",
       "        specific activity of material:\n",
       "        Bi-214    =    0.01 mBq/kg\n",
       "        Tl-208    =    0.00 mBq/kg\n",
       "\n",
       "        body:\n",
       "        R         = 1240.00 mm\n",
       "        thickness =  120.00 mm\n",
       "        length    = 1600.00 mm\n",
       "        surface   = 1.25e+07 mm2\n",
       "        volume    = 1.57e+09 mm3\n",
       "        mass      = 14051.82 kg\n",
       "        activity Bi-214 =  168.62 mBq, self-shielded =  12.12 mBq\n",
       "        activity Tl-208 =   19.67 mBq, self-shielded =   1.41 mBq\n",
       "        transmittance   = 1.51e-02\n",
       "\n",
       "        heads:\n",
       "        thickness =  120.00 mm\n",
       "        surface   = 9.66e+06 mm2\n",
       "        volume    = 1.16e+09 mm3\n",
       "        mass      = 10387.53 kg\n",
       "        activity Bi-214 =   62.33 mBq, self-shielded =   4.70 mBq\n",
       "        activity Tl-208 =    7.27 mBq, self-shielded =   0.55 mBq\n",
       "        transmittance   = 1.51e-02\n",
       "\n",
       "        "
      ]
     },
     "execution_count": 20,
     "metadata": {},
     "output_type": "execute_result"
    }
   ],
   "source": [
    "n100_cu = CylindricalVessel(name='Next100CU', material=cu12, cvd=cvd_cu)\n",
    "n100_cu"
   ]
  }
 ],
 "metadata": {
  "kernelspec": {
   "display_name": "Python 3",
   "language": "python",
   "name": "python3"
  },
  "language_info": {
   "codemirror_mode": {
    "name": "ipython",
    "version": 3
   },
   "file_extension": ".py",
   "mimetype": "text/x-python",
   "name": "python",
   "nbconvert_exporter": "python",
   "pygments_lexer": "ipython3",
   "version": "3.6.2"
  }
 },
 "nbformat": 4,
 "nbformat_minor": 2
}
